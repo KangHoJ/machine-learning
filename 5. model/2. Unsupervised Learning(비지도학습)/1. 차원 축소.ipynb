{
 "cells": [
  {
   "cell_type": "markdown",
   "id": "edbddc45-8d2b-47ae-a33a-d16647bcf870",
   "metadata": {
    "jp-MarkdownHeadingCollapsed": true,
    "tags": []
   },
   "source": [
    "## 기본 설정"
   ]
  },
  {
   "cell_type": "code",
   "execution_count": 5,
   "id": "d3a66080-f843-4d02-89a5-7a22ef922472",
   "metadata": {},
   "outputs": [
    {
     "name": "stdout",
     "output_type": "stream",
     "text": [
      "C:\\Users\\User\\Desktop\\boot camp\n"
     ]
    }
   ],
   "source": [
    "%cd C:\\\\Users\\\\User\\\\Desktop\\\\boot camp"
   ]
  },
  {
   "cell_type": "code",
   "execution_count": 6,
   "id": "2d6313ed-8fce-4029-84db-2a954ae5ad2b",
   "metadata": {
    "tags": []
   },
   "outputs": [],
   "source": [
    "import logging\n",
    "\n",
    "logging.getLogger('matplotlib.font_manager').setLevel(logging.ERROR)"
   ]
  },
  {
   "cell_type": "code",
   "execution_count": 7,
   "id": "04afc925-80ab-4851-ab18-3f0320fdd99a",
   "metadata": {},
   "outputs": [],
   "source": [
    "import mglearn\n",
    "\n",
    "from sklearn.model_selection import train_test_split "
   ]
  },
  {
   "cell_type": "code",
   "execution_count": 8,
   "id": "338cfc4d-993b-4d07-8551-869404524b52",
   "metadata": {},
   "outputs": [],
   "source": [
    "import pandas as pd\n",
    "import numpy as np\n",
    "\n",
    "import matplotlib.pyplot as plt\n",
    "import matplotlib as mpl\n",
    "# import matplotlib.font_manager as fm\n",
    "import seaborn as sns\n",
    "\n",
    "# 브라우저에서 바로 그려지도록 \n",
    "%matplotlib inline\n",
    "\n",
    "# 그래프에 retina display 적용\n",
    "%config InlineBackend.figure_format = 'retina'\n",
    "\n",
    "# Colab 의 한글 폰트 설정\n",
    "plt.rc('font', family='NanumBarunGothic') \n",
    "\n",
    "# 유니코드에서  음수 부호설정\n",
    "mpl.rc('axes', unicode_minus=False)"
   ]
  },
  {
   "cell_type": "code",
   "execution_count": 9,
   "id": "c87c23b6-60f5-4d1c-b0b7-515a566c0e3b",
   "metadata": {},
   "outputs": [
    {
     "name": "stdout",
     "output_type": "stream",
     "text": [
      "C:\\Users\\User\\Desktop\\boot camp\n"
     ]
    }
   ],
   "source": [
    "%cd C:\\\\Users\\\\User\\\\Desktop\\\\boot camp"
   ]
  },
  {
   "cell_type": "code",
   "execution_count": 10,
   "id": "bab9aa09-6f5f-47de-b280-a7f45d348d7b",
   "metadata": {
    "tags": []
   },
   "outputs": [],
   "source": [
    "import numpy as np \n",
    "import pandas as pd\n",
    "\n",
    "import matplotlib.pyplot as plt\n",
    "import seaborn as sns\n",
    "\n",
    "plt.style.use('fivethirtyeight')\n",
    "plt.ion()\n",
    "\n",
    "import warnings\n",
    "warnings.filterwarnings('ignore')"
   ]
  },
  {
   "cell_type": "code",
   "execution_count": 11,
   "id": "2422e0eb-e933-4826-9718-465c650ae6ba",
   "metadata": {
    "collapsed": true,
    "jupyter": {
     "outputs_hidden": true
    },
    "tags": []
   },
   "outputs": [
    {
     "name": "stdout",
     "output_type": "stream",
     "text": [
      "NanumGothic\n",
      "NanumSquare Neo OTF Bold\n",
      "NanumBarunGothic\n",
      "NanumMyeongjo Eco\n",
      "NanumSquare\n",
      "NanumBarunGothic\n",
      "NanumSquare_ac\n",
      "NanumMyeongjoOTF YetHangul\n",
      "NanumBarunGothicOTF\n",
      "NanumSquareOTF_ac\n",
      "D2Coding ligature\n",
      "NanumSquareOTF\n",
      "NanumSquareOTF_ac\n",
      "NanumBarunpenOTF\n",
      "NanumSquare\n",
      "NanumSquare Neo OTF ExtraBold\n",
      "NanumMyeongjo\n",
      "NanumMyeongjo YetHangul\n",
      "D2Coding ligature\n",
      "NanumBarunpen\n",
      "NanumSquare Neo OTF Regular\n",
      "NanumBarunGothicOTF\n",
      "NanumSquare Neo Heavy\n",
      "NanumSquareOTF_ac\n",
      "Nanum Pen Script OTF\n",
      "NanumSquare_ac\n",
      "NanumBarunGothic\n",
      "NanumGothicOTF Eco\n",
      "Nanum Brush Script OTF\n",
      "NanumGothicOTF\n",
      "NanumSquareOTF\n",
      "NanumBarunGothic YetHangul\n",
      "Nanum Brush Script\n",
      "NanumBarunpenOTF\n",
      "Noto Sans KR\n",
      "NanumBarunGothicOTF\n",
      "NanumSquare\n",
      "NanumMyeongjo Eco\n",
      "NanumSquare Neo OTF Light\n",
      "NanumGothic Eco\n",
      "NanumSquare Neo Light\n",
      "NanumSquare Neo Bold\n",
      "NanumGothic\n",
      "NanumMyeongjoOTF Eco\n",
      "Noto Sans KR\n",
      "NanumSquare_ac\n",
      "NanumSquareOTF_ac\n",
      "Noto Sans KR\n",
      "D2Coding\n",
      "NanumGothicOTF\n",
      "NanumSquare_ac\n",
      "NanumMyeongjo\n",
      "NanumSquare Neo OTF Heavy\n",
      "NanumSquareRound\n",
      "NanumSquareRoundOTF\n",
      "NanumGothicOTF Eco\n",
      "NanumMyeongjoOTF\n",
      "NanumMyeongjoOTF Eco\n",
      "NanumGothicOTF Eco\n",
      "NanumGothic Eco\n",
      "NanumSquare Neo ExtraBold\n",
      "Noto Sans KR\n",
      "NanumBarunGothicOTF YetHangul\n",
      "Noto Sans KR\n",
      "NanumBarunGothicOTF\n",
      "NanumBarunpen\n",
      "NanumMyeongjo Eco\n",
      "NanumSquareRound\n",
      "NanumMyeongjoOTF Eco\n",
      "NanumSquareRound\n",
      "NanumSquare Neo Regular\n",
      "NanumGothic Eco\n",
      "NanumGothic\n",
      "NanumGothic\n",
      "Noto Sans KR\n",
      "NanumSquareRoundOTF\n",
      "Nanum Pen Script\n",
      "NanumMyeongjo\n",
      "NanumSquareRoundOTF\n",
      "D2Coding ligature\n",
      "NanumMyeongjoOTF\n",
      "NanumBarunGothic\n",
      "NanumSquareRoundOTF\n",
      "NanumSquareOTF\n",
      "NanumSquareOTF\n",
      "NanumGothicOTF\n",
      "NanumGothicOTF\n",
      "NanumSquareRound\n",
      "NanumMyeongjoOTF\n",
      "NanumSquare\n"
     ]
    }
   ],
   "source": [
    "import matplotlib as mpl\n",
    "# Add every font at the specified location\n",
    "font_dir = ['./fonts']\n",
    "for font in mpl.font_manager.findSystemFonts(fontpaths=font_dir):\n",
    " print(mpl.font_manager.FontProperties(fname=font).get_name())\n",
    " mpl.font_manager.fontManager.addfont(font)"
   ]
  },
  {
   "cell_type": "code",
   "execution_count": 12,
   "id": "7aae320e-408c-4cf5-b8ce-07b1ef289139",
   "metadata": {
    "collapsed": true,
    "jupyter": {
     "outputs_hidden": true
    },
    "tags": []
   },
   "outputs": [
    {
     "name": "stdout",
     "output_type": "stream",
     "text": [
      "['C:\\\\Windows\\\\Fonts\\\\Sitka.ttc', 'C:\\\\Windows\\\\Fonts\\\\HMFMPYUN.TTF', 'C:\\\\Windows\\\\Fonts\\\\YuGothM.ttc', 'C:\\\\Windows\\\\Fonts\\\\msgothic.ttc', 'C:\\\\Windows\\\\Fonts\\\\mmrtextb.ttf', 'C:\\\\Windows\\\\Fonts\\\\comicbd.ttf', 'C:\\\\Windows\\\\Fonts\\\\HanSantteutDotum-Regular.ttf', 'C:\\\\Windows\\\\Fonts\\\\calibril.ttf', 'C:\\\\Windows\\\\Fonts\\\\HANBatangExtB.ttf', 'C:\\\\Windows\\\\Fonts\\\\HANBatang.ttf', 'C:\\\\Windows\\\\Fonts\\\\seguisym.ttf', 'C:\\\\Windows\\\\Fonts\\\\palab.ttf', 'C:\\\\Windows\\\\Fonts\\\\segoeuii.ttf', 'C:\\\\Windows\\\\Fonts\\\\verdanai.ttf', 'C:\\\\Windows\\\\Fonts\\\\HYHWPEQ.TTF', 'C:\\\\Windows\\\\Fonts\\\\GARAIT.TTF', 'C:\\\\Windows\\\\Fonts\\\\trebuc.ttf', 'C:\\\\Windows\\\\Fonts\\\\timesbd.ttf', 'C:\\\\Windows\\\\Fonts\\\\msyi.ttf', 'C:\\\\Windows\\\\Fonts\\\\phagspab.ttf', 'C:\\\\Windows\\\\Fonts\\\\gadugib.ttf', 'C:\\\\Windows\\\\Fonts\\\\himalaya.ttf', 'C:\\\\Windows\\\\Fonts\\\\taileb.ttf', 'C:\\\\Windows\\\\Fonts\\\\msjhl.ttc', 'C:\\\\Windows\\\\Fonts\\\\palai.ttf', 'C:\\\\Windows\\\\Fonts\\\\calibrib.ttf', 'C:\\\\Windows\\\\Fonts\\\\simsunb.ttf', 'C:\\\\Windows\\\\Fonts\\\\ARIALNBI.TTF', 'C:\\\\Windows\\\\Fonts\\\\Gabriola.ttf', 'C:\\\\Users\\\\User\\\\AppData\\\\Local\\\\Microsoft\\\\Windows\\\\Fonts\\\\Cafe24Ohsquare.ttf', 'C:\\\\Windows\\\\Fonts\\\\Hancom HMJE_V.ttf', 'C:\\\\Windows\\\\Fonts\\\\HANDotum.ttf', 'C:\\\\Windows\\\\Fonts\\\\ariali.ttf', 'C:\\\\Windows\\\\Fonts\\\\trebucit.ttf', 'C:\\\\Windows\\\\Fonts\\\\LeelawUI.ttf', 'C:\\\\Windows\\\\Fonts\\\\msjhbd.ttc', 'C:\\\\Windows\\\\Fonts\\\\HMKMRHD.TTF', 'C:\\\\Windows\\\\Fonts\\\\GARA.TTF', 'C:\\\\Windows\\\\Fonts\\\\HMKMAMI.TTF', 'C:\\\\Windows\\\\Fonts\\\\seguibli.ttf', 'C:\\\\Windows\\\\Fonts\\\\ANTQUABI.TTF', 'C:\\\\Windows\\\\Fonts\\\\Nirmala.ttf', 'C:\\\\Windows\\\\Fonts\\\\webdings.ttf', 'C:\\\\Windows\\\\Fonts\\\\GOTHICBI.TTF', 'C:\\\\Windows\\\\Fonts\\\\georgia.ttf', 'C:\\\\Windows\\\\Fonts\\\\DUBAI-LIGHT.TTF', 'C:\\\\Windows\\\\Fonts\\\\l_10646.ttf', 'C:\\\\Windows\\\\Fonts\\\\monbaiti.ttf', 'C:\\\\Windows\\\\Fonts\\\\HMFMOLD.TTF', 'C:\\\\Windows\\\\Fonts\\\\NGULIM.TTF', 'C:\\\\Windows\\\\Fonts\\\\Hancom Gothic Regular.ttf', 'C:\\\\Windows\\\\Fonts\\\\YuGothB.ttc', 'C:\\\\Windows\\\\Fonts\\\\H2PORL.TTF', 'C:\\\\Windows\\\\Fonts\\\\seguihis.ttf', 'C:\\\\Windows\\\\Fonts\\\\BOOKOSI.TTF', 'C:\\\\Windows\\\\Fonts\\\\HancomHoonminjeongeumH.ttf', 'C:\\\\Windows\\\\Fonts\\\\GOTHICB.TTF', 'C:\\\\Windows\\\\Fonts\\\\cambria.ttc', 'C:\\\\Windows\\\\Fonts\\\\Candara.ttf', 'C:\\\\Windows\\\\Fonts\\\\tahoma.ttf', 'C:\\\\Windows\\\\Fonts\\\\wingding.ttf', 'C:\\\\Windows\\\\Fonts\\\\LeelUIsl.ttf', 'C:\\\\Windows\\\\Fonts\\\\calibri.ttf', 'C:\\\\Windows\\\\Fonts\\\\Candarab.ttf', 'C:\\\\Windows\\\\Fonts\\\\GOTHICI.TTF', 'C:\\\\Windows\\\\Fonts\\\\gadugi.ttf', 'C:\\\\Windows\\\\Fonts\\\\corbelli.ttf', 'C:\\\\Windows\\\\Fonts\\\\ARIALNB.TTF', 'C:\\\\Windows\\\\Fonts\\\\HMKMMAG.TTF', 'C:\\\\Windows\\\\Fonts\\\\ebrimabd.ttf', 'C:\\\\Windows\\\\Fonts\\\\SitkaZ.ttc', 'C:\\\\Windows\\\\Fonts\\\\pala.ttf', 'C:\\\\Windows\\\\Fonts\\\\comic.ttf', 'C:\\\\Windows\\\\Fonts\\\\mvboli.ttf', 'C:\\\\Windows\\\\Fonts\\\\verdanab.ttf', 'C:\\\\Windows\\\\Fonts\\\\ntailu.ttf', 'C:\\\\Windows\\\\Fonts\\\\WINGDNG3.TTF', 'C:\\\\Windows\\\\Fonts\\\\cambriaz.ttf', 'C:\\\\Windows\\\\Fonts\\\\corbell.ttf', 'C:\\\\Windows\\\\Fonts\\\\BOOKOSBI.TTF', 'C:\\\\Windows\\\\Fonts\\\\segoeui.ttf', 'C:\\\\Windows\\\\Fonts\\\\Candarali.ttf', 'C:\\\\Windows\\\\Fonts\\\\mmrtext.ttf', 'C:\\\\Windows\\\\Fonts\\\\HMFMMUEX.TTC', 'C:\\\\Windows\\\\Fonts\\\\HanSantteutDotum-Bold.ttf', 'C:\\\\Windows\\\\Fonts\\\\holomdl2.ttf', 'C:\\\\Windows\\\\Fonts\\\\seguisbi.ttf', 'C:\\\\Windows\\\\Fonts\\\\malgunbd.ttf', 'C:\\\\Windows\\\\Fonts\\\\marlett.ttf', 'C:\\\\Windows\\\\Fonts\\\\CENTURY.TTF', 'C:\\\\Windows\\\\Fonts\\\\taile.ttf', 'C:\\\\Windows\\\\Fonts\\\\msyhbd.ttc', 'C:\\\\Windows\\\\Fonts\\\\MTEXTRA.TTF', 'C:\\\\Windows\\\\Fonts\\\\REFSAN.TTF', 'C:\\\\Windows\\\\Fonts\\\\corbeli.ttf', 'C:\\\\Windows\\\\Fonts\\\\ariblk.ttf', 'C:\\\\Windows\\\\Fonts\\\\BKANT.TTF', 'C:\\\\Windows\\\\Fonts\\\\HANBatangExt.ttf', 'C:\\\\Windows\\\\Fonts\\\\GARABD.TTF', 'C:\\\\Windows\\\\Fonts\\\\H2GTRE.TTF', 'C:\\\\Windows\\\\Fonts\\\\H2GTRM.TTF', 'C:\\\\Windows\\\\Fonts\\\\BOOKOSB.TTF', 'C:\\\\Windows\\\\Fonts\\\\msyhl.ttc', 'C:\\\\Windows\\\\Fonts\\\\HANWing2.ttf', 'C:\\\\Windows\\\\Fonts\\\\batang.ttc', 'C:\\\\Windows\\\\Fonts\\\\segoeuiz.ttf', 'C:\\\\Windows\\\\Fonts\\\\DUBAI-REGULAR.TTF', 'C:\\\\Windows\\\\Fonts\\\\segoeuib.ttf', 'C:\\\\Windows\\\\Fonts\\\\HANBatangExtBB.ttf', 'C:\\\\Windows\\\\Fonts\\\\ARIALN.TTF', 'C:\\\\Windows\\\\Fonts\\\\phagspa.ttf', 'C:\\\\Windows\\\\Fonts\\\\framdit.ttf', 'C:\\\\Windows\\\\Fonts\\\\constanb.ttf', 'C:\\\\Windows\\\\Fonts\\\\H2GPRM.TTF', 'C:\\\\Windows\\\\Fonts\\\\courbd.ttf', 'C:\\\\Windows\\\\Fonts\\\\calibrii.ttf', 'C:\\\\Windows\\\\Fonts\\\\arial.ttf', 'C:\\\\Windows\\\\Fonts\\\\ARIALNI.TTF', 'C:\\\\Windows\\\\Fonts\\\\MSUIGHUB.TTF', 'C:\\\\Windows\\\\Fonts\\\\trebucbd.ttf', 'C:\\\\Windows\\\\Fonts\\\\courbi.ttf', 'C:\\\\Windows\\\\Fonts\\\\palabi.ttf', 'C:\\\\Windows\\\\Fonts\\\\NirmalaS.ttf', 'C:\\\\Windows\\\\Fonts\\\\javatext.ttf', 'C:\\\\Windows\\\\Fonts\\\\H2GSRB.TTF', 'C:\\\\Windows\\\\Fonts\\\\BSSYM7.TTF', 'C:\\\\Windows\\\\Fonts\\\\HancomEQN.ttf', 'C:\\\\Windows\\\\Fonts\\\\segoeuil.ttf', 'C:\\\\Windows\\\\Fonts\\\\corbel.ttf', 'C:\\\\Windows\\\\Fonts\\\\seguiemj.ttf', 'C:\\\\Windows\\\\Fonts\\\\timesbi.ttf', 'C:\\\\Windows\\\\Fonts\\\\SitkaI.ttc', 'C:\\\\Windows\\\\Fonts\\\\constanz.ttf', 'C:\\\\Windows\\\\Fonts\\\\H2HDRM.TTF', 'C:\\\\Windows\\\\Fonts\\\\corbelz.ttf', 'C:\\\\Windows\\\\Fonts\\\\segoeprb.ttf', 'C:\\\\Windows\\\\Fonts\\\\LEELAWDB.TTF', 'C:\\\\Windows\\\\Fonts\\\\consolaz.ttf', 'C:\\\\Windows\\\\Fonts\\\\HANDotumExt.ttf', 'C:\\\\Windows\\\\Fonts\\\\arialbi.ttf', 'C:\\\\Windows\\\\Fonts\\\\JUMJA.TTF', 'C:\\\\Windows\\\\Fonts\\\\H2MJSM.TTF', 'C:\\\\Windows\\\\Fonts\\\\seguili.ttf', 'C:\\\\Windows\\\\Fonts\\\\consola.ttf', 'C:\\\\Windows\\\\Fonts\\\\WINGDNG2.TTF', 'C:\\\\Windows\\\\Fonts\\\\trebucbi.ttf', 'C:\\\\Windows\\\\Fonts\\\\georgiab.ttf', 'C:\\\\Windows\\\\Fonts\\\\SitkaB.ttc', 'C:\\\\Windows\\\\Fonts\\\\seguisli.ttf', 'C:\\\\Windows\\\\Fonts\\\\cambriab.ttf', 'C:\\\\Windows\\\\Fonts\\\\calibrili.ttf', 'C:\\\\Windows\\\\Fonts\\\\MalangmalangR.ttf', 'C:\\\\Windows\\\\Fonts\\\\verdanaz.ttf', 'C:\\\\Windows\\\\Fonts\\\\constani.ttf', 'C:\\\\Windows\\\\Fonts\\\\georgiaz.ttf', 'C:\\\\Windows\\\\Fonts\\\\msjh.ttc', 'C:\\\\Windows\\\\Fonts\\\\H2PORM.TTF', 'C:\\\\Windows\\\\Fonts\\\\ebrima.ttf', 'C:\\\\Windows\\\\Fonts\\\\consolab.ttf', 'C:\\\\Windows\\\\Fonts\\\\REFSPCL.TTF', 'C:\\\\Windows\\\\Fonts\\\\verdana.ttf', 'C:\\\\Windows\\\\Fonts\\\\YuGothL.ttc', 'C:\\\\Windows\\\\Fonts\\\\msyh.ttc', 'C:\\\\Windows\\\\Fonts\\\\LeelaUIb.ttf', 'C:\\\\Windows\\\\Fonts\\\\NirmalaB.ttf', 'C:\\\\Windows\\\\Fonts\\\\cambriai.ttf', 'C:\\\\Windows\\\\Fonts\\\\segoesc.ttf', 'C:\\\\Windows\\\\Fonts\\\\times.ttf', 'C:\\\\Windows\\\\Fonts\\\\MSUIGHUR.TTF', 'C:\\\\Windows\\\\Fonts\\\\mingliub.ttc', 'C:\\\\Windows\\\\Fonts\\\\BOOKOS.TTF', 'C:\\\\Windows\\\\Fonts\\\\framd.ttf', 'C:\\\\Windows\\\\Fonts\\\\ANTQUAB.TTF', 'C:\\\\Windows\\\\Fonts\\\\calibriz.ttf', 'C:\\\\Windows\\\\Fonts\\\\seguibl.ttf', 'C:\\\\Windows\\\\Fonts\\\\Candarai.ttf', 'C:\\\\Windows\\\\Fonts\\\\tahomabd.ttf', 'C:\\\\Windows\\\\Fonts\\\\seguisb.ttf', 'C:\\\\Windows\\\\Fonts\\\\georgiai.ttf', 'C:\\\\Windows\\\\Fonts\\\\couri.ttf', 'C:\\\\Windows\\\\Fonts\\\\MalangmalangB.ttf', 'C:\\\\Windows\\\\Fonts\\\\malgunsl.ttf', 'C:\\\\Windows\\\\Fonts\\\\HANBatangB.ttf', 'C:\\\\Windows\\\\Fonts\\\\Candaraz.ttf', 'C:\\\\Windows\\\\Fonts\\\\corbelb.ttf', 'C:\\\\Windows\\\\Fonts\\\\arialbd.ttf', 'C:\\\\Windows\\\\Fonts\\\\H2MKPB.TTF', 'C:\\\\Windows\\\\Fonts\\\\MTCORSVA.TTF', 'C:\\\\Windows\\\\Fonts\\\\simsun.ttc', 'C:\\\\Windows\\\\Fonts\\\\symbol.ttf', 'C:\\\\Windows\\\\Fonts\\\\segoepr.ttf', 'C:\\\\Windows\\\\Fonts\\\\Hancom Gothic Bold.ttf', 'C:\\\\Windows\\\\Fonts\\\\DUBAI-BOLD.TTF', 'C:\\\\Windows\\\\Fonts\\\\sylfaen.ttf', 'C:\\\\Windows\\\\Fonts\\\\ntailub.ttf', 'C:\\\\Windows\\\\Fonts\\\\comici.ttf', 'C:\\\\Windows\\\\Fonts\\\\impact.ttf', 'C:\\\\Windows\\\\Fonts\\\\micross.ttf', 'C:\\\\Windows\\\\Fonts\\\\malgun.ttf', 'C:\\\\Windows\\\\Fonts\\\\segoescb.ttf', 'C:\\\\Windows\\\\Fonts\\\\lucon.ttf', 'C:\\\\Windows\\\\Fonts\\\\Candaral.ttf', 'C:\\\\Windows\\\\Fonts\\\\GOTHIC.TTF', 'C:\\\\Windows\\\\Fonts\\\\consolai.ttf', 'C:\\\\Windows\\\\Fonts\\\\DUBAI-MEDIUM.TTF', 'C:\\\\Windows\\\\Fonts\\\\comicz.ttf', 'C:\\\\Windows\\\\Fonts\\\\gulim.ttc', 'C:\\\\Windows\\\\Fonts\\\\constan.ttf', 'C:\\\\Windows\\\\Fonts\\\\bahnschrift.ttf', 'C:\\\\Windows\\\\Fonts\\\\cour.ttf', 'C:\\\\Windows\\\\Fonts\\\\YuGothR.ttc', 'C:\\\\Windows\\\\Fonts\\\\segoeuisl.ttf', 'C:\\\\Windows\\\\Fonts\\\\H2SA1M.TTF', 'C:\\\\Windows\\\\Fonts\\\\H2MJRE.TTF', 'C:\\\\Windows\\\\Fonts\\\\LEELAWAD.TTF', 'C:\\\\Windows\\\\Fonts\\\\segmdl2.ttf', 'C:\\\\Windows\\\\Fonts\\\\HANDotumB.ttf', 'C:\\\\Windows\\\\Fonts\\\\timesi.ttf', 'C:\\\\Windows\\\\Fonts\\\\ANTQUAI.TTF', 'C:\\\\Windows\\\\Fonts\\\\Inkfree.ttf']\n"
     ]
    }
   ],
   "source": [
    "# 시스템 폰트 경로 리스트\n",
    "font_list = mpl.font_manager.findSystemFonts()\n",
    "print(font_list)\n",
    "# 폰트 설정하기\n",
    "prop = mpl.font_manager.FontProperties(fname='원하는 폰트 경로')\n",
    "plt.rcParams['font.family'] = prop.get_family()"
   ]
  },
  {
   "cell_type": "code",
   "execution_count": 13,
   "id": "25909f75-588b-475f-b3cb-f2e944d644bf",
   "metadata": {},
   "outputs": [
    {
     "name": "stdout",
     "output_type": "stream",
     "text": [
      "['Noto Sans KR']\n"
     ]
    }
   ],
   "source": [
    "# Set font family globally\n",
    "mpl.rcParams['font.family'] = 'Noto Sans KR'\n",
    "print(mpl.rcParams['font.family'])"
   ]
  },
  {
   "cell_type": "markdown",
   "id": "4e570872-4b36-47b4-a98e-7a73c3618456",
   "metadata": {
    "tags": []
   },
   "source": [
    "# 차원의 저주\n",
    "- 차원이 늘어나서 빈공간이 많아지는 현상\n",
    "- KNN같은 알고리즘은 성능저하가 매우 심각해짐"
   ]
  },
  {
   "cell_type": "code",
   "execution_count": 15,
   "id": "14eca415-1843-4ca5-9122-b27683ebfee1",
   "metadata": {},
   "outputs": [],
   "source": [
    "from sklearn.neighbors import KNeighborsClassifier\n",
    "from sklearn.preprocessing import OneHotEncoder"
   ]
  },
  {
   "cell_type": "code",
   "execution_count": 17,
   "id": "51d26890-7ae0-4fec-8fa1-c912ae6e900a",
   "metadata": {},
   "outputs": [],
   "source": [
    "X , y = mglearn.datasets.make_forge()\n",
    "X_tr , X_te , y_tr, y_te = train_test_split(X,y,random_state=0)\n"
   ]
  },
  {
   "cell_type": "code",
   "execution_count": 18,
   "id": "3a370d23-fa85-45ce-bab6-e7d50c7b1e59",
   "metadata": {},
   "outputs": [
    {
     "name": "stdout",
     "output_type": "stream",
     "text": [
      "훈련용 평가지표: 0.9473684210526315 / 테스트용 평가지표: 0.8571428571428571\n"
     ]
    }
   ],
   "source": [
    "clf = KNeighborsClassifier(n_neighbors=3).fit(X_tr,y_tr)\n",
    "print(f'훈련용 평가지표: {clf.score(X_tr, y_tr)} / 테스트용 평가지표: {clf.score(X_te, y_te)}')"
   ]
  },
  {
   "cell_type": "code",
   "execution_count": 19,
   "id": "92da6755-631b-497d-9a5f-ccc15aaaf9b8",
   "metadata": {},
   "outputs": [
    {
     "name": "stdout",
     "output_type": "stream",
     "text": [
      "before: (26, 2)\n",
      "after:(26, 52)\n"
     ]
    }
   ],
   "source": [
    "print(f'before: {X.shape}')\n",
    "enc = OneHotEncoder()  \n",
    "X_enc = enc.fit_transform(X) # 일부로 차원을 늘려지는 모델을 만듬\n",
    "print(f'after:{X_enc.shape}')"
   ]
  },
  {
   "cell_type": "code",
   "execution_count": 20,
   "id": "e4c28c9e-d884-4cb1-ab34-ae81d64b904e",
   "metadata": {},
   "outputs": [],
   "source": [
    "X_tr_enc , X_te_enc , y_tr , y_te = train_test_split(X_enc , y , random_state=0)"
   ]
  },
  {
   "cell_type": "code",
   "execution_count": 21,
   "id": "114b9ed0-6b38-4aff-8043-4528d84ffc34",
   "metadata": {},
   "outputs": [
    {
     "name": "stdout",
     "output_type": "stream",
     "text": [
      "훈련용 평가지표: 0.9473684210526315 / 테스트용 평가지표: 0.42857142857142855\n"
     ]
    }
   ],
   "source": [
    "clf = KNeighborsClassifier(n_neighbors=3).fit(X_tr_enc, y_tr)\n",
    "print(f'훈련용 평가지표: {clf.score(X_tr_enc, y_tr)} / 테스트용 평가지표: {clf.score(X_te_enc, y_te)}')"
   ]
  },
  {
   "cell_type": "markdown",
   "id": "a9cf0e37-0462-4cb1-b237-9f5b4471ed85",
   "metadata": {},
   "source": [
    "## 데이터 로드"
   ]
  },
  {
   "cell_type": "code",
   "execution_count": 22,
   "id": "e85ddc22-114e-49f6-b31d-5bb5272c48df",
   "metadata": {},
   "outputs": [],
   "source": [
    "import pandas as pd\n",
    "import numpy as np\n",
    "from sklearn.preprocessing import OneHotEncoder\n",
    "from sklearn.model_selection import train_test_split\n",
    "from sklearn.model_selection import cross_val_score\n",
    "from sklearn.model_selection import KFold\n",
    "from lightgbm import LGBMClassifier\n",
    "\n",
    "SEED = 42"
   ]
  },
  {
   "cell_type": "code",
   "execution_count": 30,
   "id": "c1074d19-c931-4a84-a5d7-a8105af7be04",
   "metadata": {},
   "outputs": [
    {
     "data": {
      "text/plain": [
       "Index(['passengerid', 'survived', 'pclass', 'name', 'sex', 'age', 'sibsp',\n",
       "       'parch', 'ticket', 'fare', 'cabin', 'embarked'],\n",
       "      dtype='object')"
      ]
     },
     "execution_count": 30,
     "metadata": {},
     "output_type": "execute_result"
    }
   ],
   "source": [
    "df = pd.read_csv(\"Titanic.csv\")\n",
    "df.columns = [col.lower() for col in df.columns]\n",
    "df.columns"
   ]
  },
  {
   "cell_type": "code",
   "execution_count": 31,
   "id": "3dba9145-67f4-4ec8-bfb1-dc9932eda5e6",
   "metadata": {},
   "outputs": [
    {
     "data": {
      "text/plain": [
       "((891, 11), (891,))"
      ]
     },
     "execution_count": 31,
     "metadata": {},
     "output_type": "execute_result"
    }
   ],
   "source": [
    "y_train = df[\"survived\"] # 정답값\n",
    "df = df.drop('survived', axis=1) # 정답값 제외\n",
    "df.shape, y_train.shape"
   ]
  },
  {
   "cell_type": "code",
   "execution_count": 32,
   "id": "c57fe80c-37a8-4542-a51c-90a0e188c16b",
   "metadata": {},
   "outputs": [],
   "source": [
    "# 결측치 미리 채우기\n",
    "df.age = df.age.fillna(df.age.median()) # age 중앙값\n",
    "df.fare = df.fare.fillna(df.fare.median()) # fare 중앙값\n",
    "df.cabin = df.cabin.fillna(\"UNK\") # cabin 임의의 문자열로 채우기\n",
    "df.embarked = df.embarked.fillna(df.embarked.mode()[0]) # embarked 최빈값"
   ]
  },
  {
   "cell_type": "code",
   "execution_count": 33,
   "id": "db063a3d-2f56-445e-8c4e-ee168069d9be",
   "metadata": {},
   "outputs": [],
   "source": [
    "# 학습에 바로 사용가능한 특성\n",
    "cols = [\"pclass\",\"age\",\"sibsp\",\"parch\",\"fare\"]\n",
    "features = df[cols]"
   ]
  },
  {
   "cell_type": "code",
   "execution_count": 36,
   "id": "a11fc549-9266-4f88-8db9-4e2229c19f24",
   "metadata": {},
   "outputs": [
    {
     "name": "stdout",
     "output_type": "stream",
     "text": [
      "before : (891, 11)\n",
      "after:(891, 839)\n"
     ]
    },
    {
     "data": {
      "text/html": [
       "<div>\n",
       "<style scoped>\n",
       "    .dataframe tbody tr th:only-of-type {\n",
       "        vertical-align: middle;\n",
       "    }\n",
       "\n",
       "    .dataframe tbody tr th {\n",
       "        vertical-align: top;\n",
       "    }\n",
       "\n",
       "    .dataframe thead th {\n",
       "        text-align: right;\n",
       "    }\n",
       "</style>\n",
       "<table border=\"1\" class=\"dataframe\">\n",
       "  <thead>\n",
       "    <tr style=\"text-align: right;\">\n",
       "      <th></th>\n",
       "      <th>pclass</th>\n",
       "      <th>age</th>\n",
       "      <th>sibsp</th>\n",
       "      <th>parch</th>\n",
       "      <th>fare</th>\n",
       "      <th>sex_female</th>\n",
       "      <th>sex_male</th>\n",
       "      <th>embarked_C</th>\n",
       "      <th>embarked_Q</th>\n",
       "      <th>embarked_S</th>\n",
       "      <th>...</th>\n",
       "      <th>cabin_F E69</th>\n",
       "      <th>cabin_F G63</th>\n",
       "      <th>cabin_F G73</th>\n",
       "      <th>cabin_F2</th>\n",
       "      <th>cabin_F33</th>\n",
       "      <th>cabin_F38</th>\n",
       "      <th>cabin_F4</th>\n",
       "      <th>cabin_G6</th>\n",
       "      <th>cabin_T</th>\n",
       "      <th>cabin_UNK</th>\n",
       "    </tr>\n",
       "  </thead>\n",
       "  <tbody>\n",
       "    <tr>\n",
       "      <th>0</th>\n",
       "      <td>3</td>\n",
       "      <td>22.0</td>\n",
       "      <td>1</td>\n",
       "      <td>0</td>\n",
       "      <td>7.2500</td>\n",
       "      <td>0.0</td>\n",
       "      <td>1.0</td>\n",
       "      <td>0.0</td>\n",
       "      <td>0.0</td>\n",
       "      <td>1.0</td>\n",
       "      <td>...</td>\n",
       "      <td>0.0</td>\n",
       "      <td>0.0</td>\n",
       "      <td>0.0</td>\n",
       "      <td>0.0</td>\n",
       "      <td>0.0</td>\n",
       "      <td>0.0</td>\n",
       "      <td>0.0</td>\n",
       "      <td>0.0</td>\n",
       "      <td>0.0</td>\n",
       "      <td>1.0</td>\n",
       "    </tr>\n",
       "    <tr>\n",
       "      <th>1</th>\n",
       "      <td>1</td>\n",
       "      <td>38.0</td>\n",
       "      <td>1</td>\n",
       "      <td>0</td>\n",
       "      <td>71.2833</td>\n",
       "      <td>1.0</td>\n",
       "      <td>0.0</td>\n",
       "      <td>1.0</td>\n",
       "      <td>0.0</td>\n",
       "      <td>0.0</td>\n",
       "      <td>...</td>\n",
       "      <td>0.0</td>\n",
       "      <td>0.0</td>\n",
       "      <td>0.0</td>\n",
       "      <td>0.0</td>\n",
       "      <td>0.0</td>\n",
       "      <td>0.0</td>\n",
       "      <td>0.0</td>\n",
       "      <td>0.0</td>\n",
       "      <td>0.0</td>\n",
       "      <td>0.0</td>\n",
       "    </tr>\n",
       "    <tr>\n",
       "      <th>2</th>\n",
       "      <td>3</td>\n",
       "      <td>26.0</td>\n",
       "      <td>0</td>\n",
       "      <td>0</td>\n",
       "      <td>7.9250</td>\n",
       "      <td>1.0</td>\n",
       "      <td>0.0</td>\n",
       "      <td>0.0</td>\n",
       "      <td>0.0</td>\n",
       "      <td>1.0</td>\n",
       "      <td>...</td>\n",
       "      <td>0.0</td>\n",
       "      <td>0.0</td>\n",
       "      <td>0.0</td>\n",
       "      <td>0.0</td>\n",
       "      <td>0.0</td>\n",
       "      <td>0.0</td>\n",
       "      <td>0.0</td>\n",
       "      <td>0.0</td>\n",
       "      <td>0.0</td>\n",
       "      <td>1.0</td>\n",
       "    </tr>\n",
       "    <tr>\n",
       "      <th>3</th>\n",
       "      <td>1</td>\n",
       "      <td>35.0</td>\n",
       "      <td>1</td>\n",
       "      <td>0</td>\n",
       "      <td>53.1000</td>\n",
       "      <td>1.0</td>\n",
       "      <td>0.0</td>\n",
       "      <td>0.0</td>\n",
       "      <td>0.0</td>\n",
       "      <td>1.0</td>\n",
       "      <td>...</td>\n",
       "      <td>0.0</td>\n",
       "      <td>0.0</td>\n",
       "      <td>0.0</td>\n",
       "      <td>0.0</td>\n",
       "      <td>0.0</td>\n",
       "      <td>0.0</td>\n",
       "      <td>0.0</td>\n",
       "      <td>0.0</td>\n",
       "      <td>0.0</td>\n",
       "      <td>0.0</td>\n",
       "    </tr>\n",
       "    <tr>\n",
       "      <th>4</th>\n",
       "      <td>3</td>\n",
       "      <td>35.0</td>\n",
       "      <td>0</td>\n",
       "      <td>0</td>\n",
       "      <td>8.0500</td>\n",
       "      <td>0.0</td>\n",
       "      <td>1.0</td>\n",
       "      <td>0.0</td>\n",
       "      <td>0.0</td>\n",
       "      <td>1.0</td>\n",
       "      <td>...</td>\n",
       "      <td>0.0</td>\n",
       "      <td>0.0</td>\n",
       "      <td>0.0</td>\n",
       "      <td>0.0</td>\n",
       "      <td>0.0</td>\n",
       "      <td>0.0</td>\n",
       "      <td>0.0</td>\n",
       "      <td>0.0</td>\n",
       "      <td>0.0</td>\n",
       "      <td>1.0</td>\n",
       "    </tr>\n",
       "  </tbody>\n",
       "</table>\n",
       "<p>5 rows × 839 columns</p>\n",
       "</div>"
      ],
      "text/plain": [
       "   pclass   age  sibsp  parch     fare  sex_female  sex_male  embarked_C  \\\n",
       "0       3  22.0      1      0   7.2500         0.0       1.0         0.0   \n",
       "1       1  38.0      1      0  71.2833         1.0       0.0         1.0   \n",
       "2       3  26.0      0      0   7.9250         1.0       0.0         0.0   \n",
       "3       1  35.0      1      0  53.1000         1.0       0.0         0.0   \n",
       "4       3  35.0      0      0   8.0500         0.0       1.0         0.0   \n",
       "\n",
       "   embarked_Q  embarked_S  ...  cabin_F E69  cabin_F G63  cabin_F G73  \\\n",
       "0         0.0         1.0  ...          0.0          0.0          0.0   \n",
       "1         0.0         0.0  ...          0.0          0.0          0.0   \n",
       "2         0.0         1.0  ...          0.0          0.0          0.0   \n",
       "3         0.0         1.0  ...          0.0          0.0          0.0   \n",
       "4         0.0         1.0  ...          0.0          0.0          0.0   \n",
       "\n",
       "   cabin_F2  cabin_F33  cabin_F38  cabin_F4  cabin_G6  cabin_T  cabin_UNK  \n",
       "0       0.0        0.0        0.0       0.0       0.0      0.0        1.0  \n",
       "1       0.0        0.0        0.0       0.0       0.0      0.0        0.0  \n",
       "2       0.0        0.0        0.0       0.0       0.0      0.0        1.0  \n",
       "3       0.0        0.0        0.0       0.0       0.0      0.0        0.0  \n",
       "4       0.0        0.0        0.0       0.0       0.0      0.0        1.0  \n",
       "\n",
       "[5 rows x 839 columns]"
      ]
     },
     "execution_count": 36,
     "metadata": {},
     "output_type": "execute_result"
    }
   ],
   "source": [
    "print(f'before : {df.shape}')\n",
    "cols = ['sex','embarked','ticket','cabin']\n",
    "enc = OneHotEncoder()\n",
    "sparse_features = pd.DataFrame(\n",
    "    enc.fit_transform(df[cols]).toarray(),\n",
    "    columns = enc.get_feature_names_out()\n",
    ")\n",
    "x_train = pd.concat([features,sparse_features],axis=1)\n",
    "print(f'after:{x_train.shape}')\n",
    "x_train.head()"
   ]
  },
  {
   "cell_type": "markdown",
   "id": "c705c7de-8581-4d5e-a7d2-7865da8cf9fb",
   "metadata": {
    "tags": []
   },
   "source": [
    "## Base model"
   ]
  },
  {
   "cell_type": "code",
   "execution_count": 37,
   "id": "35df764e-b5d6-475f-8805-55afc9f4df5d",
   "metadata": {},
   "outputs": [
    {
     "data": {
      "text/plain": [
       "0.8766894920348889"
      ]
     },
     "execution_count": 37,
     "metadata": {},
     "output_type": "execute_result"
    }
   ],
   "source": [
    "model = LGBMClassifier(random_state=SEED)\n",
    "cv = KFold(n_splits=5,shuffle=True,random_state=SEED)\n",
    "\n",
    "scores = cross_val_score(model, x_train, y_train, cv = cv , scoring=\"roc_auc\", n_jobs=-1)\n",
    "base_score = scores.mean()\n",
    "base_score"
   ]
  },
  {
   "cell_type": "code",
   "execution_count": null,
   "id": "268bfd05-c414-471a-87cc-a5adcc1b5f63",
   "metadata": {},
   "outputs": [],
   "source": []
  },
  {
   "cell_type": "code",
   "execution_count": null,
   "id": "fd0c6aac-1047-4b7e-bbdd-920d469b7239",
   "metadata": {},
   "outputs": [],
   "source": []
  },
  {
   "cell_type": "code",
   "execution_count": null,
   "id": "363c261c-40cb-4af2-95a1-e7fc8be6e6a1",
   "metadata": {},
   "outputs": [],
   "source": []
  },
  {
   "cell_type": "code",
   "execution_count": null,
   "id": "cafa3ad0-7966-4cf3-b048-b5c78642696c",
   "metadata": {},
   "outputs": [],
   "source": []
  }
 ],
 "metadata": {
  "kernelspec": {
   "display_name": "Python 3 (ipykernel)",
   "language": "python",
   "name": "python3"
  },
  "language_info": {
   "codemirror_mode": {
    "name": "ipython",
    "version": 3
   },
   "file_extension": ".py",
   "mimetype": "text/x-python",
   "name": "python",
   "nbconvert_exporter": "python",
   "pygments_lexer": "ipython3",
   "version": "3.9.12"
  }
 },
 "nbformat": 4,
 "nbformat_minor": 5
}
