{
 "cells": [
  {
   "cell_type": "markdown",
   "id": "02637a9f-277d-4208-a61e-fba0f1687a41",
   "metadata": {},
   "source": [
    "# 기본 설정"
   ]
  },
  {
   "cell_type": "code",
   "execution_count": 1,
   "id": "b09ae5f2-9d4b-436d-9b28-24f9bc9052cb",
   "metadata": {
    "tags": []
   },
   "outputs": [],
   "source": [
    "import logging\n",
    "\n",
    "logging.getLogger('matplotlib.font_manager').setLevel(logging.ERROR)"
   ]
  },
  {
   "cell_type": "code",
   "execution_count": 2,
   "id": "566a29a1-3677-46a2-b60d-78812adaf013",
   "metadata": {},
   "outputs": [],
   "source": [
    "import mglearn\n",
    "\n",
    "from sklearn.model_selection import train_test_split "
   ]
  },
  {
   "cell_type": "code",
   "execution_count": null,
   "id": "9808cfb7-ee50-4c7e-8853-0d4125e33b80",
   "metadata": {},
   "outputs": [],
   "source": [
    "import pandas as pd\n",
    "import numpy as np\n",
    "\n",
    "import matplotlib.pyplot as plt\n",
    "import matplotlib as mpl\n",
    "# import matplotlib.font_manager as fm\n",
    "import seaborn as sns\n",
    "\n",
    "# 브라우저에서 바로 그려지도록 \n",
    "%matplotlib inline\n",
    "\n",
    "# 그래프에 retina display 적용\n",
    "%config InlineBackend.figure_format = 'retina'\n",
    "\n",
    "# Colab 의 한글 폰트 설정\n",
    "plt.rc('font', family='NanumBarunGothic') \n",
    "\n",
    "# 유니코드에서  음수 부호설정\n",
    "mpl.rc('axes', unicode_minus=False)"
   ]
  },
  {
   "cell_type": "code",
   "execution_count": 3,
   "id": "0c242b43-a145-46d7-9220-504be4154a51",
   "metadata": {},
   "outputs": [
    {
     "name": "stdout",
     "output_type": "stream",
     "text": [
      "C:\\Users\\User\\Desktop\\boot camp\n"
     ]
    }
   ],
   "source": [
    "%cd C:\\\\Users\\\\User\\\\Desktop\\\\boot camp"
   ]
  },
  {
   "cell_type": "code",
   "execution_count": 4,
   "id": "4e9650de-6e63-4b9c-b03f-e2b4440584a3",
   "metadata": {
    "tags": []
   },
   "outputs": [],
   "source": [
    "import numpy as np \n",
    "import pandas as pd\n",
    "\n",
    "import matplotlib.pyplot as plt\n",
    "import seaborn as sns\n",
    "\n",
    "plt.style.use('fivethirtyeight')\n",
    "plt.ion()\n",
    "\n",
    "import warnings\n",
    "warnings.filterwarnings('ignore')"
   ]
  },
  {
   "cell_type": "code",
   "execution_count": 5,
   "id": "0361d29c-7d81-42ba-9805-c6945620bb36",
   "metadata": {
    "collapsed": true,
    "jupyter": {
     "outputs_hidden": true
    },
    "tags": []
   },
   "outputs": [
    {
     "name": "stdout",
     "output_type": "stream",
     "text": [
      "NanumSquare Neo Light\n",
      "NanumBarunGothic YetHangul\n",
      "NanumSquare\n",
      "NanumSquare_ac\n",
      "NanumSquare Neo Bold\n",
      "NanumMyeongjo\n",
      "NanumSquareRoundOTF\n",
      "NanumBarunGothicOTF\n",
      "Noto Sans KR\n",
      "NanumSquareRound\n",
      "NanumBarunpenOTF\n",
      "NanumGothic\n",
      "NanumGothicOTF\n",
      "NanumGothicOTF Eco\n",
      "NanumMyeongjoOTF\n",
      "NanumMyeongjoOTF\n",
      "Noto Sans KR\n",
      "NanumBarunpen\n",
      "D2Coding ligature\n",
      "NanumSquareRoundOTF\n",
      "NanumSquare Neo Heavy\n",
      "NanumSquareOTF_ac\n",
      "NanumSquare\n",
      "Noto Sans KR\n",
      "NanumSquareOTF\n",
      "NanumGothicOTF Eco\n",
      "NanumGothicOTF\n",
      "NanumMyeongjoOTF\n",
      "NanumMyeongjoOTF YetHangul\n",
      "NanumSquare Neo OTF ExtraBold\n",
      "NanumGothic\n",
      "NanumBarunpen\n",
      "NanumMyeongjoOTF Eco\n",
      "D2Coding ligature\n",
      "NanumSquare Neo OTF Bold\n",
      "NanumSquareOTF\n",
      "NanumSquare Neo OTF Light\n",
      "NanumGothic Eco\n",
      "NanumGothicOTF\n",
      "Nanum Brush Script\n",
      "NanumSquareOTF_ac\n",
      "NanumBarunGothicOTF\n",
      "NanumSquareOTF\n",
      "NanumGothic\n",
      "NanumMyeongjo Eco\n",
      "D2Coding\n",
      "NanumSquareOTF_ac\n",
      "NanumBarunGothic\n",
      "NanumSquare Neo OTF Regular\n",
      "NanumSquareRoundOTF\n",
      "NanumBarunGothicOTF\n",
      "Noto Sans KR\n",
      "NanumMyeongjo YetHangul\n",
      "NanumGothicOTF Eco\n",
      "NanumSquare Neo Regular\n",
      "NanumMyeongjo\n",
      "Nanum Brush Script OTF\n",
      "NanumMyeongjoOTF Eco\n",
      "NanumGothicOTF\n",
      "NanumSquare_ac\n",
      "NanumGothic Eco\n",
      "NanumSquareOTF\n",
      "NanumGothic\n",
      "NanumSquare Neo OTF Heavy\n",
      "Noto Sans KR\n",
      "NanumSquare_ac\n",
      "NanumSquareRound\n",
      "Noto Sans KR\n",
      "NanumGothic Eco\n",
      "NanumMyeongjoOTF Eco\n",
      "NanumMyeongjo Eco\n",
      "NanumSquareRoundOTF\n",
      "NanumBarunpenOTF\n",
      "NanumSquare\n",
      "NanumSquareRound\n",
      "NanumMyeongjo\n",
      "NanumSquareOTF_ac\n",
      "NanumBarunGothic\n",
      "NanumBarunGothic\n",
      "D2Coding ligature\n",
      "NanumSquare_ac\n",
      "NanumBarunGothicOTF YetHangul\n",
      "NanumSquare\n",
      "NanumBarunGothic\n",
      "NanumMyeongjo Eco\n",
      "NanumSquare Neo ExtraBold\n",
      "Nanum Pen Script OTF\n",
      "Nanum Pen Script\n",
      "NanumSquareRound\n",
      "NanumBarunGothicOTF\n"
     ]
    }
   ],
   "source": [
    "import matplotlib as mpl\n",
    "# Add every font at the specified location\n",
    "font_dir = ['./fonts']\n",
    "for font in mpl.font_manager.findSystemFonts(fontpaths=font_dir):\n",
    " print(mpl.font_manager.FontProperties(fname=font).get_name())\n",
    " mpl.font_manager.fontManager.addfont(font)"
   ]
  },
  {
   "cell_type": "code",
   "execution_count": 6,
   "id": "83724480-76e6-4071-83d0-e5c8e18c0058",
   "metadata": {
    "collapsed": true,
    "jupyter": {
     "outputs_hidden": true
    },
    "tags": []
   },
   "outputs": [
    {
     "name": "stdout",
     "output_type": "stream",
     "text": [
      "['C:\\\\Windows\\\\Fonts\\\\GOTHICI.TTF', 'C:\\\\Windows\\\\Fonts\\\\ANTQUAI.TTF', 'C:\\\\Windows\\\\Fonts\\\\LEELAWDB.TTF', 'C:\\\\Windows\\\\Fonts\\\\corbelli.ttf', 'C:\\\\Windows\\\\Fonts\\\\SitkaB.ttc', 'C:\\\\Windows\\\\Fonts\\\\HMFMPYUN.TTF', 'C:\\\\Windows\\\\Fonts\\\\corbelb.ttf', 'C:\\\\Windows\\\\Fonts\\\\calibri.ttf', 'C:\\\\Windows\\\\Fonts\\\\segoepr.ttf', 'C:\\\\Windows\\\\Fonts\\\\micross.ttf', 'C:\\\\Windows\\\\Fonts\\\\LEELAWAD.TTF', 'C:\\\\Windows\\\\Fonts\\\\himalaya.ttf', 'C:\\\\Windows\\\\Fonts\\\\Hancom Gothic Regular.ttf', 'C:\\\\Windows\\\\Fonts\\\\segoeprb.ttf', 'C:\\\\Windows\\\\Fonts\\\\DUBAI-MEDIUM.TTF', 'C:\\\\Windows\\\\Fonts\\\\comicbd.ttf', 'C:\\\\Windows\\\\Fonts\\\\trebucbi.ttf', 'C:\\\\Windows\\\\Fonts\\\\georgia.ttf', 'C:\\\\Windows\\\\Fonts\\\\seguisym.ttf', 'C:\\\\Windows\\\\Fonts\\\\georgiai.ttf', 'C:\\\\Windows\\\\Fonts\\\\malgunsl.ttf', 'C:\\\\Windows\\\\Fonts\\\\webdings.ttf', 'C:\\\\Windows\\\\Fonts\\\\framdit.ttf', 'C:\\\\Windows\\\\Fonts\\\\trebucbd.ttf', 'C:\\\\Windows\\\\Fonts\\\\ebrimabd.ttf', 'C:\\\\Windows\\\\Fonts\\\\GOTHICBI.TTF', 'C:\\\\Windows\\\\Fonts\\\\cambriai.ttf', 'C:\\\\Windows\\\\Fonts\\\\segoeui.ttf', 'C:\\\\Windows\\\\Fonts\\\\HANDotumB.ttf', 'C:\\\\Windows\\\\Fonts\\\\DUBAI-LIGHT.TTF', 'C:\\\\Windows\\\\Fonts\\\\H2GPRM.TTF', 'C:\\\\Windows\\\\Fonts\\\\HMKMRHD.TTF', 'C:\\\\Windows\\\\Fonts\\\\times.ttf', 'C:\\\\Windows\\\\Fonts\\\\mmrtextb.ttf', 'C:\\\\Windows\\\\Fonts\\\\calibriz.ttf', 'C:\\\\Windows\\\\Fonts\\\\segoeuil.ttf', 'C:\\\\Windows\\\\Fonts\\\\MalangmalangB.ttf', 'C:\\\\Windows\\\\Fonts\\\\LeelaUIb.ttf', 'C:\\\\Windows\\\\Fonts\\\\seguiemj.ttf', 'C:\\\\Windows\\\\Fonts\\\\symbol.ttf', 'C:\\\\Windows\\\\Fonts\\\\taile.ttf', 'C:\\\\Windows\\\\Fonts\\\\H2SA1M.TTF', 'C:\\\\Windows\\\\Fonts\\\\batang.ttc', 'C:\\\\Windows\\\\Fonts\\\\segoeuisl.ttf', 'C:\\\\Windows\\\\Fonts\\\\HANDotumExt.ttf', 'C:\\\\Windows\\\\Fonts\\\\Candaral.ttf', 'C:\\\\Windows\\\\Fonts\\\\YuGothL.ttc', 'C:\\\\Windows\\\\Fonts\\\\BOOKOSI.TTF', 'C:\\\\Windows\\\\Fonts\\\\HMKMAMI.TTF', 'C:\\\\Windows\\\\Fonts\\\\timesi.ttf', 'C:\\\\Windows\\\\Fonts\\\\ntailub.ttf', 'C:\\\\Windows\\\\Fonts\\\\Inkfree.ttf', 'C:\\\\Windows\\\\Fonts\\\\gulim.ttc', 'C:\\\\Users\\\\User\\\\AppData\\\\Local\\\\Microsoft\\\\Windows\\\\Fonts\\\\Cafe24Ohsquare.ttf', 'C:\\\\Windows\\\\Fonts\\\\seguisb.ttf', 'C:\\\\Windows\\\\Fonts\\\\seguibli.ttf', 'C:\\\\Windows\\\\Fonts\\\\timesbi.ttf', 'C:\\\\Windows\\\\Fonts\\\\GOTHIC.TTF', 'C:\\\\Windows\\\\Fonts\\\\calibrii.ttf', 'C:\\\\Windows\\\\Fonts\\\\corbell.ttf', 'C:\\\\Windows\\\\Fonts\\\\BOOKOS.TTF', 'C:\\\\Windows\\\\Fonts\\\\ebrima.ttf', 'C:\\\\Windows\\\\Fonts\\\\HMFMOLD.TTF', 'C:\\\\Windows\\\\Fonts\\\\ARIALNBI.TTF', 'C:\\\\Windows\\\\Fonts\\\\H2MJRE.TTF', 'C:\\\\Windows\\\\Fonts\\\\BOOKOSB.TTF', 'C:\\\\Windows\\\\Fonts\\\\tahoma.ttf', 'C:\\\\Windows\\\\Fonts\\\\msyh.ttc', 'C:\\\\Windows\\\\Fonts\\\\consolab.ttf', 'C:\\\\Windows\\\\Fonts\\\\calibril.ttf', 'C:\\\\Windows\\\\Fonts\\\\georgiab.ttf', 'C:\\\\Windows\\\\Fonts\\\\WINGDNG3.TTF', 'C:\\\\Windows\\\\Fonts\\\\msyi.ttf', 'C:\\\\Windows\\\\Fonts\\\\phagspa.ttf', 'C:\\\\Windows\\\\Fonts\\\\YuGothR.ttc', 'C:\\\\Windows\\\\Fonts\\\\courbi.ttf', 'C:\\\\Windows\\\\Fonts\\\\courbd.ttf', 'C:\\\\Windows\\\\Fonts\\\\WINGDNG2.TTF', 'C:\\\\Windows\\\\Fonts\\\\l_10646.ttf', 'C:\\\\Windows\\\\Fonts\\\\HYHWPEQ.TTF', 'C:\\\\Windows\\\\Fonts\\\\segmdl2.ttf', 'C:\\\\Windows\\\\Fonts\\\\sylfaen.ttf', 'C:\\\\Windows\\\\Fonts\\\\GARAIT.TTF', 'C:\\\\Windows\\\\Fonts\\\\REFSAN.TTF', 'C:\\\\Windows\\\\Fonts\\\\msyhbd.ttc', 'C:\\\\Windows\\\\Fonts\\\\taileb.ttf', 'C:\\\\Windows\\\\Fonts\\\\verdanaz.ttf', 'C:\\\\Windows\\\\Fonts\\\\YuGothB.ttc', 'C:\\\\Windows\\\\Fonts\\\\constani.ttf', 'C:\\\\Windows\\\\Fonts\\\\NGULIM.TTF', 'C:\\\\Windows\\\\Fonts\\\\msjhl.ttc', 'C:\\\\Windows\\\\Fonts\\\\ANTQUABI.TTF', 'C:\\\\Windows\\\\Fonts\\\\NirmalaS.ttf', 'C:\\\\Windows\\\\Fonts\\\\arial.ttf', 'C:\\\\Windows\\\\Fonts\\\\tahomabd.ttf', 'C:\\\\Windows\\\\Fonts\\\\ANTQUAB.TTF', 'C:\\\\Windows\\\\Fonts\\\\verdanai.ttf', 'C:\\\\Windows\\\\Fonts\\\\H2GTRE.TTF', 'C:\\\\Windows\\\\Fonts\\\\YuGothM.ttc', 'C:\\\\Windows\\\\Fonts\\\\seguisli.ttf', 'C:\\\\Windows\\\\Fonts\\\\MSUIGHUB.TTF', 'C:\\\\Windows\\\\Fonts\\\\H2PORM.TTF', 'C:\\\\Windows\\\\Fonts\\\\segoeuiz.ttf', 'C:\\\\Windows\\\\Fonts\\\\LeelawUI.ttf', 'C:\\\\Windows\\\\Fonts\\\\couri.ttf', 'C:\\\\Windows\\\\Fonts\\\\HanSantteutDotum-Regular.ttf', 'C:\\\\Windows\\\\Fonts\\\\comicz.ttf', 'C:\\\\Windows\\\\Fonts\\\\HANDotum.ttf', 'C:\\\\Windows\\\\Fonts\\\\cambriab.ttf', 'C:\\\\Windows\\\\Fonts\\\\palab.ttf', 'C:\\\\Windows\\\\Fonts\\\\cambria.ttc', 'C:\\\\Windows\\\\Fonts\\\\H2HDRM.TTF', 'C:\\\\Windows\\\\Fonts\\\\DUBAI-REGULAR.TTF', 'C:\\\\Windows\\\\Fonts\\\\msyhl.ttc', 'C:\\\\Windows\\\\Fonts\\\\BKANT.TTF', 'C:\\\\Windows\\\\Fonts\\\\seguibl.ttf', 'C:\\\\Windows\\\\Fonts\\\\Candarab.ttf', 'C:\\\\Windows\\\\Fonts\\\\MalangmalangR.ttf', 'C:\\\\Windows\\\\Fonts\\\\calibrili.ttf', 'C:\\\\Windows\\\\Fonts\\\\HancomHoonminjeongeumH.ttf', 'C:\\\\Windows\\\\Fonts\\\\trebucit.ttf', 'C:\\\\Windows\\\\Fonts\\\\CENTURY.TTF', 'C:\\\\Windows\\\\Fonts\\\\monbaiti.ttf', 'C:\\\\Windows\\\\Fonts\\\\msjhbd.ttc', 'C:\\\\Windows\\\\Fonts\\\\msjh.ttc', 'C:\\\\Windows\\\\Fonts\\\\HANBatangExt.ttf', 'C:\\\\Windows\\\\Fonts\\\\mmrtext.ttf', 'C:\\\\Windows\\\\Fonts\\\\constan.ttf', 'C:\\\\Windows\\\\Fonts\\\\constanz.ttf', 'C:\\\\Windows\\\\Fonts\\\\Hancom HMJE_V.ttf', 'C:\\\\Windows\\\\Fonts\\\\Candaraz.ttf', 'C:\\\\Windows\\\\Fonts\\\\MTCORSVA.TTF', 'C:\\\\Windows\\\\Fonts\\\\GARABD.TTF', 'C:\\\\Windows\\\\Fonts\\\\Candarali.ttf', 'C:\\\\Windows\\\\Fonts\\\\timesbd.ttf', 'C:\\\\Windows\\\\Fonts\\\\HANBatang.ttf', 'C:\\\\Windows\\\\Fonts\\\\ARIALN.TTF', 'C:\\\\Windows\\\\Fonts\\\\wingding.ttf', 'C:\\\\Windows\\\\Fonts\\\\HMFMMUEX.TTC', 'C:\\\\Windows\\\\Fonts\\\\Gabriola.ttf', 'C:\\\\Windows\\\\Fonts\\\\HANWing2.ttf', 'C:\\\\Windows\\\\Fonts\\\\MTEXTRA.TTF', 'C:\\\\Windows\\\\Fonts\\\\Nirmala.ttf', 'C:\\\\Windows\\\\Fonts\\\\msgothic.ttc', 'C:\\\\Windows\\\\Fonts\\\\framd.ttf', 'C:\\\\Windows\\\\Fonts\\\\verdanab.ttf', 'C:\\\\Windows\\\\Fonts\\\\HMKMMAG.TTF', 'C:\\\\Windows\\\\Fonts\\\\consola.ttf', 'C:\\\\Windows\\\\Fonts\\\\holomdl2.ttf', 'C:\\\\Windows\\\\Fonts\\\\trebuc.ttf', 'C:\\\\Windows\\\\Fonts\\\\H2MKPB.TTF', 'C:\\\\Windows\\\\Fonts\\\\malgun.ttf', 'C:\\\\Windows\\\\Fonts\\\\phagspab.ttf', 'C:\\\\Windows\\\\Fonts\\\\ariali.ttf', 'C:\\\\Windows\\\\Fonts\\\\constanb.ttf', 'C:\\\\Windows\\\\Fonts\\\\HancomEQN.ttf', 'C:\\\\Windows\\\\Fonts\\\\pala.ttf', 'C:\\\\Windows\\\\Fonts\\\\HANBatangExtB.ttf', 'C:\\\\Windows\\\\Fonts\\\\HanSantteutDotum-Bold.ttf', 'C:\\\\Windows\\\\Fonts\\\\MSUIGHUR.TTF', 'C:\\\\Windows\\\\Fonts\\\\simsunb.ttf', 'C:\\\\Windows\\\\Fonts\\\\HANBatangB.ttf', 'C:\\\\Windows\\\\Fonts\\\\Candarai.ttf', 'C:\\\\Windows\\\\Fonts\\\\ntailu.ttf', 'C:\\\\Windows\\\\Fonts\\\\cambriaz.ttf', 'C:\\\\Windows\\\\Fonts\\\\georgiaz.ttf', 'C:\\\\Windows\\\\Fonts\\\\GOTHICB.TTF', 'C:\\\\Windows\\\\Fonts\\\\impact.ttf', 'C:\\\\Windows\\\\Fonts\\\\arialbd.ttf', 'C:\\\\Windows\\\\Fonts\\\\H2GTRM.TTF', 'C:\\\\Windows\\\\Fonts\\\\LeelUIsl.ttf', 'C:\\\\Windows\\\\Fonts\\\\consolai.ttf', 'C:\\\\Windows\\\\Fonts\\\\HANBatangExtBB.ttf', 'C:\\\\Windows\\\\Fonts\\\\BOOKOSBI.TTF', 'C:\\\\Windows\\\\Fonts\\\\corbelz.ttf', 'C:\\\\Windows\\\\Fonts\\\\SitkaI.ttc', 'C:\\\\Windows\\\\Fonts\\\\malgunbd.ttf', 'C:\\\\Windows\\\\Fonts\\\\segoescb.ttf', 'C:\\\\Windows\\\\Fonts\\\\consolaz.ttf', 'C:\\\\Windows\\\\Fonts\\\\segoesc.ttf', 'C:\\\\Windows\\\\Fonts\\\\calibrib.ttf', 'C:\\\\Windows\\\\Fonts\\\\ARIALNI.TTF', 'C:\\\\Windows\\\\Fonts\\\\arialbi.ttf', 'C:\\\\Windows\\\\Fonts\\\\JUMJA.TTF', 'C:\\\\Windows\\\\Fonts\\\\ariblk.ttf', 'C:\\\\Windows\\\\Fonts\\\\comici.ttf', 'C:\\\\Windows\\\\Fonts\\\\gadugi.ttf', 'C:\\\\Windows\\\\Fonts\\\\verdana.ttf', 'C:\\\\Windows\\\\Fonts\\\\seguisbi.ttf', 'C:\\\\Windows\\\\Fonts\\\\DUBAI-BOLD.TTF', 'C:\\\\Windows\\\\Fonts\\\\corbel.ttf', 'C:\\\\Windows\\\\Fonts\\\\segoeuib.ttf', 'C:\\\\Windows\\\\Fonts\\\\comic.ttf', 'C:\\\\Windows\\\\Fonts\\\\mingliub.ttc', 'C:\\\\Windows\\\\Fonts\\\\seguili.ttf', 'C:\\\\Windows\\\\Fonts\\\\REFSPCL.TTF', 'C:\\\\Windows\\\\Fonts\\\\NirmalaB.ttf', 'C:\\\\Windows\\\\Fonts\\\\palabi.ttf', 'C:\\\\Windows\\\\Fonts\\\\marlett.ttf', 'C:\\\\Windows\\\\Fonts\\\\SitkaZ.ttc', 'C:\\\\Windows\\\\Fonts\\\\ARIALNB.TTF', 'C:\\\\Windows\\\\Fonts\\\\H2PORL.TTF', 'C:\\\\Windows\\\\Fonts\\\\palai.ttf', 'C:\\\\Windows\\\\Fonts\\\\gadugib.ttf', 'C:\\\\Windows\\\\Fonts\\\\segoeuii.ttf', 'C:\\\\Windows\\\\Fonts\\\\bahnschrift.ttf', 'C:\\\\Windows\\\\Fonts\\\\Hancom Gothic Bold.ttf', 'C:\\\\Windows\\\\Fonts\\\\BSSYM7.TTF', 'C:\\\\Windows\\\\Fonts\\\\GARA.TTF', 'C:\\\\Windows\\\\Fonts\\\\lucon.ttf', 'C:\\\\Windows\\\\Fonts\\\\javatext.ttf', 'C:\\\\Windows\\\\Fonts\\\\corbeli.ttf', 'C:\\\\Windows\\\\Fonts\\\\cour.ttf', 'C:\\\\Windows\\\\Fonts\\\\Sitka.ttc', 'C:\\\\Windows\\\\Fonts\\\\seguihis.ttf', 'C:\\\\Windows\\\\Fonts\\\\mvboli.ttf', 'C:\\\\Windows\\\\Fonts\\\\simsun.ttc', 'C:\\\\Windows\\\\Fonts\\\\H2MJSM.TTF', 'C:\\\\Windows\\\\Fonts\\\\Candara.ttf', 'C:\\\\Windows\\\\Fonts\\\\H2GSRB.TTF']\n"
     ]
    }
   ],
   "source": [
    "# 시스템 폰트 경로 리스트\n",
    "font_list = mpl.font_manager.findSystemFonts()\n",
    "print(font_list)\n",
    "# 폰트 설정하기\n",
    "prop = mpl.font_manager.FontProperties(fname='원하는 폰트 경로')\n",
    "plt.rcParams['font.family'] = prop.get_family()"
   ]
  },
  {
   "cell_type": "code",
   "execution_count": null,
   "id": "1814bcb5-9341-4e12-b618-ca7a56abe727",
   "metadata": {},
   "outputs": [
    {
     "name": "stdout",
     "output_type": "stream",
     "text": [
      "['Noto Sans KR']\n"
     ]
    }
   ],
   "source": [
    "# Set font family globally\n",
    "mpl.rcParams['font.family'] = 'Noto Sans KR'\n",
    "print(mpl.rcParams['font.family'])"
   ]
  },
  {
   "cell_type": "markdown",
   "id": "3bd6d357-a0d0-4f2c-a546-9e5d37e42705",
   "metadata": {},
   "source": [
    "# 앙상블\n",
    "- 여러 머신모델 연결하여 더 강력한 모델 만드는 기법\n",
    "- bagging : variance를 감소시키는 역할\n",
    "- boosting : bias를 감소시키는 역할"
   ]
  },
  {
   "cell_type": "markdown",
   "id": "beecadb6-4996-44f0-a0f2-87d201985ef0",
   "metadata": {},
   "source": [
    "## bagging  (일부 뽑아서 학습시키고 합침)\n",
    "- 단점 : 전체 데이터를 학습한 모델이 없음"
   ]
  },
  {
   "cell_type": "code",
   "execution_count": 10,
   "id": "e951525e-0560-4bc1-947f-332714199097",
   "metadata": {},
   "outputs": [],
   "source": [
    "from sklearn.ensemble import RandomForestClassifier\n",
    "from sklearn.datasets import make_moons"
   ]
  },
  {
   "cell_type": "code",
   "execution_count": 11,
   "id": "99e4bfd2-a9ce-49d3-9773-af05c0e92bd7",
   "metadata": {},
   "outputs": [],
   "source": [
    "X, y = make_moons(n_samples=100, noise=0.25, random_state=3) \n",
    "X_tr, X_te, y_tr, y_te = train_test_split(\n",
    "    X, y, stratify=y, random_state=42\n",
    " "
   ]
  },
  {
   "cell_type": "code",
   "execution_count": 12,
   "id": "9ac8a6bb-ea9e-4f73-956a-d9d8aff461f2",
   "metadata": {},
   "outputs": [],
   "source": [
    "forest = RandomForestClassifier(n_estimators=5, random_state=2).fit(X_tr, y_tr)\n",
    "#5개 모델로 학습시킴"
   ]
  },
  {
   "cell_type": "code",
   "execution_count": 13,
   "id": "56232db9-4543-428a-9246-7a5e3ae9492a",
   "metadata": {},
   "outputs": [
    {
     "data": {
      "text/plain": [
       "[<matplotlib.lines.Line2D at 0x169a19d6d00>,\n",
       " <matplotlib.lines.Line2D at 0x169a19d6f70>]"
      ]
     },
     "execution_count": 13,
     "metadata": {},
     "output_type": "execute_result"
    },
    {
     "data": {
      "image/png": "[encoded data removed]",
      "text/plain": [
       "<Figure size 1440x720 with 6 Axes>"
      ]
     },
     "metadata": {},
     "output_type": "display_data"
    }
   ],
   "source": [
    "fig, axes = plt.subplots(2, 3, figsize=(20,10)) \n",
    "\n",
    "for i, (ax, tree) in enumerate(zip(axes.ravel(), forest.estimators_)):\n",
    "  ax.set_title(f\"tree {i}\")\n",
    "  mglearn.plots.plot_tree_partition(X, y, tree, ax=ax)\n",
    "\n",
    "mglearn.plots.plot_2d_separator(forest, X, fill=True, ax=axes[-1,-1], alpha=0.4) \n",
    "axes[-1,-1].set_title(\"forest\")\n",
    "mglearn.discrete_scatter(X[:,0], X[:,1], y)"
   ]
  },
  {
   "cell_type": "code",
   "execution_count": 15,
   "id": "32982a89-242c-45f4-bfde-768b0d1fde95",
   "metadata": {},
   "outputs": [],
   "source": [
    "from sklearn.datasets import load_breast_cancer"
   ]
  },
  {
   "cell_type": "code",
   "execution_count": 16,
   "id": "9b0096cd-6f7a-4728-b8ef-bfd6e90a5212",
   "metadata": {},
   "outputs": [],
   "source": [
    "cancer = load_breast_cancer()\n",
    "X_tr, X_te, y_tr, y_te = train_test_split(\n",
    "    cancer.data, cancer.target, stratify=cancer.target, random_state=42\n",
    ")"
   ]
  },
  {
   "cell_type": "code",
   "execution_count": 17,
   "id": "1332583d-3a9d-4525-a8de-4a1500999a4d",
   "metadata": {},
   "outputs": [
    {
     "name": "stdout",
     "output_type": "stream",
     "text": [
      "훈련용 평가지표: 1.0 / 테스트용 평가지표: 0.958041958041958\n"
     ]
    }
   ],
   "source": [
    "forest = RandomForestClassifier(n_estimators=100, random_state=0).fit(X_tr, y_tr)\n",
    "print(f'훈련용 평가지표: {forest.score(X_tr, y_tr)} / 테스트용 평가지표: {forest.score(X_te, y_te)}')"
   ]
  },
  {
   "cell_type": "code",
   "execution_count": 18,
   "id": "f30f9c7d-7ae5-42dc-85e3-64a37f35b6d1",
   "metadata": {},
   "outputs": [
    {
     "name": "stdout",
     "output_type": "stream",
     "text": [
      "훈련용 평가지표: 0.9882629107981221 / 테스트용 평가지표: 0.958041958041958\n"
     ]
    }
   ],
   "source": [
    "hp = {\n",
    "    \"random_state\" : 0,\n",
    "    \"max_features\" : \"sqrt\", # None 을 줄경우 전체피쳐 사용 \n",
    "    \"n_estimators\" : 100, # 트리개수 \n",
    "    \"max_depth\" : 10,\n",
    "    \"min_samples_split\" : 10,\n",
    "    \"min_samples_leaf\" : 3,\n",
    "}\n",
    "\n",
    "forest = RandomForestClassifier(**hp).fit(X_tr, y_tr)\n",
    "print(f'훈련용 평가지표: {forest.score(X_tr, y_tr)} / 테스트용 평가지표: {forest.score(X_te, y_te)}')"
   ]
  },
  {
   "cell_type": "markdown",
   "id": "77542e82-f636-4867-83e0-3ab08767fd6c",
   "metadata": {},
   "source": [
    "## *Boosting(잘 틀리는 부분 weight로 제공)*\n",
    "1. weak learner를 생성한 후 Error를 계산\n",
    "2. Error에 기여한 Sample마다 다른 가중치를 주고 해당 Error를 감소시키는 새로운 모델 학습\n",
    "3. 1,2 과정을 M번 반복한 후 최종 Boosting 모델을 정의"
   ]
  },
  {
   "cell_type": "markdown",
   "id": "7efc0f59-38fc-41f5-8def-5146a7207a12",
   "metadata": {},
   "source": [
    "### gradientboost (많이 안씀)\n",
    "- 트리기반 부스팅 앙상블 모델\n",
    "- max_depth를 1~5이하로 설정하여 약한 트리들을 만들어 학습"
   ]
  },
  {
   "cell_type": "code",
   "execution_count": 20,
   "id": "41757a56-39b4-4b57-ae02-9e4d39f7bc2f",
   "metadata": {},
   "outputs": [],
   "source": [
    "from sklearn.ensemble import GradientBoostingRegressor, GradientBoostingClassifier"
   ]
  },
  {
   "cell_type": "code",
   "execution_count": 22,
   "id": "ce34abfa-47bf-4cb4-b16a-5e4ca58d8daf",
   "metadata": {},
   "outputs": [],
   "source": [
    "from sklearn.datasets import load_breast_cancer\n",
    "\n",
    "cancer = load_breast_cancer()\n",
    "X_tr , X_te , y_tr , y_te = train_test_split(\n",
    "    cancer.data,cancer.target,stratify=cancer.target,random_state=42)"
   ]
  },
  {
   "cell_type": "code",
   "execution_count": 23,
   "id": "56ae3381-cf6f-40c7-9ce8-d8d652137b2a",
   "metadata": {},
   "outputs": [
    {
     "name": "stdout",
     "output_type": "stream",
     "text": [
      "훈련용 평가지표: 0.9954470985502689 / 테스트용 평가지표: 0.8456938110259314\n"
     ]
    }
   ],
   "source": [
    "gradient = GradientBoostingRegressor(random_state=0).fit(X_tr, y_tr)\n",
    "print(f'훈련용 평가지표: {gradient.score(X_tr, y_tr)} / 테스트용 평가지표: {gradient.score(X_te, y_te)}')"
   ]
  },
  {
   "cell_type": "code",
   "execution_count": 25,
   "id": "b4ec1387-869a-4884-9565-7f4cdfcb8275",
   "metadata": {},
   "outputs": [
    {
     "name": "stdout",
     "output_type": "stream",
     "text": [
      "훈련용 평가지표: 0.9030424533281206 / 테스트용 평가지표: 0.8335348874914779\n"
     ]
    }
   ],
   "source": [
    "hp = {\n",
    "    \"random_state\" : 0,\n",
    "    \"max_depth\" : 1,\n",
    "    \"n_estimators\" : 100,\n",
    "    \"learning_rate\" : 0.2,\n",
    "}\n",
    "\n",
    "gradient = GradientBoostingRegressor(**hp).fit(X_tr, y_tr)\n",
    "print(f'훈련용 평가지표: {gradient.score(X_tr, y_tr)} / 테스트용 평가지표: {gradient.score(X_te, y_te)}')"
   ]
  },
  {
   "cell_type": "markdown",
   "id": "98bee627-1f4f-4d22-9dc8-74337cad15f2",
   "metadata": {
    "tags": []
   },
   "source": [
    "### XGBoost (많이씀)\n",
    "- 병렬학습이 지원 되도록 구현한 라이브러리\n",
    "- 돌아갈만 할때 가장 좋음"
   ]
  },
  {
   "cell_type": "code",
   "execution_count": 29,
   "id": "c145ab88-8047-45a1-9152-e75ddd657d5e",
   "metadata": {},
   "outputs": [
    {
     "name": "stdout",
     "output_type": "stream",
     "text": [
      "Collecting xgboost\n",
      "  Downloading xgboost-1.7.5-py3-none-win_amd64.whl (70.9 MB)\n",
      "     --------------------------------------- 70.9/70.9 MB 11.9 MB/s eta 0:00:00\n",
      "Requirement already satisfied: numpy in c:\\users\\user\\anaconda3\\lib\\site-packages (from xgboost) (1.21.5)\n",
      "Requirement already satisfied: scipy in c:\\users\\user\\anaconda3\\lib\\site-packages (from xgboost) (1.7.3)\n",
      "Installing collected packages: xgboost\n",
      "Successfully installed xgboost-1.7.5\n",
      "Note: you may need to restart the kernel to use updated packages.\n"
     ]
    }
   ],
   "source": [
    "pip install xgboost"
   ]
  },
  {
   "cell_type": "code",
   "execution_count": 30,
   "id": "e1c34ad9-902b-4fd1-8843-83c188af34aa",
   "metadata": {},
   "outputs": [
    {
     "name": "stdout",
     "output_type": "stream",
     "text": [
      "훈련용 평가지표: 1.0 / 테스트용 평가지표: 0.965034965034965\n"
     ]
    }
   ],
   "source": [
    "from xgboost import XGBClassifier,plot_importance\n",
    "\n",
    "hp = {\n",
    "    \"random_state\" : 42\n",
    "}\n",
    "\n",
    "xgb = XGBClassifier(**hp).fit(X_tr, y_tr)\n",
    "print(f'훈련용 평가지표: {xgb.score(X_tr, y_tr)} / 테스트용 평가지표: {xgb.score(X_te, y_te)}')"
   ]
  },
  {
   "cell_type": "code",
   "execution_count": 32,
   "id": "c1a9f1ba-aee7-427b-a954-7362d888c7ae",
   "metadata": {},
   "outputs": [
    {
     "name": "stdout",
     "output_type": "stream",
     "text": [
      "훈련용 평가지표: 0.9812206572769953 / 테스트용 평가지표: 0.951048951048951\n"
     ]
    }
   ],
   "source": [
    "hp = {\n",
    "    \"random_state\" : 42,\n",
    "    \"max_depth\" : 2,\n",
    "    \"n_estimators\" : 200, # 수행할 부스팅 단계 수\n",
    "    \"learning_rate\": 0.01,\n",
    "    \"min_child_weight\": 2,\n",
    "    \"gamma\": 1\n",
    "}\n",
    "\n",
    "xgb = XGBClassifier(**hp).fit(X_tr, y_tr)\n",
    "print(f'훈련용 평가지표: {xgb.score(X_tr, y_tr)} / 테스트용 평가지표: {xgb.score(X_te, y_te)}')\n",
    "# hyperparameter를 조정했더니 훈련 , 테스트 차이가 더 줄어듬 "
   ]
  },
  {
   "cell_type": "code",
   "execution_count": 33,
   "id": "ac088576-0093-4fbb-a9de-243750549cf2",
   "metadata": {},
   "outputs": [
    {
     "data": {
      "image/png": "[encoded data removed]",
      "text/plain": [
       "<Figure size 432x288 with 1 Axes>"
      ]
     },
     "metadata": {},
     "output_type": "display_data"
    }
   ],
   "source": [
    "plot_importance(xgb) #학습할떄 중요하게 사용한 feature 나옴\n",
    "plt.show()"
   ]
  },
  {
   "cell_type": "markdown",
   "id": "7cd80651-1524-4ab8-bc2f-82751a715d43",
   "metadata": {},
   "source": [
    "### Light GBM\n",
    "- 한쪽만 깊이 학습하는 방식 (메모리를 조금 쓰고 빠르다)\n",
    "- 시간의 여유가 없을떄 사용하는것 추천(데이터가 많을때)"
   ]
  },
  {
   "cell_type": "markdown",
   "id": "c0ecc84d-6ef4-4821-b723-21e4bdfd70f5",
   "metadata": {},
   "source": [
    "#### 주요 파라미터\n",
    "- num_leaves : 클수록 정확도는 노파지지만 오버피팅 발생 가능\n",
    "- min_data_in_leaf : 클수록 오버피팅 방지\n",
    "- max_depth:낮추기\n",
    "- learning_rate :  낮추기"
   ]
  },
  {
   "cell_type": "code",
   "execution_count": 36,
   "id": "4f298496-56bd-4db6-b94a-2941da63b1c6",
   "metadata": {
    "collapsed": true,
    "jupyter": {
     "outputs_hidden": true
    },
    "tags": []
   },
   "outputs": [
    {
     "name": "stdout",
     "output_type": "stream",
     "text": [
      "Collecting lightgbm\n",
      "  Downloading lightgbm-3.3.5-py3-none-win_amd64.whl (1.0 MB)\n",
      "     ---------------------------------------- 1.0/1.0 MB 13.0 MB/s eta 0:00:00\n",
      "Requirement already satisfied: wheel in c:\\users\\user\\anaconda3\\lib\\site-packages (from lightgbm) (0.37.1)\n",
      "Requirement already satisfied: scikit-learn!=0.22.0 in c:\\users\\user\\anaconda3\\lib\\site-packages (from lightgbm) (1.1.3)\n",
      "Requirement already satisfied: numpy in c:\\users\\user\\anaconda3\\lib\\site-packages (from lightgbm) (1.21.5)\n",
      "Requirement already satisfied: scipy in c:\\users\\user\\anaconda3\\lib\\site-packages (from lightgbm) (1.7.3)\n",
      "Note: you may need to restart the kernel to use updated packages.\n",
      "Requirement already satisfied: threadpoolctl>=2.0.0 in c:\\users\\user\\anaconda3\\lib\\site-packages (from scikit-learn!=0.22.0->lightgbm) (2.2.0)\n",
      "Requirement already satisfied: joblib>=1.0.0 in c:\\users\\user\\anaconda3\\lib\\site-packages (from scikit-learn!=0.22.0->lightgbm) (1.1.0)\n",
      "Installing collected packages: lightgbm\n",
      "Successfully installed lightgbm-3.3.5\n"
     ]
    }
   ],
   "source": [
    "pip install lightgbm"
   ]
  },
  {
   "cell_type": "code",
   "execution_count": 37,
   "id": "e8a5b441-e4ab-4289-a93a-3a9b7084e5f8",
   "metadata": {},
   "outputs": [],
   "source": [
    "from lightgbm import LGBMClassifier , plot_importance"
   ]
  },
  {
   "cell_type": "code",
   "execution_count": 38,
   "id": "24d6ffff-393d-410b-9e40-bb55f26879d1",
   "metadata": {},
   "outputs": [
    {
     "name": "stdout",
     "output_type": "stream",
     "text": [
      "훈련용 평가지표: 1.0 / 테스트용 평가지표: 0.965034965034965\n"
     ]
    }
   ],
   "source": [
    "hp = {\n",
    "    \"random_state\" : 42\n",
    "}\n",
    "\n",
    "lgb = LGBMClassifier(**hp).fit(X_tr, y_tr)\n",
    "print(f'훈련용 평가지표: {lgb.score(X_tr, y_tr)} / 테스트용 평가지표: {lgb.score(X_te, y_te)}')"
   ]
  },
  {
   "cell_type": "code",
   "execution_count": 39,
   "id": "24fc7963-dfa8-4358-b772-e2f6b834d3a9",
   "metadata": {},
   "outputs": [
    {
     "name": "stdout",
     "output_type": "stream",
     "text": [
      "훈련용 평가지표: 0.971830985915493 / 테스트용 평가지표: 0.951048951048951\n"
     ]
    }
   ],
   "source": [
    "hp = {\n",
    "    \"random_state\" : 42,\n",
    "    \"max_depth\" : 2,\n",
    "    \"n_estimators\" : 100,\n",
    "    \"learning_rate\": 0.01,\n",
    "}\n",
    "\n",
    "lgb = LGBMClassifier(**hp).fit(X_tr, y_tr)\n",
    "print(f'훈련용 평가지표: {lgb.score(X_tr, y_tr)} / 테스트용 평가지표: {lgb.score(X_te, y_te)}') "
   ]
  },
  {
   "cell_type": "code",
   "execution_count": 40,
   "id": "e266e351-c1d1-4e3b-a388-4a7e5f4035ea",
   "metadata": {},
   "outputs": [
    {
     "data": {
      "image/png": "[encoded data removed]",
      "text/plain": [
       "<Figure size 432x288 with 1 Axes>"
      ]
     },
     "metadata": {},
     "output_type": "display_data"
    }
   ],
   "source": [
    "plot_importance(lgb)\n",
    "plt.show()"
   ]
  },
  {
   "cell_type": "markdown",
   "id": "63aef9c8-8cd2-445b-a936-f549fa06c46b",
   "metadata": {},
   "source": [
    "### Catboost\n",
    "- 범주형 변수가 많은 경우 빠른 학습속도(인코딩 안해도된다)\n",
    "- 넓게 트리를 형성"
   ]
  },
  {
   "cell_type": "code",
   "execution_count": 41,
   "id": "3c1a944d-6709-4095-b960-b8dd705d57e7",
   "metadata": {
    "collapsed": true,
    "jupyter": {
     "outputs_hidden": true
    },
    "tags": []
   },
   "outputs": [
    {
     "name": "stdout",
     "output_type": "stream",
     "text": [
      "Collecting catboost\n",
      "  Downloading catboost-1.1.1-cp39-none-win_amd64.whl (74.0 MB)\n",
      "     --------------------------------------- 74.0/74.0 MB 13.1 MB/s eta 0:00:00\n",
      "Requirement already satisfied: pandas>=0.24.0 in c:\\users\\user\\anaconda3\\lib\\site-packages (from catboost) (1.4.2)\n",
      "Requirement already satisfied: six in c:\\users\\user\\anaconda3\\lib\\site-packages (from catboost) (1.16.0)\n",
      "Requirement already satisfied: scipy in c:\\users\\user\\anaconda3\\lib\\site-packages (from catboost) (1.7.3)\n",
      "Requirement already satisfied: plotly in c:\\users\\user\\anaconda3\\lib\\site-packages (from catboost) (5.6.0)\n",
      "Requirement already satisfied: matplotlib in c:\\users\\user\\anaconda3\\lib\\site-packages (from catboost) (3.5.1)\n",
      "Requirement already satisfied: numpy>=1.16.0 in c:\\users\\user\\anaconda3\\lib\\site-packages (from catboost) (1.21.5)\n",
      "Collecting graphviz\n",
      "  Downloading graphviz-0.20.1-py3-none-any.whl (47 kB)\n",
      "     ---------------------------------------- 47.0/47.0 kB ? eta 0:00:00\n",
      "Requirement already satisfied: python-dateutil>=2.8.1 in c:\\users\\user\\anaconda3\\lib\\site-packages (from pandas>=0.24.0->catboost) (2.8.2)\n",
      "Requirement already satisfied: pytz>=2020.1 in c:\\users\\user\\anaconda3\\lib\\site-packages (from pandas>=0.24.0->catboost) (2021.3)\n",
      "Requirement already satisfied: kiwisolver>=1.0.1 in c:\\users\\user\\anaconda3\\lib\\site-packages (from matplotlib->catboost) (1.3.2)\n",
      "Requirement already satisfied: packaging>=20.0 in c:\\users\\user\\anaconda3\\lib\\site-packages (from matplotlib->catboost) (21.3)\n",
      "Requirement already satisfied: pyparsing>=2.2.1 in c:\\users\\user\\anaconda3\\lib\\site-packages (from matplotlib->catboost) (3.0.4)\n",
      "Requirement already satisfied: cycler>=0.10 in c:\\users\\user\\anaconda3\\lib\\site-packages (from matplotlib->catboost) (0.11.0)\n",
      "Requirement already satisfied: pillow>=6.2.0 in c:\\users\\user\\anaconda3\\lib\\site-packages (from matplotlib->catboost) (9.0.1)\n",
      "Requirement already satisfied: fonttools>=4.22.0 in c:\\users\\user\\anaconda3\\lib\\site-packages (from matplotlib->catboost) (4.25.0)\n",
      "Requirement already satisfied: tenacity>=6.2.0 in c:\\users\\user\\anaconda3\\lib\\site-packages (from plotly->catboost) (8.0.1)\n",
      "Installing collected packages: graphviz, catboost\n",
      "Successfully installed catboost-1.1.1 graphviz-0.20.1\n",
      "Note: you may need to restart the kernel to use updated packages.\n"
     ]
    }
   ],
   "source": [
    "pip install catboost"
   ]
  },
  {
   "cell_type": "code",
   "execution_count": 42,
   "id": "39dd7996-bd8a-446b-9884-d7e2257e0aa9",
   "metadata": {},
   "outputs": [],
   "source": [
    "from catboost import CatBoostClassifier"
   ]
  },
  {
   "cell_type": "code",
   "execution_count": 44,
   "id": "0ba0f890-eb4c-41d3-aba6-57da70168b43",
   "metadata": {},
   "outputs": [
    {
     "name": "stdout",
     "output_type": "stream",
     "text": [
      "훈련용 평가지표: 1.0 / 테스트용 평가지표: 0.965034965034965\n"
     ]
    }
   ],
   "source": [
    "hp = {\n",
    "    \"random_state\" : 42,\n",
    "    \"verbose\" : 0 # 부스팅 단계 출력 안보이게 하기\n",
    "}\n",
    "\n",
    "cat = CatBoostClassifier(**hp).fit(X_tr, y_tr)\n",
    "print(f'훈련용 평가지표: {cat.score(X_tr, y_tr)} / 테스트용 평가지표: {cat.score(X_te, y_te)}')"
   ]
  },
  {
   "cell_type": "code",
   "execution_count": 45,
   "id": "91767f35-5ab0-44bd-b560-fa3e054616f4",
   "metadata": {},
   "outputs": [
    {
     "name": "stdout",
     "output_type": "stream",
     "text": [
      "훈련용 평가지표: 0.9882629107981221 / 테스트용 평가지표: 0.965034965034965\n"
     ]
    }
   ],
   "source": [
    "hp = {\n",
    "    \"random_state\" : 42,\n",
    "    \"max_depth\" : 2,\n",
    "    \"n_estimators\" : 100, # 수행할 부스팅 단계 수\n",
    "    \"verbose\" : 0 # 부스팅 단계 출력 안보이게 하기\n",
    "}\n",
    "\n",
    "cat = CatBoostClassifier(**hp).fit(X_tr, y_tr)\n",
    "print(f'훈련용 평가지표: {cat.score(X_tr, y_tr)} / 테스트용 평가지표: {cat.score(X_te, y_te)}')"
   ]
  },
  {
   "cell_type": "markdown",
   "id": "0e0ba561-3265-4d2c-b56e-a7a70b6bfc57",
   "metadata": {},
   "source": [
    "## Voting\n",
    "- 다른 종류의 모델들의 예측값을 합쳐 최종 결과를 도출해내는 과정\n",
    "- Hard voting : 모델들의 예측 결과값을 다수결로 최종 class 결정\n",
    "- soft voting : 모델들의 예측 결과값한 확률을 평균하여 최종 class 결정"
   ]
  },
  {
   "cell_type": "code",
   "execution_count": 46,
   "id": "a0451183-f394-4d5c-8172-8d5959e4b48c",
   "metadata": {},
   "outputs": [],
   "source": [
    "from sklearn.ensemble import VotingClassifier\n",
    "\n",
    "from sklearn.neural_network import MLPClassifier\n",
    "from sklearn.linear_model import LogisticRegression\n",
    "from sklearn.ensemble import RandomForestClassifier "
   ]
  },
  {
   "cell_type": "code",
   "execution_count": 47,
   "id": "86a7f632-3092-4ce4-b0b7-18f57eff84f1",
   "metadata": {},
   "outputs": [],
   "source": [
    "SEED = 42\n",
    "estimators = [\n",
    "    ( \"mlp\" , MLPClassifier(max_iter=1000,random_state=SEED) ),\n",
    "    ( \"lr\" , LogisticRegression(random_state=SEED) ),\n",
    "    ( \"rf\" , RandomForestClassifier(random_state=SEED) )\n",
    "]"
   ]
  },
  {
   "cell_type": "code",
   "execution_count": 48,
   "id": "17c5172e-e71c-4869-88cc-1554ba3258e8",
   "metadata": {},
   "outputs": [
    {
     "name": "stdout",
     "output_type": "stream",
     "text": [
      "훈련용 평가지표: 0.9741784037558685 / 테스트용 평가지표: 0.951048951048951\n"
     ]
    }
   ],
   "source": [
    "hp = {\n",
    "    \"estimators\" : estimators,\n",
    "    \"voting\" : \"soft\"\n",
    "}\n",
    "\n",
    "vot = VotingClassifier(**hp).fit(X_tr, y_tr)\n",
    "print(f'훈련용 평가지표: {vot.score(X_tr, y_tr)} / 테스트용 평가지표: {vot.score(X_te, y_te)}')"
   ]
  },
  {
   "cell_type": "code",
   "execution_count": 49,
   "id": "4a1c5666-e505-4cbe-8145-656b873c3543",
   "metadata": {},
   "outputs": [
    {
     "name": "stdout",
     "output_type": "stream",
     "text": [
      "훈련용 평가지표: 0.9694835680751174 / 테스트용 평가지표: 0.9370629370629371\n"
     ]
    }
   ],
   "source": [
    "hp = {\n",
    "    \"estimators\" : estimators,\n",
    "    \"voting\" : \"hard\"\n",
    "}\n",
    "\n",
    "vot = VotingClassifier(**hp).fit(X_tr, y_tr)\n",
    "print(f'훈련용 평가지표: {vot.score(X_tr, y_tr)} / 테스트용 평가지표: {vot.score(X_te, y_te)}')"
   ]
  },
  {
   "cell_type": "markdown",
   "id": "d1c8f73a-b13a-46ac-8f8f-46c483d2fa43",
   "metadata": {},
   "source": [
    "## Stacking"
   ]
  },
  {
   "cell_type": "code",
   "execution_count": null,
   "id": "944854a8-5d76-4de6-b1f4-8336dbecc18c",
   "metadata": {},
   "outputs": [],
   "source": [
    "from sklearn.ensemble import StackingClassifier\n",
    "\n",
    "from sklearn.neural_network import MLPClassifier\n",
    "from sklearn.linear_model import LogisticRegression\n",
    "from sklearn.ensemble import RandomForestClassifier "
   ]
  },
  {
   "cell_type": "code",
   "execution_count": null,
   "id": "ba14d856-2430-4cdd-a9f1-2cbea623e4b3",
   "metadata": {},
   "outputs": [],
   "source": [
    "SEED = 42\n",
    "estimators = [\n",
    "    ( \"mlp\" , MLPClassifier(max_iter=1000,random_state=SEED) ),\n",
    "    ( \"lr\" , LogisticRegression(random_state=SEED) ),\n",
    "    ( \"rf\" , RandomForestClassifier(random_state=SEED) )\n",
    "]\n",
    "\n",
    "hp = {\n",
    "    \"estimators\" : estimators,\n",
    "    \"final_estimator\" : LogisticRegression(random_state=SEED)\n",
    "}\n",
    "\n",
    "stack = StackingClassifier(**hp,n_jobs=-1).fit(X_tr, y_tr)\n",
    "print(f'훈련용 평가지표: {stack.score(X_tr, y_tr)} / 테스트용 평가지표: {stack.score(X_te, y_te)}')"
   ]
  },
  {
   "cell_type": "code",
   "execution_count": null,
   "id": "e2726bc2-f0cc-4858-8a9f-60d6859cd79e",
   "metadata": {},
   "outputs": [],
   "source": []
  },
  {
   "cell_type": "code",
   "execution_count": null,
   "id": "bf6761e1-f664-4e5a-938e-eefb4659abcf",
   "metadata": {},
   "outputs": [],
   "source": []
  },
  {
   "cell_type": "code",
   "execution_count": null,
   "id": "e9d5a343-2cce-4060-984f-b0a94ae5655c",
   "metadata": {},
   "outputs": [],
   "source": []
  }
 ],
 "metadata": {
  "kernelspec": {
   "display_name": "Python 3 (ipykernel)",
   "language": "python",
   "name": "python3"
  },
  "language_info": {
   "codemirror_mode": {
    "name": "ipython",
    "version": 3
   },
   "file_extension": ".py",
   "mimetype": "text/x-python",
   "name": "python",
   "nbconvert_exporter": "python",
   "pygments_lexer": "ipython3",
   "version": "3.9.12"
  }
 },
 "nbformat": 4,
 "nbformat_minor": 5
}
