{
 "cells": [
  {
   "cell_type": "markdown",
   "id": "5b4d12f7-e527-472b-a700-166d756fcfc6",
   "metadata": {},
   "source": [
    "# overfittin 예제"
   ]
  },
  {
   "cell_type": "code",
   "execution_count": 8,
   "id": "4ef48333-7edb-42f6-b3c7-11330248245b",
   "metadata": {},
   "outputs": [],
   "source": [
    "import seaborn as sns\n",
    "\n",
    "df = sns.load_dataset('titanic')"
   ]
  },
  {
   "cell_type": "code",
   "execution_count": 9,
   "id": "a44bf14c-0dd5-4c95-8e58-61b710ac8cdc",
   "metadata": {},
   "outputs": [],
   "source": [
    "cols = ['age','sibsp','parch','fare']\n",
    "features = df[cols]\n",
    "target = df['survived']"
   ]
  },
  {
   "cell_type": "code",
   "execution_count": 12,
   "id": "53756059-72f3-40f8-8f97-25db99dcbeec",
   "metadata": {},
   "outputs": [
    {
     "data": {
      "text/html": [
       "<div>\n",
       "<style scoped>\n",
       "    .dataframe tbody tr th:only-of-type {\n",
       "        vertical-align: middle;\n",
       "    }\n",
       "\n",
       "    .dataframe tbody tr th {\n",
       "        vertical-align: top;\n",
       "    }\n",
       "\n",
       "    .dataframe thead th {\n",
       "        text-align: right;\n",
       "    }\n",
       "</style>\n",
       "<table border=\"1\" class=\"dataframe\">\n",
       "  <thead>\n",
       "    <tr style=\"text-align: right;\">\n",
       "      <th></th>\n",
       "      <th>age</th>\n",
       "      <th>sibsp</th>\n",
       "      <th>parch</th>\n",
       "      <th>fare</th>\n",
       "      <th>pclass_1</th>\n",
       "      <th>pclass_2</th>\n",
       "      <th>pclass_3</th>\n",
       "      <th>sex_female</th>\n",
       "      <th>sex_male</th>\n",
       "      <th>embarked_C</th>\n",
       "      <th>...</th>\n",
       "      <th>embarked_nan</th>\n",
       "      <th>pclass_1</th>\n",
       "      <th>pclass_2</th>\n",
       "      <th>pclass_3</th>\n",
       "      <th>sex_female</th>\n",
       "      <th>sex_male</th>\n",
       "      <th>embarked_C</th>\n",
       "      <th>embarked_Q</th>\n",
       "      <th>embarked_S</th>\n",
       "      <th>embarked_nan</th>\n",
       "    </tr>\n",
       "  </thead>\n",
       "  <tbody>\n",
       "    <tr>\n",
       "      <th>0</th>\n",
       "      <td>22.0</td>\n",
       "      <td>1</td>\n",
       "      <td>0</td>\n",
       "      <td>7.2500</td>\n",
       "      <td>0.0</td>\n",
       "      <td>0.0</td>\n",
       "      <td>1.0</td>\n",
       "      <td>0.0</td>\n",
       "      <td>1.0</td>\n",
       "      <td>0.0</td>\n",
       "      <td>...</td>\n",
       "      <td>0.0</td>\n",
       "      <td>0.0</td>\n",
       "      <td>0.0</td>\n",
       "      <td>1.0</td>\n",
       "      <td>0.0</td>\n",
       "      <td>1.0</td>\n",
       "      <td>0.0</td>\n",
       "      <td>0.0</td>\n",
       "      <td>1.0</td>\n",
       "      <td>0.0</td>\n",
       "    </tr>\n",
       "    <tr>\n",
       "      <th>1</th>\n",
       "      <td>38.0</td>\n",
       "      <td>1</td>\n",
       "      <td>0</td>\n",
       "      <td>71.2833</td>\n",
       "      <td>1.0</td>\n",
       "      <td>0.0</td>\n",
       "      <td>0.0</td>\n",
       "      <td>1.0</td>\n",
       "      <td>0.0</td>\n",
       "      <td>1.0</td>\n",
       "      <td>...</td>\n",
       "      <td>0.0</td>\n",
       "      <td>1.0</td>\n",
       "      <td>0.0</td>\n",
       "      <td>0.0</td>\n",
       "      <td>1.0</td>\n",
       "      <td>0.0</td>\n",
       "      <td>1.0</td>\n",
       "      <td>0.0</td>\n",
       "      <td>0.0</td>\n",
       "      <td>0.0</td>\n",
       "    </tr>\n",
       "    <tr>\n",
       "      <th>2</th>\n",
       "      <td>26.0</td>\n",
       "      <td>0</td>\n",
       "      <td>0</td>\n",
       "      <td>7.9250</td>\n",
       "      <td>0.0</td>\n",
       "      <td>0.0</td>\n",
       "      <td>1.0</td>\n",
       "      <td>1.0</td>\n",
       "      <td>0.0</td>\n",
       "      <td>0.0</td>\n",
       "      <td>...</td>\n",
       "      <td>0.0</td>\n",
       "      <td>0.0</td>\n",
       "      <td>0.0</td>\n",
       "      <td>1.0</td>\n",
       "      <td>1.0</td>\n",
       "      <td>0.0</td>\n",
       "      <td>0.0</td>\n",
       "      <td>0.0</td>\n",
       "      <td>1.0</td>\n",
       "      <td>0.0</td>\n",
       "    </tr>\n",
       "  </tbody>\n",
       "</table>\n",
       "<p>3 rows × 22 columns</p>\n",
       "</div>"
      ],
      "text/plain": [
       "    age  sibsp  parch     fare  pclass_1  pclass_2  pclass_3  sex_female  \\\n",
       "0  22.0      1      0   7.2500       0.0       0.0       1.0         0.0   \n",
       "1  38.0      1      0  71.2833       1.0       0.0       0.0         1.0   \n",
       "2  26.0      0      0   7.9250       0.0       0.0       1.0         1.0   \n",
       "\n",
       "   sex_male  embarked_C  ...  embarked_nan  pclass_1  pclass_2  pclass_3  \\\n",
       "0       1.0         0.0  ...           0.0       0.0       0.0       1.0   \n",
       "1       0.0         1.0  ...           0.0       1.0       0.0       0.0   \n",
       "2       0.0         0.0  ...           0.0       0.0       0.0       1.0   \n",
       "\n",
       "   sex_female  sex_male  embarked_C  embarked_Q  embarked_S  embarked_nan  \n",
       "0         0.0       1.0         0.0         0.0         1.0           0.0  \n",
       "1         1.0       0.0         1.0         0.0         0.0           0.0  \n",
       "2         1.0       0.0         0.0         0.0         1.0           0.0  \n",
       "\n",
       "[3 rows x 22 columns]"
      ]
     },
     "execution_count": 12,
     "metadata": {},
     "output_type": "execute_result"
    }
   ],
   "source": [
    "import pandas as pd\n",
    "from sklearn.preprocessing import OneHotEncoder\n",
    "\n",
    "cols = ['pclass','sex','embarked']\n",
    "enc = OneHotEncoder()\n",
    "tmp = pd.DataFrame(\n",
    "    enc.fit_transform(df[cols]).toarray(),\n",
    "    columns = enc.get_feature_names_out()\n",
    ")\n",
    "tmp\n",
    "features = pd.concat([features,tmp],axis=1)\n",
    "features.head(3)"
   ]
  },
  {
   "cell_type": "code",
   "execution_count": 11,
   "id": "98f91de1-3b5c-4098-a483-488fdb01fbe2",
   "metadata": {},
   "outputs": [
    {
     "data": {
      "text/html": [
       "<div>\n",
       "<style scoped>\n",
       "    .dataframe tbody tr th:only-of-type {\n",
       "        vertical-align: middle;\n",
       "    }\n",
       "\n",
       "    .dataframe tbody tr th {\n",
       "        vertical-align: top;\n",
       "    }\n",
       "\n",
       "    .dataframe thead th {\n",
       "        text-align: right;\n",
       "    }\n",
       "</style>\n",
       "<table border=\"1\" class=\"dataframe\">\n",
       "  <thead>\n",
       "    <tr style=\"text-align: right;\">\n",
       "      <th></th>\n",
       "      <th>survived</th>\n",
       "      <th>pclass</th>\n",
       "      <th>sex</th>\n",
       "      <th>age</th>\n",
       "      <th>sibsp</th>\n",
       "      <th>parch</th>\n",
       "      <th>fare</th>\n",
       "      <th>embarked</th>\n",
       "      <th>class</th>\n",
       "      <th>who</th>\n",
       "      <th>adult_male</th>\n",
       "      <th>deck</th>\n",
       "      <th>embark_town</th>\n",
       "      <th>alive</th>\n",
       "      <th>alone</th>\n",
       "    </tr>\n",
       "  </thead>\n",
       "  <tbody>\n",
       "    <tr>\n",
       "      <th>0</th>\n",
       "      <td>0</td>\n",
       "      <td>3</td>\n",
       "      <td>male</td>\n",
       "      <td>22.0</td>\n",
       "      <td>1</td>\n",
       "      <td>0</td>\n",
       "      <td>7.2500</td>\n",
       "      <td>S</td>\n",
       "      <td>Third</td>\n",
       "      <td>man</td>\n",
       "      <td>True</td>\n",
       "      <td>NaN</td>\n",
       "      <td>Southampton</td>\n",
       "      <td>no</td>\n",
       "      <td>False</td>\n",
       "    </tr>\n",
       "    <tr>\n",
       "      <th>1</th>\n",
       "      <td>1</td>\n",
       "      <td>1</td>\n",
       "      <td>female</td>\n",
       "      <td>38.0</td>\n",
       "      <td>1</td>\n",
       "      <td>0</td>\n",
       "      <td>71.2833</td>\n",
       "      <td>C</td>\n",
       "      <td>First</td>\n",
       "      <td>woman</td>\n",
       "      <td>False</td>\n",
       "      <td>C</td>\n",
       "      <td>Cherbourg</td>\n",
       "      <td>yes</td>\n",
       "      <td>False</td>\n",
       "    </tr>\n",
       "  </tbody>\n",
       "</table>\n",
       "</div>"
      ],
      "text/plain": [
       "   survived  pclass     sex   age  sibsp  parch     fare embarked  class  \\\n",
       "0         0       3    male  22.0      1      0   7.2500        S  Third   \n",
       "1         1       1  female  38.0      1      0  71.2833        C  First   \n",
       "\n",
       "     who  adult_male deck  embark_town alive  alone  \n",
       "0    man        True  NaN  Southampton    no  False  \n",
       "1  woman       False    C    Cherbourg   yes  False  "
      ]
     },
     "execution_count": 11,
     "metadata": {},
     "output_type": "execute_result"
    }
   ],
   "source": [
    "df.head(2)"
   ]
  },
  {
   "cell_type": "code",
   "execution_count": 13,
   "id": "77886167-ee0b-4528-954f-9b344f58213c",
   "metadata": {},
   "outputs": [
    {
     "data": {
      "text/plain": [
       "0"
      ]
     },
     "execution_count": 13,
     "metadata": {},
     "output_type": "execute_result"
    }
   ],
   "source": [
    "features.age = features.age.fillna(-1)\n",
    "features.isnull().sum().sum()"
   ]
  },
  {
   "cell_type": "code",
   "execution_count": 14,
   "id": "2299c312-8aa9-4a10-bde0-6e978feded65",
   "metadata": {},
   "outputs": [
    {
     "data": {
      "text/plain": [
       "((712, 22), (179, 22), (712,), (179,))"
      ]
     },
     "execution_count": 14,
     "metadata": {},
     "output_type": "execute_result"
    }
   ],
   "source": [
    "from sklearn.model_selection import train_test_split\n",
    "SEED=42\n",
    "\n",
    "x_train,x_valid, y_train,y_valid= train_test_split(features,target,random_state=SEED,test_size=0.2)\n",
    "\n",
    "x_train.shape,x_valid.shape, y_train.shape,y_valid.shape"
   ]
  },
  {
   "cell_type": "markdown",
   "id": "c44792bd-ee0e-4132-aef9-4fdef8f672bc",
   "metadata": {},
   "source": [
    "## 모델 복잡도에 따른 overfittin 예제"
   ]
  },
  {
   "cell_type": "code",
   "execution_count": 15,
   "id": "cde51e18-27c5-4ce4-8230-57d19f4a0d81",
   "metadata": {},
   "outputs": [
    {
     "data": {
      "text/plain": [
       "(0.9803370786516854, 0.770949720670391)"
      ]
     },
     "execution_count": 15,
     "metadata": {},
     "output_type": "execute_result"
    }
   ],
   "source": [
    "from sklearn.tree import DecisionTreeClassifier\n",
    "SEED = 42\n",
    "\n",
    "model = DecisionTreeClassifier(max_depth=20,random_state=SEED)\n",
    "\n",
    "\n",
    "model.fit(x_train,y_train)\n",
    "\n",
    "\n",
    "\n",
    "model.score(x_train,y_train) , model.score(x_valid,y_valid)"
   ]
  },
  {
   "cell_type": "markdown",
   "id": "2cbeb590-1f5e-4fb8-a57f-e2171868f572",
   "metadata": {},
   "source": [
    "## 모델 복잡도를 줄인 예제"
   ]
  },
  {
   "cell_type": "code",
   "execution_count": 16,
   "id": "d217e5ae-25ff-4175-9a49-7fe275a3a5e8",
   "metadata": {},
   "outputs": [
    {
     "data": {
      "text/plain": [
       "(0.8146067415730337, 0.7932960893854749)"
      ]
     },
     "execution_count": 16,
     "metadata": {},
     "output_type": "execute_result"
    }
   ],
   "source": [
    "model = DecisionTreeClassifier(max_depth=3,random_state=SEED)\n",
    "model.fit(x_train,y_train)\n",
    "model.score(x_train,y_train) , model.score(x_valid,y_valid)"
   ]
  },
  {
   "cell_type": "code",
   "execution_count": null,
   "id": "8d0b5366-458f-4bd4-b7f9-e496aaeebb9a",
   "metadata": {},
   "outputs": [],
   "source": []
  }
 ],
 "metadata": {
  "kernelspec": {
   "display_name": "Python 3 (ipykernel)",
   "language": "python",
   "name": "python3"
  },
  "language_info": {
   "codemirror_mode": {
    "name": "ipython",
    "version": 3
   },
   "file_extension": ".py",
   "mimetype": "text/x-python",
   "name": "python",
   "nbconvert_exporter": "python",
   "pygments_lexer": "ipython3",
   "version": "3.9.12"
  }
 },
 "nbformat": 4,
 "nbformat_minor": 5
}
