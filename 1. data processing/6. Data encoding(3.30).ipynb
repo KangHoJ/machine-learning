{
 "cells": [
  {
   "cell_type": "code",
   "execution_count": 1,
   "id": "ed258867-d08c-46c9-a399-2dcf943f6683",
   "metadata": {
    "tags": []
   },
   "outputs": [
    {
     "name": "stdout",
     "output_type": "stream",
     "text": [
      "Requirement already satisfied: category_encoders in c:\\users\\user\\anaconda3\\lib\\site-packages (2.6.0)\n",
      "Requirement already satisfied: scipy>=1.0.0 in c:\\users\\user\\anaconda3\\lib\\site-packages (from category_encoders) (1.7.3)\n",
      "Requirement already satisfied: statsmodels>=0.9.0 in c:\\users\\user\\anaconda3\\lib\\site-packages (from category_encoders) (0.13.2)\n",
      "Requirement already satisfied: patsy>=0.5.1 in c:\\users\\user\\anaconda3\\lib\\site-packages (from category_encoders) (0.5.2)\n",
      "Requirement already satisfied: scikit-learn>=0.20.0 in c:\\users\\user\\anaconda3\\lib\\site-packages (from category_encoders) (1.0.2)\n",
      "Requirement already satisfied: pandas>=1.0.5 in c:\\users\\user\\anaconda3\\lib\\site-packages (from category_encoders) (1.4.2)\n",
      "Requirement already satisfied: numpy>=1.14.0 in c:\\users\\user\\anaconda3\\lib\\site-packages (from category_encoders) (1.21.5)\n",
      "Requirement already satisfied: pytz>=2020.1 in c:\\users\\user\\anaconda3\\lib\\site-packages (from pandas>=1.0.5->category_encoders) (2021.3)"
     ]
    },
    {
     "name": "stderr",
     "output_type": "stream",
     "text": [
      "\n",
      "[notice] A new release of pip available: 22.3.1 -> 23.0.1\n",
      "[notice] To update, run: python.exe -m pip install --upgrade pip\n"
     ]
    },
    {
     "name": "stdout",
     "output_type": "stream",
     "text": [
      "\n",
      "Requirement already satisfied: python-dateutil>=2.8.1 in c:\\users\\user\\anaconda3\\lib\\site-packages (from pandas>=1.0.5->category_encoders) (2.8.2)\n",
      "Requirement already satisfied: six in c:\\users\\user\\anaconda3\\lib\\site-packages (from patsy>=0.5.1->category_encoders) (1.16.0)\n",
      "Requirement already satisfied: threadpoolctl>=2.0.0 in c:\\users\\user\\anaconda3\\lib\\site-packages (from scikit-learn>=0.20.0->category_encoders) (2.2.0)\n",
      "Requirement already satisfied: joblib>=0.11 in c:\\users\\user\\anaconda3\\lib\\site-packages (from scikit-learn>=0.20.0->category_encoders) (1.1.0)\n",
      "Requirement already satisfied: packaging>=21.3 in c:\\users\\user\\anaconda3\\lib\\site-packages (from statsmodels>=0.9.0->category_encoders) (21.3)\n",
      "Requirement already satisfied: pyparsing!=3.0.5,>=2.0.2 in c:\\users\\user\\anaconda3\\lib\\site-packages (from packaging>=21.3->statsmodels>=0.9.0->category_encoders) (3.0.4)\n"
     ]
    }
   ],
   "source": [
    "!pip install category_encoders"
   ]
  },
  {
   "cell_type": "code",
   "execution_count": 2,
   "id": "70de2cfe-600e-458d-90c9-b236670cf5ef",
   "metadata": {},
   "outputs": [],
   "source": [
    "import numpy as np \n",
    "import pandas as pd\n",
    "\n",
    "import category_encoders as ce"
   ]
  },
  {
   "cell_type": "markdown",
   "id": "c373cdba-d073-4047-ac1f-c6badab53558",
   "metadata": {},
   "source": [
    "# 사용법"
   ]
  },
  {
   "cell_type": "markdown",
   "id": "a050cd9c-f505-488d-a2ec-aedaea2c2f87",
   "metadata": {},
   "source": [
    "### One Hot Encoding"
   ]
  },
  {
   "cell_type": "markdown",
   "id": "ca0fadad-2846-4716-8a94-c45671058256",
   "metadata": {},
   "source": [
    "- one hot encoding은 범주형을 0,1로 이루어진 컬럼으로 바꿔주는 인코딩 방식\n",
    "- 가장 많이 사용하면 대부분 다 해결됨\n",
    "- 단점 : 피처의 항목이 많은 경우 차원의 저주에 빠질 수 있다."
   ]
  },
  {
   "cell_type": "code",
   "execution_count": 24,
   "id": "c81715cd-4cc3-4563-9e62-1464c46218dc",
   "metadata": {},
   "outputs": [
    {
     "data": {
      "text/html": [
       "<div>\n",
       "<style scoped>\n",
       "    .dataframe tbody tr th:only-of-type {\n",
       "        vertical-align: middle;\n",
       "    }\n",
       "\n",
       "    .dataframe tbody tr th {\n",
       "        vertical-align: top;\n",
       "    }\n",
       "\n",
       "    .dataframe thead th {\n",
       "        text-align: right;\n",
       "    }\n",
       "</style>\n",
       "<table border=\"1\" class=\"dataframe\">\n",
       "  <thead>\n",
       "    <tr style=\"text-align: right;\">\n",
       "      <th></th>\n",
       "      <th>color</th>\n",
       "    </tr>\n",
       "  </thead>\n",
       "  <tbody>\n",
       "    <tr>\n",
       "      <th>0</th>\n",
       "      <td>Red</td>\n",
       "    </tr>\n",
       "    <tr>\n",
       "      <th>1</th>\n",
       "      <td>Blue</td>\n",
       "    </tr>\n",
       "    <tr>\n",
       "      <th>2</th>\n",
       "      <td>Green</td>\n",
       "    </tr>\n",
       "  </tbody>\n",
       "</table>\n",
       "</div>"
      ],
      "text/plain": [
       "   color\n",
       "0    Red\n",
       "1   Blue\n",
       "2  Green"
      ]
     },
     "execution_count": 24,
     "metadata": {},
     "output_type": "execute_result"
    }
   ],
   "source": [
    "data = {'color':['Red','Blue','Green']}\n",
    "df= pd.DataFrame(data)\n",
    "df.head()"
   ]
  },
  {
   "cell_type": "code",
   "execution_count": 25,
   "id": "d2391f1b-67bf-4c3d-b86e-87ca524fd1c5",
   "metadata": {},
   "outputs": [
    {
     "data": {
      "text/html": [
       "<div>\n",
       "<style scoped>\n",
       "    .dataframe tbody tr th:only-of-type {\n",
       "        vertical-align: middle;\n",
       "    }\n",
       "\n",
       "    .dataframe tbody tr th {\n",
       "        vertical-align: top;\n",
       "    }\n",
       "\n",
       "    .dataframe thead th {\n",
       "        text-align: right;\n",
       "    }\n",
       "</style>\n",
       "<table border=\"1\" class=\"dataframe\">\n",
       "  <thead>\n",
       "    <tr style=\"text-align: right;\">\n",
       "      <th></th>\n",
       "      <th>color_Red</th>\n",
       "      <th>color_Blue</th>\n",
       "      <th>color_Green</th>\n",
       "    </tr>\n",
       "  </thead>\n",
       "  <tbody>\n",
       "    <tr>\n",
       "      <th>0</th>\n",
       "      <td>1</td>\n",
       "      <td>0</td>\n",
       "      <td>0</td>\n",
       "    </tr>\n",
       "    <tr>\n",
       "      <th>1</th>\n",
       "      <td>0</td>\n",
       "      <td>1</td>\n",
       "      <td>0</td>\n",
       "    </tr>\n",
       "    <tr>\n",
       "      <th>2</th>\n",
       "      <td>0</td>\n",
       "      <td>0</td>\n",
       "      <td>1</td>\n",
       "    </tr>\n",
       "  </tbody>\n",
       "</table>\n",
       "</div>"
      ],
      "text/plain": [
       "   color_Red  color_Blue  color_Green\n",
       "0          1           0            0\n",
       "1          0           1            0\n",
       "2          0           0            1"
      ]
     },
     "execution_count": 25,
     "metadata": {},
     "output_type": "execute_result"
    }
   ],
   "source": [
    "encoder = ce.OneHotEncoder(use_cat_names=True) # 인코딩 객체 만들어짐 (use_cat_names는 기존 컬럼명 유지 용도)\n",
    "\n",
    "df_encoded = encoder.fit_transform(df) # df를 인코딩\n",
    "\n",
    "df_encoded.head()"
   ]
  },
  {
   "cell_type": "markdown",
   "id": "9ccfb5d7-38b9-47c8-b51d-92bf755f5c9f",
   "metadata": {},
   "source": [
    "## mean encoing"
   ]
  },
  {
   "cell_type": "code",
   "execution_count": 26,
   "id": "264c1cf2-0445-420e-bb60-be402d06eb9a",
   "metadata": {
    "tags": []
   },
   "outputs": [
    {
     "data": {
      "text/html": [
       "<div>\n",
       "<style scoped>\n",
       "    .dataframe tbody tr th:only-of-type {\n",
       "        vertical-align: middle;\n",
       "    }\n",
       "\n",
       "    .dataframe tbody tr th {\n",
       "        vertical-align: top;\n",
       "    }\n",
       "\n",
       "    .dataframe thead th {\n",
       "        text-align: right;\n",
       "    }\n",
       "</style>\n",
       "<table border=\"1\" class=\"dataframe\">\n",
       "  <thead>\n",
       "    <tr style=\"text-align: right;\">\n",
       "      <th></th>\n",
       "      <th>Pincode</th>\n",
       "      <th>O/P</th>\n",
       "    </tr>\n",
       "  </thead>\n",
       "  <tbody>\n",
       "    <tr>\n",
       "      <th>0</th>\n",
       "      <td>753001</td>\n",
       "      <td>1</td>\n",
       "    </tr>\n",
       "    <tr>\n",
       "      <th>1</th>\n",
       "      <td>753002</td>\n",
       "      <td>1</td>\n",
       "    </tr>\n",
       "    <tr>\n",
       "      <th>2</th>\n",
       "      <td>753003</td>\n",
       "      <td>0</td>\n",
       "    </tr>\n",
       "  </tbody>\n",
       "</table>\n",
       "</div>"
      ],
      "text/plain": [
       "  Pincode  O/P\n",
       "0  753001    1\n",
       "1  753002    1\n",
       "2  753003    0"
      ]
     },
     "execution_count": 26,
     "metadata": {},
     "output_type": "execute_result"
    }
   ],
   "source": [
    "data = {'Pincode': ['753001', '753002', '753003', '753001', '753004', '753002', '753002', '753001', '753003']\n",
    "        , 'O/P': [1, 1, 0, 0, 1, 0, 1, 0, 1]}\n",
    "df2 = pd.DataFrame(data) \n",
    "df2.head(3)"
   ]
  },
  {
   "cell_type": "code",
   "execution_count": 27,
   "id": "9bfadc00-96bf-4dda-a2ba-1bff49849f5d",
   "metadata": {},
   "outputs": [
    {
     "data": {
      "text/plain": [
       "Pincode\n",
       "753001    0.333333\n",
       "753002    0.666667\n",
       "753003    0.500000\n",
       "753004    1.000000\n",
       "Name: O/P, dtype: float64"
      ]
     },
     "execution_count": 27,
     "metadata": {},
     "output_type": "execute_result"
    }
   ],
   "source": [
    "group_mean = df2.groupby('Pincode')['O/P'].mean()\n",
    "group_mean"
   ]
  },
  {
   "cell_type": "code",
   "execution_count": 28,
   "id": "9fdd2d02-3931-4a44-96de-11fee14cb031",
   "metadata": {},
   "outputs": [
    {
     "data": {
      "text/html": [
       "<div>\n",
       "<style scoped>\n",
       "    .dataframe tbody tr th:only-of-type {\n",
       "        vertical-align: middle;\n",
       "    }\n",
       "\n",
       "    .dataframe tbody tr th {\n",
       "        vertical-align: top;\n",
       "    }\n",
       "\n",
       "    .dataframe thead th {\n",
       "        text-align: right;\n",
       "    }\n",
       "</style>\n",
       "<table border=\"1\" class=\"dataframe\">\n",
       "  <thead>\n",
       "    <tr style=\"text-align: right;\">\n",
       "      <th></th>\n",
       "      <th>Pincode</th>\n",
       "      <th>O/P</th>\n",
       "      <th>Mean</th>\n",
       "    </tr>\n",
       "  </thead>\n",
       "  <tbody>\n",
       "    <tr>\n",
       "      <th>0</th>\n",
       "      <td>753001</td>\n",
       "      <td>1</td>\n",
       "      <td>0.333333</td>\n",
       "    </tr>\n",
       "    <tr>\n",
       "      <th>1</th>\n",
       "      <td>753002</td>\n",
       "      <td>1</td>\n",
       "      <td>0.666667</td>\n",
       "    </tr>\n",
       "    <tr>\n",
       "      <th>2</th>\n",
       "      <td>753003</td>\n",
       "      <td>0</td>\n",
       "      <td>0.500000</td>\n",
       "    </tr>\n",
       "    <tr>\n",
       "      <th>3</th>\n",
       "      <td>753001</td>\n",
       "      <td>0</td>\n",
       "      <td>0.333333</td>\n",
       "    </tr>\n",
       "    <tr>\n",
       "      <th>4</th>\n",
       "      <td>753004</td>\n",
       "      <td>1</td>\n",
       "      <td>1.000000</td>\n",
       "    </tr>\n",
       "  </tbody>\n",
       "</table>\n",
       "</div>"
      ],
      "text/plain": [
       "  Pincode  O/P      Mean\n",
       "0  753001    1  0.333333\n",
       "1  753002    1  0.666667\n",
       "2  753003    0  0.500000\n",
       "3  753001    0  0.333333\n",
       "4  753004    1  1.000000"
      ]
     },
     "execution_count": 28,
     "metadata": {},
     "output_type": "execute_result"
    }
   ],
   "source": [
    "df2['Mean'] = df2['Pincode'].map(group_mean)\n",
    "df2.head()"
   ]
  },
  {
   "cell_type": "markdown",
   "id": "640663d5-9ad1-43e1-a2db-4c5568a7a942",
   "metadata": {},
   "source": [
    "## Target Encoding"
   ]
  },
  {
   "cell_type": "code",
   "execution_count": 29,
   "id": "49a7ebe8-ae6c-4b72-bb14-b14e1a40fde7",
   "metadata": {},
   "outputs": [
    {
     "data": {
      "text/html": [
       "<div>\n",
       "<style scoped>\n",
       "    .dataframe tbody tr th:only-of-type {\n",
       "        vertical-align: middle;\n",
       "    }\n",
       "\n",
       "    .dataframe tbody tr th {\n",
       "        vertical-align: top;\n",
       "    }\n",
       "\n",
       "    .dataframe thead th {\n",
       "        text-align: right;\n",
       "    }\n",
       "</style>\n",
       "<table border=\"1\" class=\"dataframe\">\n",
       "  <thead>\n",
       "    <tr style=\"text-align: right;\">\n",
       "      <th></th>\n",
       "      <th>Column</th>\n",
       "      <th>O/P</th>\n",
       "    </tr>\n",
       "  </thead>\n",
       "  <tbody>\n",
       "    <tr>\n",
       "      <th>0</th>\n",
       "      <td>Btech</td>\n",
       "      <td>1</td>\n",
       "    </tr>\n",
       "    <tr>\n",
       "      <th>1</th>\n",
       "      <td>PHD</td>\n",
       "      <td>1</td>\n",
       "    </tr>\n",
       "    <tr>\n",
       "      <th>2</th>\n",
       "      <td>Masters</td>\n",
       "      <td>0</td>\n",
       "    </tr>\n",
       "    <tr>\n",
       "      <th>3</th>\n",
       "      <td>High School</td>\n",
       "      <td>0</td>\n",
       "    </tr>\n",
       "    <tr>\n",
       "      <th>4</th>\n",
       "      <td>PHD</td>\n",
       "      <td>1</td>\n",
       "    </tr>\n",
       "    <tr>\n",
       "      <th>5</th>\n",
       "      <td>Btech</td>\n",
       "      <td>0</td>\n",
       "    </tr>\n",
       "    <tr>\n",
       "      <th>6</th>\n",
       "      <td>Masters</td>\n",
       "      <td>0</td>\n",
       "    </tr>\n",
       "    <tr>\n",
       "      <th>7</th>\n",
       "      <td>High School</td>\n",
       "      <td>0</td>\n",
       "    </tr>\n",
       "    <tr>\n",
       "      <th>8</th>\n",
       "      <td>High School</td>\n",
       "      <td>1</td>\n",
       "    </tr>\n",
       "  </tbody>\n",
       "</table>\n",
       "</div>"
      ],
      "text/plain": [
       "        Column  O/P\n",
       "0        Btech    1\n",
       "1          PHD    1\n",
       "2      Masters    0\n",
       "3  High School    0\n",
       "4          PHD    1\n",
       "5        Btech    0\n",
       "6      Masters    0\n",
       "7  High School    0\n",
       "8  High School    1"
      ]
     },
     "execution_count": 29,
     "metadata": {},
     "output_type": "execute_result"
    }
   ],
   "source": [
    "data = {'Column': ['Btech', 'PHD', 'Masters', 'High School', 'PHD', 'Btech', 'Masters', 'High School', 'High School']\n",
    "        , 'O/P': [1, 1, 0, 0, 1, 0, 0, 0, 1]}\n",
    "df = pd.DataFrame(data) \n",
    "df"
   ]
  },
  {
   "cell_type": "code",
   "execution_count": 30,
   "id": "6abd7c10-a43a-4054-b2e9-6615b9671fe8",
   "metadata": {},
   "outputs": [
    {
     "data": {
      "text/html": [
       "<div>\n",
       "<style scoped>\n",
       "    .dataframe tbody tr th:only-of-type {\n",
       "        vertical-align: middle;\n",
       "    }\n",
       "\n",
       "    .dataframe tbody tr th {\n",
       "        vertical-align: top;\n",
       "    }\n",
       "\n",
       "    .dataframe thead th {\n",
       "        text-align: right;\n",
       "    }\n",
       "</style>\n",
       "<table border=\"1\" class=\"dataframe\">\n",
       "  <thead>\n",
       "    <tr style=\"text-align: right;\">\n",
       "      <th></th>\n",
       "      <th>Column</th>\n",
       "      <th>O/P</th>\n",
       "      <th>encoded</th>\n",
       "      <th>Rank</th>\n",
       "    </tr>\n",
       "  </thead>\n",
       "  <tbody>\n",
       "    <tr>\n",
       "      <th>0</th>\n",
       "      <td>Btech</td>\n",
       "      <td>1</td>\n",
       "      <td>0.452325</td>\n",
       "      <td>2.0</td>\n",
       "    </tr>\n",
       "    <tr>\n",
       "      <th>1</th>\n",
       "      <td>PHD</td>\n",
       "      <td>1</td>\n",
       "      <td>0.523251</td>\n",
       "      <td>1.0</td>\n",
       "    </tr>\n",
       "    <tr>\n",
       "      <th>2</th>\n",
       "      <td>Masters</td>\n",
       "      <td>0</td>\n",
       "      <td>0.381400</td>\n",
       "      <td>4.0</td>\n",
       "    </tr>\n",
       "  </tbody>\n",
       "</table>\n",
       "</div>"
      ],
      "text/plain": [
       "    Column  O/P   encoded  Rank\n",
       "0    Btech    1  0.452325   2.0\n",
       "1      PHD    1  0.523251   1.0\n",
       "2  Masters    0  0.381400   4.0"
      ]
     },
     "execution_count": 30,
     "metadata": {},
     "output_type": "execute_result"
    }
   ],
   "source": [
    "encoder = ce.TargetEncoder()\n",
    "\n",
    "df_encoded = encoder.fit_transform(df['Column'], df['O/P'])\n",
    "df['encoded'] = df_encoded['Column']\n",
    "df['Rank'] = df['encoded'].rank(method='dense', ascending=False)\n",
    "\n",
    "df.head(3)"
   ]
  },
  {
   "cell_type": "markdown",
   "id": "ba255ea6-04f0-443c-8ae7-0c41b03131ff",
   "metadata": {
    "tags": []
   },
   "source": [
    "## Label Encoding(별로 안좋음)"
   ]
  },
  {
   "cell_type": "code",
   "execution_count": 31,
   "id": "d446309e-ede0-40d1-ad39-30b68dd30311",
   "metadata": {},
   "outputs": [
    {
     "data": {
      "text/html": [
       "<div>\n",
       "<style scoped>\n",
       "    .dataframe tbody tr th:only-of-type {\n",
       "        vertical-align: middle;\n",
       "    }\n",
       "\n",
       "    .dataframe tbody tr th {\n",
       "        vertical-align: top;\n",
       "    }\n",
       "\n",
       "    .dataframe thead th {\n",
       "        text-align: right;\n",
       "    }\n",
       "</style>\n",
       "<table border=\"1\" class=\"dataframe\">\n",
       "  <thead>\n",
       "    <tr style=\"text-align: right;\">\n",
       "      <th></th>\n",
       "      <th>column</th>\n",
       "    </tr>\n",
       "  </thead>\n",
       "  <tbody>\n",
       "    <tr>\n",
       "      <th>0</th>\n",
       "      <td>Btech</td>\n",
       "    </tr>\n",
       "    <tr>\n",
       "      <th>1</th>\n",
       "      <td>Masters</td>\n",
       "    </tr>\n",
       "    <tr>\n",
       "      <th>2</th>\n",
       "      <td>High School</td>\n",
       "    </tr>\n",
       "    <tr>\n",
       "      <th>3</th>\n",
       "      <td>PHD</td>\n",
       "    </tr>\n",
       "  </tbody>\n",
       "</table>\n",
       "</div>"
      ],
      "text/plain": [
       "        column\n",
       "0        Btech\n",
       "1      Masters\n",
       "2  High School\n",
       "3          PHD"
      ]
     },
     "execution_count": 31,
     "metadata": {},
     "output_type": "execute_result"
    }
   ],
   "source": [
    "data = {'column': ['Btech', 'Masters', 'High School', 'PHD']}\n",
    "df = pd.DataFrame(data) \n",
    "df.head()"
   ]
  },
  {
   "cell_type": "code",
   "execution_count": 32,
   "id": "7cf8d4c2-3e62-4b32-a29f-2f079aeb72b8",
   "metadata": {},
   "outputs": [],
   "source": [
    "from sklearn.preprocessing import LabelEncoder"
   ]
  },
  {
   "cell_type": "code",
   "execution_count": 33,
   "id": "2420e05f-8db9-45a7-9099-58f0f82f9eb7",
   "metadata": {},
   "outputs": [
    {
     "data": {
      "text/html": [
       "<div>\n",
       "<style scoped>\n",
       "    .dataframe tbody tr th:only-of-type {\n",
       "        vertical-align: middle;\n",
       "    }\n",
       "\n",
       "    .dataframe tbody tr th {\n",
       "        vertical-align: top;\n",
       "    }\n",
       "\n",
       "    .dataframe thead th {\n",
       "        text-align: right;\n",
       "    }\n",
       "</style>\n",
       "<table border=\"1\" class=\"dataframe\">\n",
       "  <thead>\n",
       "    <tr style=\"text-align: right;\">\n",
       "      <th></th>\n",
       "      <th>column</th>\n",
       "      <th>column_encoded</th>\n",
       "    </tr>\n",
       "  </thead>\n",
       "  <tbody>\n",
       "    <tr>\n",
       "      <th>0</th>\n",
       "      <td>Btech</td>\n",
       "      <td>0</td>\n",
       "    </tr>\n",
       "    <tr>\n",
       "      <th>1</th>\n",
       "      <td>Masters</td>\n",
       "      <td>2</td>\n",
       "    </tr>\n",
       "    <tr>\n",
       "      <th>2</th>\n",
       "      <td>High School</td>\n",
       "      <td>1</td>\n",
       "    </tr>\n",
       "    <tr>\n",
       "      <th>3</th>\n",
       "      <td>PHD</td>\n",
       "      <td>3</td>\n",
       "    </tr>\n",
       "  </tbody>\n",
       "</table>\n",
       "</div>"
      ],
      "text/plain": [
       "        column  column_encoded\n",
       "0        Btech               0\n",
       "1      Masters               2\n",
       "2  High School               1\n",
       "3          PHD               3"
      ]
     },
     "execution_count": 33,
     "metadata": {},
     "output_type": "execute_result"
    }
   ],
   "source": [
    "encoder = LabelEncoder()\n",
    "\n",
    "df['column_encoded'] = encoder.fit_transform(df['column'])\n",
    "\n",
    "df.head()"
   ]
  },
  {
   "cell_type": "code",
   "execution_count": 34,
   "id": "78d92666-12f3-41d0-b332-83ad4b0d607f",
   "metadata": {},
   "outputs": [
    {
     "data": {
      "text/plain": [
       "array(['Btech', 'Masters', 'High School', 'PHD'], dtype=object)"
      ]
     },
     "execution_count": 34,
     "metadata": {},
     "output_type": "execute_result"
    }
   ],
   "source": [
    "df['column'].unique()"
   ]
  },
  {
   "cell_type": "markdown",
   "id": "1fecaaeb-335d-42b0-9ba0-daf68990ab11",
   "metadata": {
    "tags": []
   },
   "source": [
    "## Ordinal Encoding"
   ]
  },
  {
   "cell_type": "code",
   "execution_count": 35,
   "id": "f1485907-c2ac-44e7-8586-b425633deb65",
   "metadata": {},
   "outputs": [
    {
     "data": {
      "text/html": [
       "<div>\n",
       "<style scoped>\n",
       "    .dataframe tbody tr th:only-of-type {\n",
       "        vertical-align: middle;\n",
       "    }\n",
       "\n",
       "    .dataframe tbody tr th {\n",
       "        vertical-align: top;\n",
       "    }\n",
       "\n",
       "    .dataframe thead th {\n",
       "        text-align: right;\n",
       "    }\n",
       "</style>\n",
       "<table border=\"1\" class=\"dataframe\">\n",
       "  <thead>\n",
       "    <tr style=\"text-align: right;\">\n",
       "      <th></th>\n",
       "      <th>Fruit</th>\n",
       "      <th>color</th>\n",
       "      <th>price</th>\n",
       "    </tr>\n",
       "  </thead>\n",
       "  <tbody>\n",
       "    <tr>\n",
       "      <th>0</th>\n",
       "      <td>시과</td>\n",
       "      <td>red1</td>\n",
       "      <td>2000</td>\n",
       "    </tr>\n",
       "    <tr>\n",
       "      <th>1</th>\n",
       "      <td>딸기</td>\n",
       "      <td>red2</td>\n",
       "      <td>300</td>\n",
       "    </tr>\n",
       "    <tr>\n",
       "      <th>2</th>\n",
       "      <td>바나나</td>\n",
       "      <td>yellow</td>\n",
       "      <td>400</td>\n",
       "    </tr>\n",
       "    <tr>\n",
       "      <th>3</th>\n",
       "      <td>수박</td>\n",
       "      <td>red</td>\n",
       "      <td>30000</td>\n",
       "    </tr>\n",
       "    <tr>\n",
       "      <th>4</th>\n",
       "      <td>포도</td>\n",
       "      <td>purple</td>\n",
       "      <td>150</td>\n",
       "    </tr>\n",
       "  </tbody>\n",
       "</table>\n",
       "</div>"
      ],
      "text/plain": [
       "  Fruit   color  price\n",
       "0    시과    red1   2000\n",
       "1    딸기    red2    300\n",
       "2   바나나  yellow    400\n",
       "3    수박     red  30000\n",
       "4    포도  purple    150"
      ]
     },
     "execution_count": 35,
     "metadata": {},
     "output_type": "execute_result"
    }
   ],
   "source": [
    "df = pd.DataFrame(\n",
    "    {'Fruit': ['시과', '딸기', '바나나', '수박', '포도',\n",
    "               '메론','자두','체리','화이트베리', '무화과'],\n",
    "     'color':['red1','red2','yellow','red','purple','green','light red','pink','white','brown'],\n",
    "     'price': [2000,300,400, 30000, 150, 8000,1000,100,300,800]})\n",
    "\n",
    "df.head()"
   ]
  },
  {
   "cell_type": "code",
   "execution_count": 36,
   "id": "0312d07e-df13-4c50-ad89-1bd20f5f3a31",
   "metadata": {},
   "outputs": [
    {
     "data": {
      "text/html": [
       "<div>\n",
       "<style scoped>\n",
       "    .dataframe tbody tr th:only-of-type {\n",
       "        vertical-align: middle;\n",
       "    }\n",
       "\n",
       "    .dataframe tbody tr th {\n",
       "        vertical-align: top;\n",
       "    }\n",
       "\n",
       "    .dataframe thead th {\n",
       "        text-align: right;\n",
       "    }\n",
       "</style>\n",
       "<table border=\"1\" class=\"dataframe\">\n",
       "  <thead>\n",
       "    <tr style=\"text-align: right;\">\n",
       "      <th></th>\n",
       "      <th>Fruit</th>\n",
       "      <th>color</th>\n",
       "      <th>price</th>\n",
       "    </tr>\n",
       "  </thead>\n",
       "  <tbody>\n",
       "    <tr>\n",
       "      <th>0</th>\n",
       "      <td>시과</td>\n",
       "      <td>1</td>\n",
       "      <td>2000</td>\n",
       "    </tr>\n",
       "    <tr>\n",
       "      <th>1</th>\n",
       "      <td>딸기</td>\n",
       "      <td>2</td>\n",
       "      <td>300</td>\n",
       "    </tr>\n",
       "    <tr>\n",
       "      <th>2</th>\n",
       "      <td>바나나</td>\n",
       "      <td>3</td>\n",
       "      <td>400</td>\n",
       "    </tr>\n",
       "    <tr>\n",
       "      <th>3</th>\n",
       "      <td>수박</td>\n",
       "      <td>4</td>\n",
       "      <td>30000</td>\n",
       "    </tr>\n",
       "    <tr>\n",
       "      <th>4</th>\n",
       "      <td>포도</td>\n",
       "      <td>5</td>\n",
       "      <td>150</td>\n",
       "    </tr>\n",
       "  </tbody>\n",
       "</table>\n",
       "</div>"
      ],
      "text/plain": [
       "  Fruit  color  price\n",
       "0    시과      1   2000\n",
       "1    딸기      2    300\n",
       "2   바나나      3    400\n",
       "3    수박      4  30000\n",
       "4    포도      5    150"
      ]
     },
     "execution_count": 36,
     "metadata": {},
     "output_type": "execute_result"
    }
   ],
   "source": [
    "encoder = ce.OrdinalEncoder(cols = 'color')\n",
    "\n",
    "df_encoded = encoder.fit_transform(df)\n",
    "df_encoded.head()"
   ]
  },
  {
   "cell_type": "markdown",
   "id": "fe3a02cc-30cb-4ba7-af90-da3e95015715",
   "metadata": {},
   "source": [
    "# 예제"
   ]
  },
  {
   "cell_type": "code",
   "execution_count": 97,
   "id": "f469272a-71bd-481f-a216-05f7ec94b9d6",
   "metadata": {},
   "outputs": [],
   "source": [
    "result = []"
   ]
  },
  {
   "cell_type": "code",
   "execution_count": 98,
   "id": "45aff130-106e-4bed-9c91-f2cd4ab7fcf9",
   "metadata": {},
   "outputs": [],
   "source": [
    "from sklearn.tree import DecisionTreeClassifier\n",
    "SEED = 42\n"
   ]
  },
  {
   "cell_type": "code",
   "execution_count": 99,
   "id": "5139596c-d28b-4e1a-be53-3e9b2f8c443e",
   "metadata": {},
   "outputs": [
    {
     "data": {
      "text/plain": [
       "(891, 8)"
      ]
     },
     "execution_count": 99,
     "metadata": {},
     "output_type": "execute_result"
    }
   ],
   "source": [
    "import seaborn as sns\n",
    "\n",
    "df = sns.load_dataset('titanic')\n",
    "cols = [\"age\",\"sibsp\",\"parch\",\"fare\",\"pclass\",\"sex\",\"embarked\", \"survived\"]\n",
    "df = df[cols]\n",
    "df.shape "
   ]
  },
  {
   "cell_type": "markdown",
   "id": "14390151-c7ee-4a3b-a8cc-78370711c512",
   "metadata": {},
   "source": [
    "### 데이터 분리"
   ]
  },
  {
   "cell_type": "code",
   "execution_count": 100,
   "id": "74f0f0bb-a697-4798-9423-81683c6b45a6",
   "metadata": {},
   "outputs": [
    {
     "data": {
      "text/plain": [
       "((712, 8), (179, 8))"
      ]
     },
     "execution_count": 100,
     "metadata": {},
     "output_type": "execute_result"
    }
   ],
   "source": [
    "from sklearn.model_selection import train_test_split\n",
    "SEED=42\n",
    "\n",
    "train, test = train_test_split(df,random_state=SEED,test_size=0.2)\n",
    "\n",
    "train.shape, test.shape\n"
   ]
  },
  {
   "cell_type": "markdown",
   "id": "a1c40263-58f8-4931-ab0e-01350fd888c3",
   "metadata": {},
   "source": [
    "### 결측치 제거"
   ]
  },
  {
   "cell_type": "code",
   "execution_count": 101,
   "id": "f27dede9-958c-4538-97bd-b74da723a3c1",
   "metadata": {},
   "outputs": [
    {
     "data": {
      "text/plain": [
       "0"
      ]
     },
     "execution_count": 101,
     "metadata": {},
     "output_type": "execute_result"
    }
   ],
   "source": [
    "train['age'] = train['age'].fillna(train.age.mean())\n",
    "test['age'] = test['age'].fillna(train.age.mean())\n",
    "\n",
    "train['embarked'] = train['embarked'].fillna(train.embarked.mode().values[0])\n",
    "test['embarke'] = test['embarked'].fillna(train.embarked.mode().values[0])\n",
    "\n",
    "train.isnull().sum().sum() # encoding 전에 찍어 봐야함 "
   ]
  },
  {
   "cell_type": "code",
   "execution_count": 102,
   "id": "6a3695cb-5921-4160-9a3d-426be460d00b",
   "metadata": {},
   "outputs": [
    {
     "data": {
      "text/plain": [
       "((712, 2), (712,))"
      ]
     },
     "execution_count": 102,
     "metadata": {},
     "output_type": "execute_result"
    }
   ],
   "source": [
    "# 나누고 feature 과 target으로 나눔 (X_tr , Y_tr 나누는것과 비슷)\n",
    "cols = ['age','fare']\n",
    "features_tr = train[cols]\n",
    "target_tr = train['survived']\n",
    "features_te = test[cols]\n",
    "target_te = test['survived']\n",
    "\n",
    "features_tr.shape, target_tr.shape"
   ]
  },
  {
   "cell_type": "code",
   "execution_count": 103,
   "id": "e62dd839-fc7e-4bed-8b0f-843cb62b19a0",
   "metadata": {},
   "outputs": [
    {
     "data": {
      "text/plain": [
       "((712, 5), (179, 5))"
      ]
     },
     "execution_count": 103,
     "metadata": {},
     "output_type": "execute_result"
    }
   ],
   "source": [
    "cols_encoding = [\"pclass\",\"sex\",\"embarked\",\"sibsp\",\"parch\"]\n",
    "tmp_tr = train[cols_encoding]  \n",
    "tmp_te = test[cols_encoding]  \n",
    "# 수치형 들만 따로 빼는데 sex, embakred는 포함 \n",
    "tmp_tr.shape , tmp_te.shape "
   ]
  },
  {
   "cell_type": "code",
   "execution_count": 104,
   "id": "1a6f7dcd-adec-4f1b-a1c3-dad87985233c",
   "metadata": {
    "tags": []
   },
   "outputs": [
    {
     "name": "stderr",
     "output_type": "stream",
     "text": [
      "C:\\Users\\User\\AppData\\Local\\Temp\\ipykernel_18156\\426023417.py:1: SettingWithCopyWarning: \n",
      "A value is trying to be set on a copy of a slice from a DataFrame.\n",
      "Try using .loc[row_indexer,col_indexer] = value instead\n",
      "\n",
      "See the caveats in the documentation: https://pandas.pydata.org/pandas-docs/stable/user_guide/indexing.html#returning-a-view-versus-a-copy\n",
      "  tmp_tr['sex'] = tmp_tr['sex'].map({'male':1, 'female':0})\n",
      "C:\\Users\\User\\AppData\\Local\\Temp\\ipykernel_18156\\426023417.py:2: SettingWithCopyWarning: \n",
      "A value is trying to be set on a copy of a slice from a DataFrame.\n",
      "Try using .loc[row_indexer,col_indexer] = value instead\n",
      "\n",
      "See the caveats in the documentation: https://pandas.pydata.org/pandas-docs/stable/user_guide/indexing.html#returning-a-view-versus-a-copy\n",
      "  tmp_tr['embarked'] = tmp_tr['embarked'].map({'S':2, 'C':1, 'Q':0})\n",
      "C:\\Users\\User\\AppData\\Local\\Temp\\ipykernel_18156\\426023417.py:4: SettingWithCopyWarning: \n",
      "A value is trying to be set on a copy of a slice from a DataFrame.\n",
      "Try using .loc[row_indexer,col_indexer] = value instead\n",
      "\n",
      "See the caveats in the documentation: https://pandas.pydata.org/pandas-docs/stable/user_guide/indexing.html#returning-a-view-versus-a-copy\n",
      "  tmp_te['sex'] = tmp_te['sex'].map({'male':1, 'female':0})\n",
      "C:\\Users\\User\\AppData\\Local\\Temp\\ipykernel_18156\\426023417.py:5: SettingWithCopyWarning: \n",
      "A value is trying to be set on a copy of a slice from a DataFrame.\n",
      "Try using .loc[row_indexer,col_indexer] = value instead\n",
      "\n",
      "See the caveats in the documentation: https://pandas.pydata.org/pandas-docs/stable/user_guide/indexing.html#returning-a-view-versus-a-copy\n",
      "  tmp_te['embarked'] = tmp_te['embarked'].map({'S':2, 'C':1, 'Q':0})\n"
     ]
    }
   ],
   "source": [
    "tmp_tr['sex'] = tmp_tr['sex'].map({'male':1, 'female':0})\n",
    "tmp_tr['embarked'] = tmp_tr['embarked'].map({'S':2, 'C':1, 'Q':0})\n",
    "\n",
    "tmp_te['sex'] = tmp_te['sex'].map({'male':1, 'female':0})\n",
    "tmp_te['embarked'] = tmp_te['embarked'].map({'S':2, 'C':1, 'Q':0})\n",
    "\n",
    "# sex,embarked를 수치형으로 변경 "
   ]
  },
  {
   "cell_type": "code",
   "execution_count": 105,
   "id": "f7cd7bee-7440-4d15-8f04-d7cec9563f0e",
   "metadata": {
    "tags": []
   },
   "outputs": [
    {
     "data": {
      "text/plain": [
       "((712, 5), (179, 5))"
      ]
     },
     "execution_count": 105,
     "metadata": {},
     "output_type": "execute_result"
    }
   ],
   "source": [
    "tmp_tr.shape , tmp_te.shape"
   ]
  },
  {
   "cell_type": "markdown",
   "id": "465352c8-36c3-4a35-a49c-2bac6c729341",
   "metadata": {},
   "source": [
    "## One hot Encoding"
   ]
  },
  {
   "cell_type": "code",
   "execution_count": 106,
   "id": "a63b9745-9cf0-49ec-b160-1b13fb7db398",
   "metadata": {},
   "outputs": [],
   "source": [
    "encoder = ce.OneHotEncoder(use_cat_names=True)"
   ]
  },
  {
   "cell_type": "code",
   "execution_count": 107,
   "id": "944a1ec7-519d-48f3-b382-657dc6431055",
   "metadata": {},
   "outputs": [],
   "source": [
    "enco_tr = pd.DataFrame() # 깡통 만들기\n",
    "enco_te = pd.DataFrame() # 깡통 만들기\n",
    "\n",
    "for col in tmp_tr.columns:\n",
    "  _enco = encoder.fit_transform(tmp_tr[col].astype('category'))\n",
    "# 수치형 자료들을 카테고리 형태로 변환 시킨것 칼럼들을 encoding 적용\n",
    "  enco_tr = pd.concat([enco_tr, _enco], axis=1)\n",
    "# 변환된거 깡통에 업그레이드 ( for 문 자체에서 업데이트 붙이는게 꼭 필요하다 ) \n",
    "    \n",
    "  _enco2 = encoder.transform(tmp_te[col].astype('category'))\n",
    "  enco_te = pd.concat([enco_te, _enco2], axis=1)\n",
    "# 변환된거 깡통에 업그레이드 ( for 문 자체에서 업데이트 붙이는게 꼭 필요하다 ) \n",
    "    \n",
    "# print(f'{enco_tr.shape} / {enco_te.shape}')"
   ]
  },
  {
   "cell_type": "code",
   "execution_count": 108,
   "id": "5c264cd1-c59f-4adf-bc0c-d6cfcbe588f3",
   "metadata": {},
   "outputs": [
    {
     "data": {
      "text/plain": [
       "((712, 7), (179, 7))"
      ]
     },
     "execution_count": 108,
     "metadata": {},
     "output_type": "execute_result"
    }
   ],
   "source": [
    "_enco.shape , _enco2.shape"
   ]
  },
  {
   "cell_type": "code",
   "execution_count": 109,
   "id": "f382c571-caed-47a2-9534-75c077ec35d3",
   "metadata": {},
   "outputs": [
    {
     "data": {
      "text/plain": [
       "((712, 22), (179, 22))"
      ]
     },
     "execution_count": 109,
     "metadata": {},
     "output_type": "execute_result"
    }
   ],
   "source": [
    "enco_tr.shape , enco_te.shape"
   ]
  },
  {
   "cell_type": "code",
   "execution_count": 110,
   "id": "271ecddc-5773-4eee-b1bb-f98e3f0c8cd9",
   "metadata": {},
   "outputs": [
    {
     "data": {
      "text/plain": [
       "((712, 2), (712, 22))"
      ]
     },
     "execution_count": 110,
     "metadata": {},
     "output_type": "execute_result"
    }
   ],
   "source": [
    "features_tr = features_tr.reset_index(drop=True)\n",
    "features_te = features_te.reset_index(drop=True)\n",
    "enco_tr = enco_tr.reset_index(drop=True)\n",
    "enco_te = enco_te.reset_index(drop=True)\n",
    "\n",
    "features_tr.shape, enco_tr.shape"
   ]
  },
  {
   "cell_type": "code",
   "execution_count": 112,
   "id": "6b43dcbb-180c-43ee-aaa5-7cc20c274d6f",
   "metadata": {
    "tags": []
   },
   "outputs": [
    {
     "name": "stdout",
     "output_type": "stream",
     "text": [
      "(712, 24) / (179, 24)\n"
     ]
    }
   ],
   "source": [
    "df_tr = pd.concat([features_tr,enco_tr],axis=1).reset_index(drop=True)\n",
    "df_te = pd.concat([features_te,enco_te],axis=1).reset_index(drop=True)\n",
    "\n",
    "print(f'{df_tr.shape} / {df_te.shape}')"
   ]
  },
  {
   "cell_type": "markdown",
   "id": "5e6a6c51-1090-4cdd-bb95-78350cbadf91",
   "metadata": {},
   "source": [
    "## Training"
   ]
  },
  {
   "cell_type": "code",
   "execution_count": 113,
   "id": "e57ba17f-df5b-4ceb-bf16-a67a35e5b049",
   "metadata": {},
   "outputs": [
    {
     "data": {
      "text/plain": [
       "(0.9803370786516854, 0.776536312849162)"
      ]
     },
     "execution_count": 113,
     "metadata": {},
     "output_type": "execute_result"
    }
   ],
   "source": [
    "model = DecisionTreeClassifier(random_state=SEED)\n",
    "model.fit(df_tr,target_tr)\n",
    "\n",
    "tr_score = model.score(df_tr,target_tr) \n",
    "te_score = model.score(df_te,target_te)\n",
    "\n",
    "tr_score, te_score"
   ]
  },
  {
   "cell_type": "code",
   "execution_count": 116,
   "id": "49027c68-7b9b-4e4a-81e7-b14d4571b2a2",
   "metadata": {},
   "outputs": [
    {
     "data": {
      "text/plain": [
       "[{'encoding': 'one-hot',\n",
       "  'tr_score': 0.9803370786516854,\n",
       "  'te_score': 0.776536312849162},\n",
       " {'encoding': 'one-hot',\n",
       "  'tr_score': 0.9803370786516854,\n",
       "  'te_score': 0.776536312849162}]"
      ]
     },
     "execution_count": 116,
     "metadata": {},
     "output_type": "execute_result"
    }
   ],
   "source": [
    "result.append(\n",
    "    {\n",
    "        'encoding': 'one-hot',\n",
    "        'tr_score': tr_score,\n",
    "        'te_score': te_score\n",
    "    }\n",
    ")"
   ]
  },
  {
   "cell_type": "markdown",
   "id": "dfb346ec-bfec-49df-b3dd-7efc6299711f",
   "metadata": {},
   "source": [
    "## Target Encoding"
   ]
  },
  {
   "cell_type": "code",
   "execution_count": 119,
   "id": "5761b2f4-6153-4909-864e-919398564582",
   "metadata": {},
   "outputs": [],
   "source": [
    "encoder = ce.TargetEncoder()"
   ]
  },
  {
   "cell_type": "code",
   "execution_count": 120,
   "id": "6c92bbdb-2847-4e4a-84b1-d271f68ca2b9",
   "metadata": {},
   "outputs": [
    {
     "name": "stdout",
     "output_type": "stream",
     "text": [
      "Warning: No categorical columns found. Calling 'transform' will only return input data.\n",
      "(712, 5) / (179, 5)\n"
     ]
    },
    {
     "data": {
      "text/html": [
       "<div>\n",
       "<style scoped>\n",
       "    .dataframe tbody tr th:only-of-type {\n",
       "        vertical-align: middle;\n",
       "    }\n",
       "\n",
       "    .dataframe tbody tr th {\n",
       "        vertical-align: top;\n",
       "    }\n",
       "\n",
       "    .dataframe thead th {\n",
       "        text-align: right;\n",
       "    }\n",
       "</style>\n",
       "<table border=\"1\" class=\"dataframe\">\n",
       "  <thead>\n",
       "    <tr style=\"text-align: right;\">\n",
       "      <th></th>\n",
       "      <th>pclass</th>\n",
       "      <th>sex</th>\n",
       "      <th>embarked</th>\n",
       "      <th>sibsp</th>\n",
       "      <th>parch</th>\n",
       "    </tr>\n",
       "  </thead>\n",
       "  <tbody>\n",
       "    <tr>\n",
       "      <th>0</th>\n",
       "      <td>1</td>\n",
       "      <td>1</td>\n",
       "      <td>2</td>\n",
       "      <td>0</td>\n",
       "      <td>0</td>\n",
       "    </tr>\n",
       "    <tr>\n",
       "      <th>1</th>\n",
       "      <td>2</td>\n",
       "      <td>1</td>\n",
       "      <td>2</td>\n",
       "      <td>0</td>\n",
       "      <td>0</td>\n",
       "    </tr>\n",
       "    <tr>\n",
       "      <th>2</th>\n",
       "      <td>3</td>\n",
       "      <td>1</td>\n",
       "      <td>2</td>\n",
       "      <td>0</td>\n",
       "      <td>0</td>\n",
       "    </tr>\n",
       "    <tr>\n",
       "      <th>3</th>\n",
       "      <td>3</td>\n",
       "      <td>1</td>\n",
       "      <td>2</td>\n",
       "      <td>1</td>\n",
       "      <td>0</td>\n",
       "    </tr>\n",
       "    <tr>\n",
       "      <th>4</th>\n",
       "      <td>3</td>\n",
       "      <td>0</td>\n",
       "      <td>2</td>\n",
       "      <td>4</td>\n",
       "      <td>2</td>\n",
       "    </tr>\n",
       "  </tbody>\n",
       "</table>\n",
       "</div>"
      ],
      "text/plain": [
       "   pclass  sex  embarked  sibsp  parch\n",
       "0       1    1         2      0      0\n",
       "1       2    1         2      0      0\n",
       "2       3    1         2      0      0\n",
       "3       3    1         2      1      0\n",
       "4       3    0         2      4      2"
      ]
     },
     "execution_count": 120,
     "metadata": {},
     "output_type": "execute_result"
    }
   ],
   "source": [
    "enco_tr = encoder.fit_transform(tmp_tr.reset_index(drop=True), target_tr.reset_index(drop=True))\n",
    "enco_te = encoder.transform(tmp_te.reset_index(drop=True))\n",
    "\n",
    "print(f'{enco_tr.shape} / {enco_te.shape}')\n",
    "enco_tr.head()"
   ]
  },
  {
   "cell_type": "code",
   "execution_count": 121,
   "id": "d71ae7c7-b1f1-4d3f-b15d-85d5868f1c49",
   "metadata": {},
   "outputs": [
    {
     "data": {
      "text/plain": [
       "((712, 2), (712, 5))"
      ]
     },
     "execution_count": 121,
     "metadata": {},
     "output_type": "execute_result"
    }
   ],
   "source": [
    "features_tr = features_tr.reset_index(drop=True)\n",
    "features_te = features_te.reset_index(drop=True)\n",
    "enco_tr = enco_tr.reset_index(drop=True)\n",
    "enco_te = enco_te.reset_index(drop=True)\n",
    "\n",
    "features_tr.shape, enco_tr.shape"
   ]
  },
  {
   "cell_type": "code",
   "execution_count": 122,
   "id": "0bfba6e6-3084-470f-a9a7-c6772c2f7ecf",
   "metadata": {},
   "outputs": [
    {
     "name": "stdout",
     "output_type": "stream",
     "text": [
      "(712, 7) / (179, 7)\n"
     ]
    },
    {
     "data": {
      "text/html": [
       "<div>\n",
       "<style scoped>\n",
       "    .dataframe tbody tr th:only-of-type {\n",
       "        vertical-align: middle;\n",
       "    }\n",
       "\n",
       "    .dataframe tbody tr th {\n",
       "        vertical-align: top;\n",
       "    }\n",
       "\n",
       "    .dataframe thead th {\n",
       "        text-align: right;\n",
       "    }\n",
       "</style>\n",
       "<table border=\"1\" class=\"dataframe\">\n",
       "  <thead>\n",
       "    <tr style=\"text-align: right;\">\n",
       "      <th></th>\n",
       "      <th>age</th>\n",
       "      <th>fare</th>\n",
       "      <th>pclass</th>\n",
       "      <th>sex</th>\n",
       "      <th>embarked</th>\n",
       "      <th>sibsp</th>\n",
       "      <th>parch</th>\n",
       "    </tr>\n",
       "  </thead>\n",
       "  <tbody>\n",
       "    <tr>\n",
       "      <th>0</th>\n",
       "      <td>45.5</td>\n",
       "      <td>28.5000</td>\n",
       "      <td>1</td>\n",
       "      <td>1</td>\n",
       "      <td>2</td>\n",
       "      <td>0</td>\n",
       "      <td>0</td>\n",
       "    </tr>\n",
       "    <tr>\n",
       "      <th>1</th>\n",
       "      <td>23.0</td>\n",
       "      <td>13.0000</td>\n",
       "      <td>2</td>\n",
       "      <td>1</td>\n",
       "      <td>2</td>\n",
       "      <td>0</td>\n",
       "      <td>0</td>\n",
       "    </tr>\n",
       "    <tr>\n",
       "      <th>2</th>\n",
       "      <td>32.0</td>\n",
       "      <td>7.9250</td>\n",
       "      <td>3</td>\n",
       "      <td>1</td>\n",
       "      <td>2</td>\n",
       "      <td>0</td>\n",
       "      <td>0</td>\n",
       "    </tr>\n",
       "    <tr>\n",
       "      <th>3</th>\n",
       "      <td>26.0</td>\n",
       "      <td>7.8542</td>\n",
       "      <td>3</td>\n",
       "      <td>1</td>\n",
       "      <td>2</td>\n",
       "      <td>1</td>\n",
       "      <td>0</td>\n",
       "    </tr>\n",
       "    <tr>\n",
       "      <th>4</th>\n",
       "      <td>6.0</td>\n",
       "      <td>31.2750</td>\n",
       "      <td>3</td>\n",
       "      <td>0</td>\n",
       "      <td>2</td>\n",
       "      <td>4</td>\n",
       "      <td>2</td>\n",
       "    </tr>\n",
       "  </tbody>\n",
       "</table>\n",
       "</div>"
      ],
      "text/plain": [
       "    age     fare  pclass  sex  embarked  sibsp  parch\n",
       "0  45.5  28.5000       1    1         2      0      0\n",
       "1  23.0  13.0000       2    1         2      0      0\n",
       "2  32.0   7.9250       3    1         2      0      0\n",
       "3  26.0   7.8542       3    1         2      1      0\n",
       "4   6.0  31.2750       3    0         2      4      2"
      ]
     },
     "execution_count": 122,
     "metadata": {},
     "output_type": "execute_result"
    }
   ],
   "source": [
    "df_tr = pd.concat([features_tr,enco_tr],axis=1).reset_index(drop=True)\n",
    "df_te = pd.concat([features_te,enco_te],axis=1).reset_index(drop=True)\n",
    "\n",
    "print(f'{df_tr.shape} / {df_te.shape}')\n",
    "df_tr.head()"
   ]
  },
  {
   "cell_type": "code",
   "execution_count": 123,
   "id": "ca050a97-21bd-4375-9d04-5a6dfa5b0b0b",
   "metadata": {},
   "outputs": [
    {
     "data": {
      "text/plain": [
       "(0.9803370786516854, 0.7821229050279329)"
      ]
     },
     "execution_count": 123,
     "metadata": {},
     "output_type": "execute_result"
    }
   ],
   "source": [
    "model = DecisionTreeClassifier(random_state=SEED)\n",
    "model.fit(df_tr,target_tr)\n",
    "\n",
    "tr_score = model.score(df_tr,target_tr) \n",
    "te_score = model.score(df_te,target_te)\n",
    "\n",
    "tr_score, te_score"
   ]
  },
  {
   "cell_type": "code",
   "execution_count": 124,
   "id": "c25f8bd9-98c1-4f3c-a639-ca11b44a9756",
   "metadata": {},
   "outputs": [],
   "source": [
    "result.append(\n",
    "    {\n",
    "        'encoding': 'target',\n",
    "        'tr_score': tr_score,\n",
    "        'te_score': te_score\n",
    "    }\n",
    ")"
   ]
  }
 ],
 "metadata": {
  "kernelspec": {
   "display_name": "Python 3 (ipykernel)",
   "language": "python",
   "name": "python3"
  },
  "language_info": {
   "codemirror_mode": {
    "name": "ipython",
    "version": 3
   },
   "file_extension": ".py",
   "mimetype": "text/x-python",
   "name": "python",
   "nbconvert_exporter": "python",
   "pygments_lexer": "ipython3",
   "version": "3.9.12"
  }
 },
 "nbformat": 4,
 "nbformat_minor": 5
}
