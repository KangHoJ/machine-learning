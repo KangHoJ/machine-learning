{
 "cells": [
  {
   "cell_type": "markdown",
   "id": "57ad5481-80c3-45db-8b07-9acd19d34302",
   "metadata": {},
   "source": [
    "# 예측 모델일떄"
   ]
  },
  {
   "cell_type": "markdown",
   "id": "d9e2284a-f129-4af1-a210-e1320b0f15cd",
   "metadata": {},
   "source": [
    "### Linear Regression 학습 및 예측"
   ]
  },
  {
   "cell_type": "code",
   "execution_count": 1,
   "id": "2f5b6abb-6819-48ea-8986-5561a1976c42",
   "metadata": {},
   "outputs": [
    {
     "data": {
      "text/plain": [
       "((442, 10), (442,))"
      ]
     },
     "execution_count": 1,
     "metadata": {},
     "output_type": "execute_result"
    }
   ],
   "source": [
    "from sklearn.datasets import load_diabetes\n",
    "\n",
    "diabetes = load_diabetes()\n",
    "\n",
    "data = diabetes.data\n",
    "target = diabetes.target\n",
    "data.shape , target.shape"
   ]
  },
  {
   "cell_type": "code",
   "execution_count": 2,
   "id": "5c86057b-99ae-4f8b-b412-f0a5dd2f96bb",
   "metadata": {},
   "outputs": [
    {
     "data": {
      "text/plain": [
       "((331, 10), (111, 10), (331,), (111,))"
      ]
     },
     "execution_count": 2,
     "metadata": {},
     "output_type": "execute_result"
    }
   ],
   "source": [
    "from sklearn.model_selection import train_test_split\n",
    "\n",
    "SEED = 42\n",
    "x_train,x_valid , y_train, y_valid = train_test_split(data, target, random_state=SEED)\n",
    "x_train.shape, x_valid.shape , y_train.shape, y_valid.shape"
   ]
  },
  {
   "cell_type": "code",
   "execution_count": 3,
   "id": "0488e5aa-2dc2-44e2-b279-0058188711c1",
   "metadata": {},
   "outputs": [],
   "source": [
    "from sklearn.linear_model import LinearRegression\n",
    "# 모델 생성\n",
    "model = LinearRegression()\n",
    "# 모델 학습\n",
    "model.fit(x_train,y_train)\n",
    "# 모델 예측\n",
    "pred = model.predict(x_valid)"
   ]
  },
  {
   "cell_type": "code",
   "execution_count": 4,
   "id": "1a11a2cf-b7cc-4cf8-8435-7fa055066c08",
   "metadata": {},
   "outputs": [
    {
     "data": {
      "text/plain": [
       "((111,), (111,))"
      ]
     },
     "execution_count": 4,
     "metadata": {},
     "output_type": "execute_result"
    }
   ],
   "source": [
    "pred.shape, y_valid.shape"
   ]
  },
  {
   "cell_type": "code",
   "execution_count": 5,
   "id": "8694850b-d0d1-4c5b-bea5-70c937a28515",
   "metadata": {},
   "outputs": [
    {
     "data": {
      "text/plain": [
       "0.48490866359058016"
      ]
     },
     "execution_count": 5,
     "metadata": {},
     "output_type": "execute_result"
    }
   ],
   "source": [
    "from sklearn.metrics import r2_score\n",
    "\n",
    "r2 = r2_score(y_valid, pred)\n",
    "r2 # 결정개수"
   ]
  },
  {
   "cell_type": "markdown",
   "id": "1c1af6c5-3e48-423a-b33d-dd059a15e3d3",
   "metadata": {},
   "source": [
    "## MSE\n",
    "- 실제값과 예측값의 차이를 제곱한뒤 평균화\n",
    "- 이상치 민감\n",
    "- 직관적이지 못하다\n",
    "- 손실함수로 주로 사용"
   ]
  },
  {
   "cell_type": "code",
   "execution_count": 6,
   "id": "39cc3d1e-b433-417c-87fe-5760e4ac8919",
   "metadata": {},
   "outputs": [
    {
     "data": {
      "text/plain": [
       "2848.2953079329427"
      ]
     },
     "execution_count": 6,
     "metadata": {},
     "output_type": "execute_result"
    }
   ],
   "source": [
    "from sklearn.metrics import mean_squared_error\n",
    "mse = mean_squared_error(y_valid,pred)\n",
    "mse"
   ]
  },
  {
   "cell_type": "markdown",
   "id": "e94c97b3-e9ad-4c8f-989a-32c7b34f9a48",
   "metadata": {},
   "source": [
    "## RMSE\n",
    "- MSE에 루트\n",
    "- 이상치 민감"
   ]
  },
  {
   "cell_type": "code",
   "execution_count": 7,
   "id": "d3cd00fe-59eb-47bb-8aba-09eb09392d5f",
   "metadata": {},
   "outputs": [
    {
     "data": {
      "text/plain": [
       "53.36942296795931"
      ]
     },
     "execution_count": 7,
     "metadata": {},
     "output_type": "execute_result"
    }
   ],
   "source": [
    "import numpy as np\n",
    "np.sqrt(mse)"
   ]
  },
  {
   "cell_type": "markdown",
   "id": "d5372f1a-22cf-4e5e-8892-16e699faf39d",
   "metadata": {},
   "source": [
    "## MAE\n",
    "- 실제값과 예측값의 차이를 절대값으로 변환해서 평균화"
   ]
  },
  {
   "cell_type": "code",
   "execution_count": 8,
   "id": "6a253bce-162b-4c11-8b46-c16da876c67a",
   "metadata": {},
   "outputs": [
    {
     "data": {
      "text/plain": [
       "41.548363283252066"
      ]
     },
     "execution_count": 8,
     "metadata": {},
     "output_type": "execute_result"
    }
   ],
   "source": [
    "from sklearn.metrics import mean_absolute_error\n",
    "mae = mean_absolute_error(y_valid,pred)\n",
    "mae"
   ]
  },
  {
   "cell_type": "markdown",
   "id": "2da025c6-7d40-40cd-a997-12a3371cec45",
   "metadata": {},
   "source": [
    "## MAPE\n",
    "- 실제값에 대한 절대오차 비율의 평균을 퍼센트로 표현\n",
    "- MSE,RMASE의 단점을 보완"
   ]
  },
  {
   "cell_type": "code",
   "execution_count": 9,
   "id": "80fcda45-7262-4dd0-b111-d3692e89d201",
   "metadata": {},
   "outputs": [
    {
     "data": {
      "text/plain": [
       "0.3731095161631555"
      ]
     },
     "execution_count": 9,
     "metadata": {},
     "output_type": "execute_result"
    }
   ],
   "source": [
    "from sklearn.metrics import mean_absolute_percentage_error\n",
    "mape = mean_absolute_percentage_error(y_valid, pred)\n",
    "mape"
   ]
  },
  {
   "cell_type": "markdown",
   "id": "e1d3e3d7-47a5-4999-845e-78374c80f07c",
   "metadata": {},
   "source": [
    "### SMAPE(Symmetric Mean Absolute Percentage Error)\n",
    "- 기존 MAPE의 단점 보완\n",
    "- MAPE와 다른점은 각 실제값과 예측값을 절대값으로 변경후 합으로 나눈다.\n",
    "- MAPE와 다르게 실제값에 0이 존재해도 계산이 가능하다.\n",
    "- 과소추정에 대한 패널티를 줄수가 있다.\n",
    "$$\n",
    "SMAPE = \\frac{100}{n}{\\sum_{i=1}^{n}\\frac{|y_i-\\hat{y}_i|}{{|y_i|}+|\\hat{y_i}|}}\n",
    "$$"
   ]
  },
  {
   "cell_type": "code",
   "execution_count": 10,
   "id": "d50388ef-3405-41a1-855d-caf0748665ea",
   "metadata": {},
   "outputs": [
    {
     "data": {
      "text/plain": [
       "0.15271360402048706"
      ]
     },
     "execution_count": 10,
     "metadata": {},
     "output_type": "execute_result"
    }
   ],
   "source": [
    "def smape(true,pred):\n",
    "    error = np.abs(true-pred) / (np.abs(true) + np.abs(pred))\n",
    "    return np.mean(error)\n",
    "    \n",
    "smape(y_valid,pred)"
   ]
  },
  {
   "cell_type": "markdown",
   "id": "8a163394-dd5b-4b29-b50a-d39c93ef0ae1",
   "metadata": {},
   "source": [
    "# 분류 모형 성능 평가 - 다중 모델일떄"
   ]
  },
  {
   "cell_type": "code",
   "execution_count": 11,
   "id": "59712a2f-c14c-4bf4-afd8-31358e4f77da",
   "metadata": {},
   "outputs": [],
   "source": [
    "import numpy as np \n",
    "import pandas as pd \n",
    "\n",
    "from sklearn.datasets import load_digits\n",
    "digits = load_digits()"
   ]
  },
  {
   "cell_type": "code",
   "execution_count": 12,
   "id": "7f348dbc-89d4-4a84-9534-a5d093e1c0fa",
   "metadata": {},
   "outputs": [],
   "source": [
    "data = digits.data\n",
    "\n",
    "# Binary Classifier\n",
    "target = (digits.target == 5).astype(int) # True / False 를 1,0 int형으로 변환"
   ]
  },
  {
   "cell_type": "code",
   "execution_count": 13,
   "id": "3045b121-3874-4b87-90df-0cc15949b3cf",
   "metadata": {},
   "outputs": [
    {
     "data": {
      "text/plain": [
       "1"
      ]
     },
     "execution_count": 13,
     "metadata": {},
     "output_type": "execute_result"
    }
   ],
   "source": [
    "target[5]"
   ]
  },
  {
   "cell_type": "code",
   "execution_count": 14,
   "id": "cc7c3266-4f78-4879-8b5f-406c0a746dfd",
   "metadata": {},
   "outputs": [],
   "source": [
    "# 원본 데이터\n",
    "digit = data[5]"
   ]
  },
  {
   "cell_type": "code",
   "execution_count": 15,
   "id": "57c6ade3-9a37-4976-ba38-e256eeab7e9f",
   "metadata": {},
   "outputs": [
    {
     "data": {
      "image/png": "[encoded data removed]",
      "text/plain": [
       "<Figure size 432x288 with 1 Axes>"
      ]
     },
     "metadata": {
      "needs_background": "light"
     },
     "output_type": "display_data"
    }
   ],
   "source": [
    "import matplotlib as mpl\n",
    "import matplotlib.pyplot as plt\n",
    "\n",
    "# 벡터 변환\n",
    "digit_img = digit.reshape(8, 8)\n",
    "\n",
    "plt.imshow(digit_img, cmap=\"gray\")\n",
    "plt.axis(\"off\")\n",
    "plt.show() # 숫자가 일떄는 검정색"
   ]
  },
  {
   "cell_type": "code",
   "execution_count": 16,
   "id": "fbdcc6f8-f3bc-46dc-95af-ed5e313ecf98",
   "metadata": {},
   "outputs": [
    {
     "data": {
      "text/plain": [
       "array([[ 0.,  0., 12., 10.,  0.,  0.,  0.,  0.],\n",
       "       [ 0.,  0., 14., 16., 16., 14.,  0.,  0.],\n",
       "       [ 0.,  0., 13., 16., 15., 10.,  1.,  0.],\n",
       "       [ 0.,  0., 11., 16., 16.,  7.,  0.,  0.],\n",
       "       [ 0.,  0.,  0.,  4.,  7., 16.,  7.,  0.],\n",
       "       [ 0.,  0.,  0.,  0.,  4., 16.,  9.,  0.],\n",
       "       [ 0.,  0.,  5.,  4., 12., 16.,  4.,  0.],\n",
       "       [ 0.,  0.,  9., 16., 16., 10.,  0.,  0.]])"
      ]
     },
     "execution_count": 16,
     "metadata": {},
     "output_type": "execute_result"
    }
   ],
   "source": [
    "digit_img"
   ]
  },
  {
   "cell_type": "markdown",
   "id": "c8d02dda-6128-4d00-829b-39b36a9b64f1",
   "metadata": {
    "tags": []
   },
   "source": [
    "## 혼동행렬 예제"
   ]
  },
  {
   "cell_type": "code",
   "execution_count": 18,
   "id": "822f8a3a-e24e-4360-9c82-c0fd631db626",
   "metadata": {},
   "outputs": [
    {
     "data": {
      "text/plain": [
       "((1347, 64), (450, 64), (1347,), (450,))"
      ]
     },
     "execution_count": 18,
     "metadata": {},
     "output_type": "execute_result"
    }
   ],
   "source": [
    "from sklearn.model_selection import train_test_split\n",
    "\n",
    "SEED = 42\n",
    "x_train, x_valid, y_train, y_valid = train_test_split(data, target, random_state=SEED)\n",
    "x_train.shape , x_valid.shape, y_train.shape, y_valid.shape"
   ]
  },
  {
   "cell_type": "code",
   "execution_count": 19,
   "id": "2ef278ac-6f45-4664-8f60-f92bc00cc8f8",
   "metadata": {},
   "outputs": [],
   "source": [
    "from sklearn.model_selection import cross_val_predict # 교차검증(여러번 학습하는 방법)\n",
    "\n",
    "y_train_pred = cross_val_predict(sgd_clf, x_train, y_train, cv=5) # 5번 학습"
   ]
  },
  {
   "cell_type": "code",
   "execution_count": 20,
   "id": "6049edd6-7b70-47db-860a-737ced943fe6",
   "metadata": {},
   "outputs": [
    {
     "data": {
      "text/plain": [
       "array([[1217,    7],\n",
       "       [   8,  115]], dtype=int64)"
      ]
     },
     "execution_count": 20,
     "metadata": {},
     "output_type": "execute_result"
    }
   ],
   "source": [
    "from sklearn.metrics import confusion_matrix\n",
    "\n",
    "confusion_matrix(y_train, y_train_pred)"
   ]
  },
  {
   "cell_type": "markdown",
   "id": "74209922-55cc-4acc-a58f-f4fbd2891c12",
   "metadata": {},
   "source": [
    "## 모델 Dummy vs 일반 비교"
   ]
  },
  {
   "cell_type": "markdown",
   "id": "d33925bf-e661-4cf0-9aa5-532fdd70e96e",
   "metadata": {},
   "source": [
    "#### 모델 학습"
   ]
  },
  {
   "cell_type": "code",
   "execution_count": 22,
   "id": "01b4f00a-336e-46d6-93ff-9b5ebc2dd2ed",
   "metadata": {},
   "outputs": [],
   "source": [
    "from sklearn.dummy import DummyClassifier\n",
    "\n",
    "dummy = DummyClassifier(strategy='most_frequent')\n",
    "dummy.fit(x_train,y_train) # 훈련 \n",
    "pred_dummy = dummy.predict(x_valid) # test로 예측 "
   ]
  },
  {
   "cell_type": "code",
   "execution_count": 23,
   "id": "6f14d1c1-3b29-4495-ad02-c7daea4eff2b",
   "metadata": {},
   "outputs": [],
   "source": [
    "from sklearn.linear_model import SGDClassifier\n",
    "\n",
    "sgd_clf = SGDClassifier(random_state=42)\n",
    "sgd_clf.fit(x_train, y_train) # 훈련\n",
    "pred_clf = sgd_clf.predict(x_valid) # test로 예측"
   ]
  },
  {
   "cell_type": "markdown",
   "id": "d0f7c2cd-cd50-4e40-bb55-68c3f8e74210",
   "metadata": {},
   "source": [
    "#### 정확도 (accuarcy) "
   ]
  },
  {
   "cell_type": "code",
   "execution_count": 24,
   "id": "327715cc-1035-4edd-b67c-dd3d611ab710",
   "metadata": {},
   "outputs": [
    {
     "name": "stdout",
     "output_type": "stream",
     "text": [
      "dummy: 0.8688888888888889\n",
      "model: 0.9866666666666667\n"
     ]
    }
   ],
   "source": [
    "from sklearn.metrics import accuracy_score\n",
    "score = accuracy_score(y_valid, pred_dummy)\n",
    "print(f\"dummy: {score}\")\n",
    "score = accuracy_score(y_valid, pred_clf)\n",
    "print(f\"model: {score}\")"
   ]
  },
  {
   "cell_type": "markdown",
   "id": "3588eac6-80b4-4783-89d4-63fc51a01cca",
   "metadata": {},
   "source": [
    "#### precision(정밀도)"
   ]
  },
  {
   "cell_type": "code",
   "execution_count": 48,
   "id": "b37449fe-21b0-422d-8f14-aade5aa38013",
   "metadata": {},
   "outputs": [
    {
     "name": "stdout",
     "output_type": "stream",
     "text": [
      "dummy: 0.0\n",
      "model: 1.0\n"
     ]
    },
    {
     "name": "stderr",
     "output_type": "stream",
     "text": [
      "C:\\Users\\User\\anaconda3\\lib\\site-packages\\sklearn\\metrics\\_classification.py:1318: UndefinedMetricWarning: Precision is ill-defined and being set to 0.0 due to no predicted samples. Use `zero_division` parameter to control this behavior.\n",
      "  _warn_prf(average, modifier, msg_start, len(result))\n"
     ]
    }
   ],
   "source": [
    "from sklearn.metrics import precision_score\n",
    "score = precision_score(y_valid, pred_dummy)\n",
    "print(f\"dummy: {score}\") # precision은 TP즉 1로 예측한것만 예측 하는데 dummy는 0으로만 예측하기 떄문 0나옴\n",
    "score = precision_score(y_valid, pred_clf)\n",
    "print(f\"model: {score}\")  "
   ]
  },
  {
   "cell_type": "markdown",
   "id": "9cf2ef90-b580-41fa-a075-198e69abdc2c",
   "metadata": {},
   "source": [
    "#### Sensitiveity(민감도), Recall(재현도)"
   ]
  },
  {
   "cell_type": "code",
   "execution_count": null,
   "id": "96f1e591-dcef-4d00-84ec-6629930ff3e5",
   "metadata": {},
   "outputs": [],
   "source": [
    "from sklearn.metrics import recall_score\n",
    "score = recall_score(y_valid, pred_dummy)\n",
    "print(f\"dummy: {score}\")\n",
    "score = recall_score(y_valid, pred_clf)\n",
    "print(f\"model: {score}\")"
   ]
  },
  {
   "cell_type": "markdown",
   "id": "355a4da3-4f6b-43e1-8b5a-0b94384ede3a",
   "metadata": {},
   "source": [
    "#### f1 score"
   ]
  },
  {
   "cell_type": "code",
   "execution_count": 27,
   "id": "d7e12eef-caf8-4b94-8282-059b557dc6eb",
   "metadata": {},
   "outputs": [
    {
     "name": "stdout",
     "output_type": "stream",
     "text": [
      "dummy: 0.0\n",
      "model: 0.9464285714285715\n"
     ]
    }
   ],
   "source": [
    "from sklearn.metrics import f1_score\n",
    "score = f1_score(y_valid, pred_dummy)\n",
    "print(f\"dummy: {score}\")\n",
    "score = f1_score(y_valid, pred_clf)\n",
    "print(f\"model: {score}\")\n"
   ]
  },
  {
   "cell_type": "markdown",
   "id": "7b783350-6b8a-4122-a219-d529eb6097a9",
   "metadata": {},
   "source": [
    "#### 한번에 다 나오는 방법"
   ]
  },
  {
   "cell_type": "code",
   "execution_count": 28,
   "id": "0a562cc9-5114-4969-99a3-974899fbb82b",
   "metadata": {},
   "outputs": [
    {
     "name": "stdout",
     "output_type": "stream",
     "text": [
      "              precision    recall  f1-score   support\n",
      "\n",
      "           0       0.87      1.00      0.93       391\n",
      "           1       0.00      0.00      0.00        59\n",
      "\n",
      "    accuracy                           0.87       450\n",
      "   macro avg       0.43      0.50      0.46       450\n",
      "weighted avg       0.75      0.87      0.81       450\n",
      "\n",
      "----------------------------------------------------------------------------------------------------\n",
      "              precision    recall  f1-score   support\n",
      "\n",
      "           0       0.98      1.00      0.99       391\n",
      "           1       1.00      0.90      0.95        59\n",
      "\n",
      "    accuracy                           0.99       450\n",
      "   macro avg       0.99      0.95      0.97       450\n",
      "weighted avg       0.99      0.99      0.99       450\n",
      "\n"
     ]
    },
    {
     "name": "stderr",
     "output_type": "stream",
     "text": [
      "C:\\Users\\User\\anaconda3\\lib\\site-packages\\sklearn\\metrics\\_classification.py:1318: UndefinedMetricWarning: Precision and F-score are ill-defined and being set to 0.0 in labels with no predicted samples. Use `zero_division` parameter to control this behavior.\n",
      "  _warn_prf(average, modifier, msg_start, len(result))\n",
      "C:\\Users\\User\\anaconda3\\lib\\site-packages\\sklearn\\metrics\\_classification.py:1318: UndefinedMetricWarning: Precision and F-score are ill-defined and being set to 0.0 in labels with no predicted samples. Use `zero_division` parameter to control this behavior.\n",
      "  _warn_prf(average, modifier, msg_start, len(result))\n",
      "C:\\Users\\User\\anaconda3\\lib\\site-packages\\sklearn\\metrics\\_classification.py:1318: UndefinedMetricWarning: Precision and F-score are ill-defined and being set to 0.0 in labels with no predicted samples. Use `zero_division` parameter to control this behavior.\n",
      "  _warn_prf(average, modifier, msg_start, len(result))\n"
     ]
    }
   ],
   "source": [
    "from sklearn.metrics import classification_report\n",
    "\n",
    "print(classification_report(y_valid, pred_dummy))\n",
    "print('-'*100)\n",
    "print(classification_report(y_valid, pred_clf))"
   ]
  },
  {
   "cell_type": "markdown",
   "id": "1d788fb9-2dbf-461e-8915-a6598499c8f7",
   "metadata": {},
   "source": [
    "#### 그림으로 나타내는 방법"
   ]
  },
  {
   "cell_type": "code",
   "execution_count": 44,
   "id": "2a5bb0d9-f667-4fb5-adb3-1fb288ec9469",
   "metadata": {},
   "outputs": [
    {
     "data": {
      "image/png": "[encoded data removed]",
      "text/plain": [
       "<Figure size 1080x360 with 4 Axes>"
      ]
     },
     "metadata": {
      "needs_background": "light"
     },
     "output_type": "display_data"
    }
   ],
   "source": [
    "from sklearn.metrics import confusion_matrix, ConfusionMatrixDisplay\n",
    "\n",
    "fig , ax = plt.subplots(1,2,figsize=(15,5))\n",
    "\n",
    "cm = confusion_matrix(y_valid,pred_dummy) \n",
    "disp = ConfusionMatrixDisplay(confusion_matrix=cm)\n",
    "disp.plot(ax = ax[0])\n",
    "\n",
    "cm = confusion_matrix(y_valid,pred_clf) \n",
    "disp = ConfusionMatrixDisplay(confusion_matrix=cm)\n",
    "disp.plot(ax = ax[1])\n",
    "\n",
    "plt.show()"
   ]
  },
  {
   "cell_type": "markdown",
   "id": "bd974d88-0774-44ce-8bea-8d241dedfddc",
   "metadata": {},
   "source": [
    "### 임계값(Thresholds) 설정\n",
    "- 모델은 분류에서 확률(0~1) 또는 음수에서 양수 사이에 실수를 예측값으로 출력\n",
    "- 사이킷런에서는 `predict_proba()`, `dicision_funtion()` 제공\n",
    "  - `predict_proba()`: 0.5 이상이면 1로 예측\n",
    "  - `dicision_funtion()`: 0 이상이면 1로 예측"
   ]
  },
  {
   "cell_type": "code",
   "execution_count": 29,
   "id": "8e25fb69-811f-4b77-9081-d7096877b18a",
   "metadata": {},
   "outputs": [],
   "source": [
    "pred_proba = sgd_clf.decision_function(x_valid) #예측값"
   ]
  },
  {
   "cell_type": "code",
   "execution_count": 49,
   "id": "1eb6be6a-abdc-4962-8624-a71e69ae13d1",
   "metadata": {},
   "outputs": [
    {
     "data": {
      "text/plain": [
       "(0.13111111111111112, 1.0)"
      ]
     },
     "execution_count": 49,
     "metadata": {},
     "output_type": "execute_result"
    }
   ],
   "source": [
    "threshold = 0 # 사이킷런의 디폴트값\n",
    "pred = np.where(pred_proba > threshold , 1 ,0)\n",
    "\n",
    "precision_score(y_valid,pred) , recall_score(y_valid,pred)"
   ]
  },
  {
   "cell_type": "code",
   "execution_count": 50,
   "id": "6cf7dc19-70ab-4ade-abf3-1b06ba8c10dd",
   "metadata": {},
   "outputs": [
    {
     "name": "stderr",
     "output_type": "stream",
     "text": [
      "C:\\Users\\User\\anaconda3\\lib\\site-packages\\sklearn\\metrics\\_classification.py:1318: UndefinedMetricWarning: Precision is ill-defined and being set to 0.0 due to no predicted samples. Use `zero_division` parameter to control this behavior.\n",
      "  _warn_prf(average, modifier, msg_start, len(result))\n"
     ]
    },
    {
     "data": {
      "text/plain": [
       "(0.0, 0.0)"
      ]
     },
     "execution_count": 50,
     "metadata": {},
     "output_type": "execute_result"
    }
   ],
   "source": [
    "threshold = 30000\n",
    "pred = np.where(pred_proba > threshold , 1 ,0)\n",
    "\n",
    "precision_score(y_valid,pred) , recall_score(y_valid,pred)"
   ]
  },
  {
   "cell_type": "code",
   "execution_count": 51,
   "id": "c5efa51e-3f05-4099-88c5-e92026a8bedb",
   "metadata": {},
   "outputs": [
    {
     "data": {
      "text/plain": [
       "(0.13111111111111112, 1.0)"
      ]
     },
     "execution_count": 51,
     "metadata": {},
     "output_type": "execute_result"
    }
   ],
   "source": [
    "threshold = -30000\n",
    "pred = np.where(pred_proba > threshold , 1 ,0)\n",
    "\n",
    "precision_score(y_valid,pred) , recall_score(y_valid,pred)"
   ]
  },
  {
   "cell_type": "markdown",
   "id": "b5e482c3-5365-45ea-b7ee-bdaa56afeaa6",
   "metadata": {},
   "source": [
    "- DecisionTreeClassifier"
   ]
  },
  {
   "cell_type": "code",
   "execution_count": 33,
   "id": "e52d5839-37ba-4535-b4ab-37b71ee9bf1c",
   "metadata": {},
   "outputs": [],
   "source": [
    "from sklearn.tree import DecisionTreeClassifier\n",
    "# 모델 생성\n",
    "tree = DecisionTreeClassifier(max_depth=3,random_state=SEED)\n",
    "# 모델 학습\n",
    "tree.fit(x_train,y_train)\n",
    "# 모델 평가: predict -> predict_proba(확률)을 이용해 threshold를 적용할 결과\n",
    "pred_tree = tree.predict(x_valid)"
   ]
  },
  {
   "cell_type": "code",
   "execution_count": 34,
   "id": "ef3ee906-306d-4ac4-9694-c12c139929cd",
   "metadata": {},
   "outputs": [
    {
     "data": {
      "text/plain": [
       "array([0, 0, 0])"
      ]
     },
     "execution_count": 34,
     "metadata": {},
     "output_type": "execute_result"
    }
   ],
   "source": [
    "pred_tree[:3]"
   ]
  },
  {
   "cell_type": "code",
   "execution_count": 35,
   "id": "a947331c-a1c6-4881-852d-ee64c5840936",
   "metadata": {},
   "outputs": [],
   "source": [
    "pred_proba = tree.predict_proba(x_valid)[:,1]"
   ]
  },
  {
   "cell_type": "code",
   "execution_count": 36,
   "id": "0ddf0d33-07c7-4c0f-868d-8e188d1d7592",
   "metadata": {},
   "outputs": [
    {
     "data": {
      "text/plain": [
       "array([0.02371542, 0.01059322, 0.01059322])"
      ]
     },
     "execution_count": 36,
     "metadata": {},
     "output_type": "execute_result"
    }
   ],
   "source": [
    "pred_proba[:3] # 3개만 뽑음"
   ]
  },
  {
   "cell_type": "code",
   "execution_count": 40,
   "id": "f600e1d1-f237-43ab-9dab-0cfb6bc840d4",
   "metadata": {},
   "outputs": [
    {
     "data": {
      "text/plain": [
       "(0.9811320754716981, 0.8813559322033898)"
      ]
     },
     "execution_count": 40,
     "metadata": {},
     "output_type": "execute_result"
    }
   ],
   "source": [
    "threshold = 0.5 # 사이킷런의 디폴트값\n",
    "pred = np.where(pred_proba > threshold , 1 ,0)\n",
    "\n",
    "precision_score(y_valid,pred) , recall_score(y_valid,pred)"
   ]
  },
  {
   "cell_type": "code",
   "execution_count": 41,
   "id": "23c9dbc5-e2df-4d23-87fb-a30c278a057e",
   "metadata": {},
   "outputs": [
    {
     "data": {
      "text/plain": [
       "(0.9811320754716981, 0.8813559322033898)"
      ]
     },
     "execution_count": 41,
     "metadata": {},
     "output_type": "execute_result"
    }
   ],
   "source": [
    "threshold = 0.9\n",
    "pred = np.where(pred_proba > threshold , 1 ,0)\n",
    "\n",
    "precision_score(y_valid,pred) , recall_score(y_valid,pred)"
   ]
  },
  {
   "cell_type": "code",
   "execution_count": 43,
   "id": "f514dc1d-3a02-4e34-a578-7be8f122faea",
   "metadata": {},
   "outputs": [
    {
     "data": {
      "text/plain": [
       "(0.8813559322033898, 0.8813559322033898)"
      ]
     },
     "execution_count": 43,
     "metadata": {},
     "output_type": "execute_result"
    }
   ],
   "source": [
    "threshold = 0.1\n",
    "pred = np.where(pred_proba > threshold , 1 ,0)\n",
    "\n",
    "precision_score(y_valid,pred) , recall_score(y_valid,pred)"
   ]
  },
  {
   "cell_type": "code",
   "execution_count": 45,
   "id": "2a7f4fad-5cad-4f24-b144-eba26801b270",
   "metadata": {},
   "outputs": [
    {
     "data": {
      "text/plain": [
       "array([[391,   0],\n",
       "       [  6,  53]], dtype=int64)"
      ]
     },
     "execution_count": 45,
     "metadata": {},
     "output_type": "execute_result"
    }
   ],
   "source": [
    "from sklearn.metrics import confusion_matrix\n",
    "\n",
    "confusion_matrix(y_valid, pred_clf)"
   ]
  },
  {
   "cell_type": "markdown",
   "id": "bcb91287-ed1b-45e3-ab31-a8b4381f0e2d",
   "metadata": {},
   "source": [
    "# 분류 모델일떄 성능 평가 - multi 모델일떄"
   ]
  },
  {
   "cell_type": "markdown",
   "id": "2b089d9b-c347-490a-9126-b6657732107f",
   "metadata": {},
   "source": [
    "## ROC curve\n",
    "- 넓을수록 모형 성능이 좋다\n",
    "- 임계값이 어떻게 선택되었는지와 무관하게 모델의 예측 품질 측정"
   ]
  },
  {
   "cell_type": "code",
   "execution_count": 46,
   "id": "6b9dc29f-c9ce-4e7e-a53e-f757a92f21f3",
   "metadata": {},
   "outputs": [],
   "source": [
    "pred_dummy = dummy.predict_proba(x_valid)[:,1] # 1에 대한 확률만 가져오겠다.\n",
    "pred_tree = tree.predict_proba(x_valid)[:,1]"
   ]
  },
  {
   "cell_type": "code",
   "execution_count": 47,
   "id": "1e780aac-f613-48f3-987d-c64d8ef7264d",
   "metadata": {},
   "outputs": [
    {
     "data": {
      "image/png": "[encoded data removed]",
      "text/plain": [
       "<Figure size 432x288 with 1 Axes>"
      ]
     },
     "metadata": {
      "needs_background": "light"
     },
     "output_type": "display_data"
    }
   ],
   "source": [
    "from sklearn.metrics import RocCurveDisplay\n",
    "\n",
    "fig,ax = plt.subplots()\n",
    "RocCurveDisplay.from_predictions(y_valid,pred_dummy,ax=ax)\n",
    "RocCurveDisplay.from_predictions(y_valid,pred_tree,ax=ax)\n",
    "plt.show()"
   ]
  },
  {
   "cell_type": "code",
   "execution_count": 52,
   "id": "2799ef2a-c6b8-466f-893c-fe47aa532753",
   "metadata": {},
   "outputs": [
    {
     "name": "stdout",
     "output_type": "stream",
     "text": [
      "dummy: 0.5\n",
      "--------------------------------------------------\n",
      "model: 0.9479604664268065\n"
     ]
    }
   ],
   "source": [
    "from sklearn.metrics import roc_curve, auc \n",
    "\n",
    "fpr, tpr, thresholds = roc_curve(y_valid,pred_dummy)\n",
    "print(f'dummy: {auc(fpr, tpr)}')\n",
    "print('-'*50)\n",
    "fpr, tpr, thresholds = roc_curve(y_valid,pred_tree)\n",
    "print(f'model: {auc(fpr, tpr)}')"
   ]
  },
  {
   "cell_type": "markdown",
   "id": "36684675-2d3c-418f-bce2-3e679ab827f9",
   "metadata": {},
   "source": [
    "### 예제"
   ]
  },
  {
   "cell_type": "code",
   "execution_count": 53,
   "id": "ebd1e3d6-806f-42c0-b119-47912428517f",
   "metadata": {},
   "outputs": [
    {
     "data": {
      "text/plain": [
       "((1347, 64), (450, 64), (1347,), (450,))"
      ]
     },
     "execution_count": 53,
     "metadata": {},
     "output_type": "execute_result"
    }
   ],
   "source": [
    "digits = load_digits()\n",
    "\n",
    "data = digits.data\n",
    "target = digits.target\n",
    "\n",
    "x_train,x_valid,y_train,y_valid = train_test_split(data,target,random_state=SEED)\n",
    "\n",
    "x_train.shape, x_valid.shape, y_train.shape, y_valid.shape"
   ]
  },
  {
   "cell_type": "code",
   "execution_count": 54,
   "id": "dc5e748e-71e9-467e-9d83-1c821ba233bc",
   "metadata": {},
   "outputs": [],
   "source": [
    "tree = DecisionTreeClassifier(max_depth = 5 , random_state=SEED)\n",
    "tree.fit(x_train,y_train)\n",
    "pred = tree.predict(x_valid)"
   ]
  },
  {
   "cell_type": "code",
   "execution_count": 55,
   "id": "e8408f4d-bdb2-4631-86fe-f825e55d9f18",
   "metadata": {},
   "outputs": [
    {
     "name": "stdout",
     "output_type": "stream",
     "text": [
      "              precision    recall  f1-score   support\n",
      "\n",
      "           0       1.00      0.91      0.95        43\n",
      "           1       0.32      0.32      0.32        37\n",
      "           2       0.56      0.66      0.60        38\n",
      "           3       0.87      0.85      0.86        46\n",
      "           4       0.80      0.78      0.79        55\n",
      "           5       0.73      0.19      0.30        59\n",
      "           6       0.95      0.89      0.92        45\n",
      "           7       0.90      0.68      0.78        41\n",
      "           8       0.37      0.61      0.46        38\n",
      "           9       0.52      0.85      0.65        48\n",
      "\n",
      "    accuracy                           0.67       450\n",
      "   macro avg       0.70      0.67      0.66       450\n",
      "weighted avg       0.71      0.67      0.66       450\n",
      "\n"
     ]
    }
   ],
   "source": [
    "print(classification_report(y_valid,pred))"
   ]
  },
  {
   "cell_type": "code",
   "execution_count": 56,
   "id": "bff81244-ee22-4419-a9b6-05d9287825e7",
   "metadata": {},
   "outputs": [
    {
     "data": {
      "text/plain": [
       "0.6688888888888889"
      ]
     },
     "execution_count": 56,
     "metadata": {},
     "output_type": "execute_result"
    }
   ],
   "source": [
    "f1_score(y_valid,pred,average=\"micro\")"
   ]
  },
  {
   "cell_type": "code",
   "execution_count": 57,
   "id": "43ec0fb2-85b0-4c5d-8c26-3e54d461742a",
   "metadata": {},
   "outputs": [
    {
     "data": {
      "text/plain": [
       "0.6620047429878985"
      ]
     },
     "execution_count": 57,
     "metadata": {},
     "output_type": "execute_result"
    }
   ],
   "source": [
    "f1_score(y_valid,pred,average=\"macro\")"
   ]
  },
  {
   "cell_type": "code",
   "execution_count": 58,
   "id": "acf22a98-2bf9-4147-8cb0-79dff960c9b5",
   "metadata": {},
   "outputs": [
    {
     "data": {
      "text/plain": [
       "0.6616398619763888"
      ]
     },
     "execution_count": 58,
     "metadata": {},
     "output_type": "execute_result"
    }
   ],
   "source": [
    "f1_score(y_valid,pred,average=\"weighted\")"
   ]
  },
  {
   "cell_type": "code",
   "execution_count": null,
   "id": "62db7c3c-91a3-4116-831c-4859d7b8e08b",
   "metadata": {},
   "outputs": [],
   "source": []
  },
  {
   "cell_type": "code",
   "execution_count": null,
   "id": "0da77827-1cf5-4628-bf4b-bb9c003c92ac",
   "metadata": {},
   "outputs": [],
   "source": []
  }
 ],
 "metadata": {
  "kernelspec": {
   "display_name": "Python 3 (ipykernel)",
   "language": "python",
   "name": "python3"
  },
  "language_info": {
   "codemirror_mode": {
    "name": "ipython",
    "version": 3
   },
   "file_extension": ".py",
   "mimetype": "text/x-python",
   "name": "python",
   "nbconvert_exporter": "python",
   "pygments_lexer": "ipython3",
   "version": "3.9.12"
  }
 },
 "nbformat": 4,
 "nbformat_minor": 5
}
